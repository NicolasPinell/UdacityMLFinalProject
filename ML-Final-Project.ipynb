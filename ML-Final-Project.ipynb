{
 "cells": [
  {
   "cell_type": "code",
   "execution_count": 1,
   "metadata": {
    "colab": {},
    "colab_type": "code",
    "id": "EDZPgkeJ_ptc"
   },
   "outputs": [],
   "source": [
    "# import libraries\n",
    "import pandas as pd\n",
    "import numpy as np\n",
    "import os\n",
    "import re"
   ]
  },
  {
   "cell_type": "code",
   "execution_count": 2,
   "metadata": {
    "colab": {},
    "colab_type": "code",
    "id": "Oi8-J1i6B8fm"
   },
   "outputs": [],
   "source": [
    "#from google.colab import files\n",
    "#uploaded = files.upload()\n",
    "#!unzip nlp-getting-started.zip"
   ]
  },
  {
   "cell_type": "code",
   "execution_count": 3,
   "metadata": {
    "colab": {},
    "colab_type": "code",
    "id": "wceVleFSCkKW"
   },
   "outputs": [],
   "source": [
    "train_df = pd.read_csv('train.csv')\n",
    "#print(train_df)\n",
    "\n",
    "test_df = pd.read_csv('test.csv')\n",
    "#print(test_df)\n",
    "\n",
    "submission_df = pd.read_csv('sample_submission.csv')\n",
    "#print(submission_df)"
   ]
  },
  {
   "cell_type": "code",
   "execution_count": 4,
   "metadata": {},
   "outputs": [
    {
     "name": "stdout",
     "output_type": "stream",
     "text": [
      "0\n"
     ]
    }
   ],
   "source": [
    "from sklearn.utils import shuffle\n",
    "\n",
    "data_s = shuffle(train_df, random_state=0).reset_index(drop = True)\n",
    "\n",
    "#.reset_index(drop = True)\n",
    "\n",
    "#data_s = data_s.reset_index(drop = True)\n",
    "\n",
    "train_n = int(data_s['id'].count()*.8)\n",
    "\n",
    "#followers_df.reset_index()\n",
    "#followers_df.reindex(index=range(0,20))\n",
    "\n",
    "#j = np.sum(s[0])\n",
    "\n",
    "#data = train_df.iloc[:,:-1]\n",
    "\n",
    "#labels = pd.concat([pd.DataFrame(train_y), pd.DataFrame(train_X_len), pd.DataFrame(train_X)\n",
    "#labels = pd.concat(train_df.iloc[:,0] + train_df.iloc[:,-1])\n",
    "\n",
    "print(data_s.iloc[0:train_n,0].size + data_s.iloc[train_n:,0].size - data_s.iloc[:,0].size)\n",
    "\n",
    "train = data_s.iloc[0:train_n]\n",
    "test = data_s.iloc[train_n:]"
   ]
  },
  {
   "cell_type": "code",
   "execution_count": 5,
   "metadata": {
    "colab": {
     "base_uri": "https://localhost:8080/",
     "height": 34
    },
    "colab_type": "code",
    "id": "jSRDJfUFEBbn",
    "outputId": "12a0f84c-7e56-472f-ef46-aa39deacfde7"
   },
   "outputs": [
    {
     "name": "stdout",
     "output_type": "stream",
     "text": [
      "False\n"
     ]
    }
   ],
   "source": [
    "train_df = train.dropna()\n",
    "print(train_df.isnull().values.any())"
   ]
  },
  {
   "cell_type": "code",
   "execution_count": 6,
   "metadata": {
    "colab": {
     "base_uri": "https://localhost:8080/",
     "height": 136
    },
    "colab_type": "code",
    "id": "985drWYwEwto",
    "outputId": "91907ce5-ef0f-41f6-8221-30d5deca479d"
   },
   "outputs": [
    {
     "name": "stdout",
     "output_type": "stream",
     "text": [
      "target      False\n",
      "id          False\n",
      "keyword      True\n",
      "location     True\n",
      "text         True\n",
      "dtype: bool\n",
      "['keyword' 'location' 'text']\n"
     ]
    }
   ],
   "source": [
    "cols = train_df.columns.tolist()\n",
    "cols.insert(0, cols.pop(cols.index('target')))\n",
    "train_df = train_df.reindex(columns= cols)\n",
    "\n",
    "print(train_df.dtypes=='object')\n",
    "print(train_df.select_dtypes(exclude='number').columns.values)\n",
    "#print(train_df[train_df['text']==])"
   ]
  },
  {
   "cell_type": "code",
   "execution_count": 7,
   "metadata": {
    "colab": {},
    "colab_type": "code",
    "id": "8_-cSgUiNX1H"
   },
   "outputs": [],
   "source": [
    "#train_df = train_df.applymap(lambda s:s.lower() if type(s) == str else s)\n",
    "\n",
    "#URLless_string = re.sub(r'(?i)\\b((?:https?://|www\\d{0,3}[.]|[a-z0-9.\\-]+[.][a-z]{2,4}/)(?:[^\\s()<>]+|\\(([^\\s()<>]+|(\\([^\\s()<>]+\\)))*\\))+(?:\\(([^\\s()<>]+|(\\([^\\s()<>]+\\)))*\\)|[^\\s`!()\\[\\]{};:\\'\".,<>?«»“”‘’]))', '', thestring)\n",
    "\n",
    "#train_df = train_df.replace(r'(?i)\\b((?:https?://|www\\d{0,3}[.]|[a-z0-9.\\-]+[.][a-z]{2,4}/)(?:[^\\s()<>]+|\\(([^\\s()<>]+|(\\([^\\s()<>]+\\)))*\\))+(?:\\(([^\\s()<>]+|(\\([^\\s()<>]+\\)))*\\)|[^\\s`!()\\[\\]{};:\\'\".,<>?«»“”‘’]))', '',regex=True)\n",
    "\n",
    "#text = re.sub(r'^https?:\\/\\/.*[\\r\\n]*', '', text, flags=re.MULTILINE)\n",
    "\n",
    "#train_df = train_df.replace('[^a-zA-Z ]', '',regex=True)\n",
    "\n",
    "#train_df = train_df.applymap(lambda s:re.sub(\"^a-zA-Z0-9\", \"\", s))\n",
    "\n",
    "#string_columns = train_df.select_dtypes(exclude='number').columns.values\n",
    "\n",
    "#for i in string_columns:\n",
    "#  for j in train_df.index:\n",
    "#    try:\n",
    "#      h = 2\n",
    "      #train_df[i][j] = train_df[i][j].lower()\n",
    "      #train_df[i][j] = re.sub()  \n",
    "#    except:\n",
    "#      pass\n",
    "    \n",
    "#print(train_df)"
   ]
  },
  {
   "cell_type": "code",
   "execution_count": 8,
   "metadata": {
    "colab": {},
    "colab_type": "code",
    "id": "QPr4Z0D3FiNX"
   },
   "outputs": [],
   "source": [
    "import nltk\n",
    "from nltk.corpus import stopwords\n",
    "from nltk.stem.porter import *\n",
    "#!pip install urllib.request\n",
    "from urllib.request import urlopen\n",
    "#from urllib2 import urlopen\n",
    "\n",
    "import re\n",
    "from bs4 import BeautifulSoup\n",
    "\n",
    "def review_to_words(review):\n",
    "    nltk.download(\"stopwords\", quiet=True)\n",
    "    stemmer = PorterStemmer()\n",
    "    \n",
    "    text = BeautifulSoup(review, \"html.parser\").get_text() # Remove HTML tags\n",
    "    text = re.sub(r\"[^a-zA-Z]\", \" \", text.lower()) # Convert to lower case\n",
    "    words = text.split() # Split string into words\n",
    "    words = [w for w in words if w not in stopwords.words(\"english\")] # Remove stopwords\n",
    "    words = [PorterStemmer().stem(w) for w in words] # stem\n",
    "    \n",
    "    return words"
   ]
  },
  {
   "cell_type": "code",
   "execution_count": 9,
   "metadata": {
    "colab": {
     "base_uri": "https://localhost:8080/",
     "height": 255
    },
    "colab_type": "code",
    "id": "8CQNfQTTFuMV",
    "outputId": "eb49c1e1-c3d6-476a-eb41-49893f01229b"
   },
   "outputs": [
    {
     "name": "stdout",
     "output_type": "stream",
     "text": [
      "      target     id                keyword                       location  \\\n",
      "0          0    454             armageddon                  Wrigley Field   \n",
      "1          0   7086               meltdown                Two Up Two Down   \n",
      "2          0    762              avalanche      Score Team Goals Buying @   \n",
      "3          0   9094         suicide%20bomb                       Roadside   \n",
      "4          0   1160                 blight            Laventillemoorings    \n",
      "5          0   4410            electrocute                     Naperville   \n",
      "6          0   2635                crashed                    Lindenhurst   \n",
      "7          0   3259               demolish             Eastbourne England   \n",
      "8          1   1775  buildings%20on%20fire                 Manchester, NH   \n",
      "9          0   1917                burning  [ kate + they/them + infp-t ]   \n",
      "11         1   7205     natural%20disaster                            USA   \n",
      "12         0   4926               exploded              South east of U.K   \n",
      "13         0   3167                 deluge                  Melbourne-ish   \n",
      "15         1   2213   chemical%20emergency            Ukraine and Ireland   \n",
      "16         0   3657                destroy                 Washington, DC   \n",
      "17         0   8887                  smoke           Winnipeg, MB, Canada   \n",
      "19         1   9161       suicide%20bomber          19.600858, -99.047821   \n",
      "20         0   8348                   ruin            London / Birmingham   \n",
      "21         0   9439              survivors                        Numenor   \n",
      "22         1   6519               injuries                    Carterville   \n",
      "27         1   1632                bombing                 Shipwreck Cove   \n",
      "28         0   4548       emergency%20plan                   Antioch, CA    \n",
      "29         0   3395             demolition                 Washington, DC   \n",
      "30         0  10056                twister                         london   \n",
      "31         0  10317                 weapon                        CT, USA   \n",
      "32         1   8259                rioting             trapped in America   \n",
      "34         1    104               accident         Walker County, Alabama   \n",
      "35         0   2245   chemical%20emergency                Jersey City, NJ   \n",
      "37         0   2765                 curfew           Im Around ... Jersey   \n",
      "39         0   2359              collapsed                  Henderson, NV   \n",
      "...      ...    ...                    ...                            ...   \n",
      "6039       0  10013                twister                  United States   \n",
      "6041       0   9971                tsunami                    Louavul, KY   \n",
      "6043       1   8404              sandstorm                            USA   \n",
      "6044       1   3595               desolate            the insane asylum.    \n",
      "6045       0   3042                  death            Los Angeles,CA, USA   \n",
      "6046       1   9249                   sunk                       New York   \n",
      "6047       0   2616                crashed           52.479722, 62.184971   \n",
      "6049       0   1276                  blood                   Buenos Aires   \n",
      "6050       1   6880          mass%20murder                      Realville   \n",
      "6054       0   4178                  drown          Gainesville/Tampa, FL   \n",
      "6055       1   2883                 damage        Somewhere in the Canada   \n",
      "6056       0    625               arsonist                  WASHINGTON,DC   \n",
      "6057       0   9268                   sunk                NAIROBI  KENYA    \n",
      "6063       0   7491           obliteration                          India   \n",
      "6065       0   5298                   fear               Athens - Nicosia   \n",
      "6066       1   5494                 flames                          U.S.A   \n",
      "6067       0   2695                  crush                      w. Nykae    \n",
      "6068       1   3812               detonate                 Broomfield, CO   \n",
      "6069       0   1182               blizzard          Guelph Ontario Canada   \n",
      "6073       0   5843              hailstorm                       far away   \n",
      "6074       0   2899                 damage                          USAoV   \n",
      "6077       0   7851            quarantined                   South Africa   \n",
      "6078       0   4912               exploded                 Trost District   \n",
      "6079       1   6048            heat%20wave                 London, Riyadh   \n",
      "6080       1  10533               wildfire                            USA   \n",
      "6081       0   8797                 sirens                    Canada Eh!    \n",
      "6082       0   9763                trapped                        Orlando   \n",
      "6083       0   8490               screamed                with Doflamingo   \n",
      "6085       1   9522              terrorist          proudly South African   \n",
      "6087       1    340            annihilated                 Swaning Around   \n",
      "\n",
      "                                                   text  \n",
      "0     [katiekatcub, alreadi, know, shit, goe, world,...  \n",
      "1     [lemairele, danharmon, peopl, near, meltdown, ...  \n",
      "2     [tix, calgari, flame, vs, col, avalanch, prese...  \n",
      "3     [ever, think, run, choic, life, rembr, kid, ch...  \n",
      "4         [dotish, blight, car, go, right, ahead, mine]  \n",
      "5                                          [electrocut]  \n",
      "6     [thief, broke, front, window, hicksvil, store,...  \n",
      "7     [doon, silver, architect, permiss, demolish, b...  \n",
      "8     [fire, destroy, two, build, nd, street, manche...  \n",
      "9     [minsuwoong, complet, understand, woke, like, ...  \n",
      "11    [come, later, year, man, tattoo, women, novel,...  \n",
      "12    [saw, man, whose, mind, explod, drako, zarharz...  \n",
      "13    [despit, delug, fantasticfour, notic, man, cua...  \n",
      "15    [russian, nuclear, biolog, chemic, nbc, brigad...  \n",
      "16    [gop, want, destroy, america, obama, dilut, in...  \n",
      "17    [mental, twitter, note, make, sure, smoke, ala...  \n",
      "19    [mosqu, bomb, strike, saudi, special, forc, le...  \n",
      "20    [im, anxiou, though, mani, ppl, watch, meet, m...  \n",
      "21    [haley, lu, richardson, fight, water, last, su...  \n",
      "22    [cartervil, high, school, coach, prepar, game,...  \n",
      "27    [year, one, hour, sinc, bomb, hiroshima, let, ...  \n",
      "28    [printabl, emerg, plan, templat, http, co, nae...  \n",
      "29    [china, detain, seven, christian, tri, protect...  \n",
      "30    [rep, fantast, laura, miln, thejonesesvoic, li...  \n",
      "31    [camilla, craykain, hate, shatter, delus, hatc...  \n",
      "32    [evacid, ferguson, riot, work, next, time, say...  \n",
      "34    [report, motor, vehicl, accid, curri, herman, ...  \n",
      "35    [laevantin, fortun, rework, plumb, emerg, chem...  \n",
      "37                    [curfew, realli, help, think, bc]  \n",
      "39    [gut, deutsch, musik, old, rotten, monarchi, c...  \n",
      "...                                                 ...  \n",
      "6039     [love, twister, thetwist, maddi, tae, oktxduo]  \n",
      "6041  [bbshelli, seem, pretti, sure, one, go, stay, bb]  \n",
      "6043  [watch, airport, get, swallow, sandstorm, minu...  \n",
      "6044  [corleonedaboss, bc, riski, costli, see, need,...  \n",
      "6045  [video, slain, mexican, journalist, unknowingl...  \n",
      "6046  [aquarium, ornament, wreck, sail, boat, sunk, ...  \n",
      "6047    [rosewel, crash, mani, time, past, coupl, hour]  \n",
      "6049                    [se, pone, cantar, cri, lightn]  \n",
      "6050  [flgovscott, allow, farrakhan, challeng, male,...  \n",
      "6054                 [real, nigga, hold, suppos, drown]  \n",
      "6055  [nine, inmat, charg, caus, damag, calgari, rem...  \n",
      "6056  [zodiac, girl, feat, trey, dupre, produc, spar...  \n",
      "6057  [arrestpastornganga, worri, see, polic, offic,...  \n",
      "6063  [justifi, quarrel, would, one, day, end, oblit...  \n",
      "6065  [coupl, less, sex, fear, let, internet, movi, ...  \n",
      "6066  [maryland, mansion, fire, kill, caus, damag, p...  \n",
      "6067         [crush, wce, nyka, http, co, mkjo, x, dko]  \n",
      "6068  [boulder, deputi, wait, bomb, squad, deton, gr...  \n",
      "6069  [new, print, avail, http, co, uci, fea, yu, wa...  \n",
      "6073  [calgari, news, weather, traffic, august, http...  \n",
      "6074  [lmao, fuckboy, chang, damag, control, pseudoj...  \n",
      "6077  [hot, reddit, new, content, polici, goe, effec...  \n",
      "6078  [crimsonfuckingv, bitchl, vecannon, even, admi...  \n",
      "6079  [someth, frighten, happen, weather, middl, eas...  \n",
      "6080  [latest, wildfir, destroy, home, crew, advanc,...  \n",
      "6081  [raychielovesu, block, hear, siren, stori, kid...  \n",
      "6082  [hollywood, movi, trap, miner, releas, chile, ...  \n",
      "6083              [kinda, scream, http, co, msuy, qtpk]  \n",
      "6085  [swiftycommissh, taoistinsight, immortaltech, ...  \n",
      "6087  [annihil, damascu, syrian, armi, grind, alloos...  \n",
      "\n",
      "[4079 rows x 5 columns]\n"
     ]
    }
   ],
   "source": [
    "train_df['text'] = train_df['text'].apply(lambda s:review_to_words(s) if type(s) == str else s)\n",
    "#review_to_words(train_df)\n",
    "print(train_df)"
   ]
  },
  {
   "cell_type": "code",
   "execution_count": 10,
   "metadata": {
    "colab": {},
    "colab_type": "code",
    "id": "KxUMjxyYULSM"
   },
   "outputs": [],
   "source": [
    "import numpy as np\n",
    "\n",
    "def build_dict(data, vocab_size = 5000):\n",
    "    \"\"\"Construct and return a dictionary mapping each of the most frequently appearing words to a unique integer.\"\"\"\n",
    "\n",
    "    from collections import Counter\n",
    "\n",
    "    words = []\n",
    "    \n",
    "    words = np.hstack(data)\n",
    "    \n",
    "    word_count = {} \n",
    "    word_count = Counter(words)\n",
    "     \n",
    "    sorted_words = sorted(word_count, key=word_count.get, reverse=True)\n",
    "    \n",
    "    word_dict = {} \n",
    "    for idx, word in enumerate(sorted_words[:vocab_size - 2]): \n",
    "        word_dict[word] = idx + 2                              \n",
    "        \n",
    "    return word_dict"
   ]
  },
  {
   "cell_type": "code",
   "execution_count": 11,
   "metadata": {
    "colab": {
     "base_uri": "https://localhost:8080/",
     "height": 54
    },
    "colab_type": "code",
    "id": "VMdV4yH2UqlQ",
    "outputId": "bb627067-733a-4a8f-dcd3-985358d02494"
   },
   "outputs": [
    {
     "name": "stdout",
     "output_type": "stream",
     "text": [
      "{'co': 2, 'http': 3, 'like': 4, 'fire': 5, 'get': 6, 'new': 7, 'via': 8, 'bomb': 9, 'peopl': 10, 'u': 11, 'news': 12, 'one': 13, 'time': 14, 'go': 15, 'emerg': 16, 'attack': 17, 'burn': 18, 'build': 19, 'day': 20, 'year': 21, 'look': 22, 'w': 23, 'flood': 24, 'kill': 25, 'disast': 26, 'video': 27, 'p': 28, 'bodi': 29, 'polic': 30, 'say': 31, 'see': 32, 'us': 33, 'make': 34, 'know': 35, 'watch': 36, 'fatal': 37, 'would': 38, 'crash': 39, 'x': 40, 'love': 41, 'man': 42, 'back': 43, 'storm': 44, 'c': 45, 'come': 46, 'b': 47, 'evacu': 48, 'still': 49, 'work': 50, 'famili': 51, 'e': 52, 'plan': 53, 'live': 54, 'scream': 55, 'train': 56, 'world': 57, 'bag': 58, 'n': 59, 'death': 60, 'full': 61, 'think': 62, 'car': 63, 'collaps': 64, 'derail': 65, 'r': 66, 'first': 67, 'need': 68, 'caus': 69, 'today': 70, 'pm': 71, 'california': 72, 'accid': 73, 'rt': 74, 'v': 75, 'servic': 76, 'home': 77, 'life': 78, 'want': 79, 'help': 80, 'way': 81, 'war': 82, 'dead': 83, 'injuri': 84, 'drown': 85, 'l': 86, 'obliter': 87, 'suicid': 88, 'take': 89, 'g': 90, 'report': 91, 'feel': 92, 'destroy': 93, 'nuclear': 94, 'let': 95, 'h': 96, 'wound': 97, 'two': 98, 'last': 99, 'hiroshima': 100, 'got': 101, 'read': 102, 'murder': 103, 'hijack': 104, 'j': 105, 'use': 106, 'old': 107, 'surviv': 108, 'z': 109, 'weapon': 110, 'youtub': 111, 'good': 112, 'k': 113, 'q': 114, 'best': 115, 'pleas': 116, 'deton': 117, 'mass': 118, 'even': 119, 'fuck': 120, 'collid': 121, 'mani': 122, 'could': 123, 'devast': 124, 'black': 125, 'wave': 126, 'save': 127, 'lol': 128, 'state': 129, 'end': 130, 'riot': 131, 'realli': 132, 'damag': 133, 'fear': 134, 'wreck': 135, 'rescu': 136, 'die': 137, 'run': 138, 'citi': 139, 'wind': 140, 'confirm': 141, 'call': 142, 'hot': 143, 'tri': 144, 'may': 145, 'photo': 146, 'fall': 147, 'stop': 148, 'much': 149, 'demolish': 150, 'chang': 151, 'warn': 152, 'set': 153, 'hazard': 154, 'flame': 155, 'water': 156, 'thing': 157, 'never': 158, 'catastroph': 159, 'casualti': 160, 'break': 161, 'weather': 162, 'hit': 163, 'f': 164, 'im': 165, 'natur': 166, 'happen': 167, 'ass': 168, 'hostag': 169, 'everi': 170, 'anoth': 171, 'mh': 172, 'earthquak': 173, 'hope': 174, 'right': 175, 'women': 176, 'explod': 177, 'next': 178, 'hous': 179, 'miss': 180, 'job': 181, 'armi': 182, 'face': 183, 'area': 184, 'wildfir': 185, 'injur': 186, 'th': 187, 'show': 188, 'near': 189, 'delug': 190, 'game': 191, 'reddit': 192, 'crush': 193, 'collis': 194, 'forest': 195, 'desol': 196, 'minut': 197, 'cross': 198, 'quarantin': 199, 'offic': 200, 'road': 201, 'post': 202, 'respond': 203, 'siren': 204, 'issu': 205, 'legionnair': 206, 'move': 207, 'thunderstorm': 208, 'stori': 209, 'obama': 210, 'also': 211, 'danger': 212, 'nation': 213, 'guy': 214, 'head': 215, 'st': 216, 'everyon': 217, 'ok': 218, 'start': 219, 'releas': 220, 'structur': 221, 'shit': 222, 'ruin': 223, 'school': 224, 'suspect': 225, 'play': 226, 'check': 227, 'well': 228, 'rain': 229, 'inund': 230, 'thank': 231, 'intern': 232, 'blaze': 233, 'wild': 234, 'annihil': 235, 'leav': 236, 'sever': 237, 'follow': 238, 'care': 239, 'battl': 240, 'said': 241, 'red': 242, 'sound': 243, 'updat': 244, 'ever': 245, 'electrocut': 246, 'hour': 247, 'god': 248, 'power': 249, 'light': 250, 'lot': 251, 'offici': 252, 'oil': 253, 'displac': 254, 'land': 255, 'sinc': 256, 'rd': 257, 'content': 258, 'around': 259, 'keep': 260, 'self': 261, 'girl': 262, 'loud': 263, 'atom': 264, 'harm': 265, 'investig': 266, 'lightn': 267, 'armageddon': 268, 'night': 269, 'real': 270, 'bloodi': 271, 'chemic': 272, 'bomber': 273, 'destruct': 274, 'flatten': 275, 'open': 276, 'someon': 277, 'yr': 278, 'spill': 279, 'tonight': 280, 'heat': 281, 'japan': 282, 'kid': 283, 'smoke': 284, 'shot': 285, 'littl': 286, 'went': 287, 'hail': 288, 'drought': 289, 'food': 290, 'typhoon': 291, 'total': 292, 'terrorist': 293, 'malaysia': 294, 'babi': 295, 'summer': 296, 'sandstorm': 297, 'movi': 298, 'heard': 299, 'send': 300, 'support': 301, 'saw': 302, 'fight': 303, 'china': 304, 'away': 305, 'friend': 306, 'explos': 307, 'panic': 308, 'ladi': 309, 'put': 310, 'pic': 311, 'declar': 312, 'sign': 313, 'northern': 314, 'made': 315, 'militari': 316, 'bioterror': 317, 'found': 318, 'person': 319, 'refuge': 320, 'failur': 321, 'bang': 322, 'stay': 323, 'blast': 324, 'bestnaijamad': 325, 'wait': 326, 'calgari': 327, 'truck': 328, 'talk': 329, 'violent': 330, 'oh': 331, 'whirlwind': 332, 'blood': 333, 'rainstorm': 334, 'eye': 335, 'bu': 336, 'better': 337, 'debri': 338, 'half': 339, 'swallow': 340, 'outbreak': 341, 'great': 342, 'alway': 343, 'free': 344, 'sure': 345, 'curfew': 346, 'trap': 347, 'boy': 348, 'week': 349, 'actual': 350, 'left': 351, 'order': 352, 'north': 353, 'terror': 354, 'must': 355, 'ship': 356, 'blown': 357, 'sunk': 358, 'sinkhol': 359, 'american': 360, 'mudslid': 361, 'thought': 362, 'august': 363, 'sink': 364, 'latest': 365, 'cliff': 366, 'airport': 367, 'close': 368, 'without': 369, 'plane': 370, 'rememb': 371, 'long': 372, 'beauti': 373, 'turn': 374, 'bad': 375, 'tomorrow': 376, 'wreckag': 377, 'part': 378, 'charg': 379, 'memori': 380, 'airplan': 381, 'zone': 382, 'health': 383, 'wonder': 384, 'affect': 385, 'expect': 386, 'tsunami': 387, 'windstorm': 388, 'team': 389, 'twitter': 390, 'high': 391, 'top': 392, 'someth': 393, 'upheav': 394, 'hurrican': 395, 'lava': 396, 'second': 397, 'wanna': 398, 'place': 399, 'ambul': 400, 'find': 401, 'west': 402, 'tornado': 403, 'past': 404, 'word': 405, 'tree': 406, 'boat': 407, 'volcano': 408, 'famin': 409, 'america': 410, 'forc': 411, 'survivor': 412, 'thunder': 413, 'whole': 414, 'flag': 415, 'tragedi': 416, 'ablaz': 417, 'side': 418, 'bar': 419, 'nowplay': 420, 'group': 421, 'song': 422, 'hear': 423, 'deal': 424, 'anniversari': 425, 'counti': 426, 'fedex': 427, 'market': 428, 'share': 429, 'almost': 430, 'ad': 431, 'media': 432, 'pkk': 433, 'islam': 434, 'dust': 435, 'pandemonium': 436, 'landslid': 437, 'cool': 438, 'came': 439, 'iran': 440, 'traffic': 441, 'prebreak': 442, 'drive': 443, 'massacr': 444, 'book': 445, 'trauma': 446, 'center': 447, 'hundr': 448, 'firefight': 449, 'busi': 450, 'island': 451, 'air': 452, 'fan': 453, 'act': 454, 'traumatis': 455, 'imag': 456, 'woman': 457, 'goe': 458, 'meltdown': 459, 'line': 460, 'ago': 461, 'alarm': 462, 'least': 463, 'demolit': 464, 'horribl': 465, 'brown': 466, 'done': 467, 'hailstorm': 468, 'bush': 469, 'spot': 470, 'rock': 471, 'big': 472, 'public': 473, 'pick': 474, 'migrant': 475, 'properti': 476, 'heart': 477, 'final': 478, 'music': 479, 'men': 480, 'govern': 481, 'outsid': 482, 'south': 483, 'gonna': 484, 'dog': 485, 'river': 486, 'bleed': 487, 'cyclon': 488, 'snowstorm': 489, 'pain': 490, 'due': 491, 'yeah': 492, 'downtown': 493, 'stock': 494, 'insur': 495, 'case': 496, 'hat': 497, 'ask': 498, 'ye': 499, 'block': 500, 'lab': 501, 'nearbi': 502, 'appear': 503, 'countri': 504, 'project': 505, 'data': 506, 'tweet': 507, 'vehicl': 508, 'bc': 509, 'effect': 510, 'ban': 511, 'troubl': 512, 'believ': 513, 'track': 514, 'bridg': 515, 'shoulder': 516, 'okay': 517, 'nigga': 518, 'noth': 519, 'meek': 520, 'rise': 521, 'fun': 522, 'star': 523, 'isra': 524, 'white': 525, 'camp': 526, 'month': 527, 'wake': 528, 'horror': 529, 'blew': 530, 'omg': 531, 'unit': 532, 'engulf': 533, 'yet': 534, 'shoot': 535, 'gun': 536, 'listen': 537, 'centr': 538, 'probabl': 539, 'comput': 540, 'turkey': 541, 'point': 542, 'possibl': 543, 'action': 544, 'ur': 545, 'becom': 546, 'stretcher': 547, 'offens': 548, 'ca': 549, 'km': 550, 'blight': 551, 'saudi': 552, 'though': 553, 'hate': 554, 'major': 555, 'lord': 556, 'might': 557, 'wow': 558, 'bring': 559, 'children': 560, 'hellfir': 561, 'hell': 562, 'em': 563, 'longer': 564, 'emot': 565, 'happi': 566, 'angri': 567, 'mph': 568, 'arson': 569, 'east': 570, 'learn': 571, 'tell': 572, 'level': 573, 'human': 574, 'eyewit': 575, 'ebay': 576, 'gbbo': 577, 'coupl': 578, 'unconfirm': 579, 'neighbour': 580, 'mountain': 581, 'crew': 582, 'avalanch': 583, 'phone': 584, 'nd': 585, 'christian': 586, 'link': 587, 'polici': 588, 'name': 589, 'driver': 590, 'reason': 591, 'apocalyps': 592, 'panick': 593, 'aug': 594, 'tv': 595, 'drink': 596, 'peac': 597, 'site': 598, 'reunion': 599, 'victim': 600, 'far': 601, 'interest': 602, 'conclus': 603, 'green': 604, 'entir': 605, 'soon': 606, 'aftershock': 607, 'grow': 608, 'event': 609, 'rubbl': 610, 'sit': 611, 'allow': 612, 'mark': 613, 'transport': 614, 'mayb': 615, 'wed': 616, 'low': 617, 'patienc': 618, 'bayelsa': 619, 'utc': 620, 'alreadi': 621, 'mine': 622, 'front': 623, 'street': 624, 'strike': 625, 'ga': 626, 'twister': 627, 'anyth': 628, 'agre': 629, 'fast': 630, 'true': 631, 'insid': 632, 'poor': 633, 'give': 634, 'cree': 635, 'led': 636, 'lamp': 637, 'leather': 638, 'drop': 639, 'huge': 640, 'dont': 641, 'lead': 642, 'space': 643, 'member': 644, 'everyth': 645, 'lie': 646, 'avoid': 647, 'muslim': 648, 'ny': 649, 'emmerdal': 650, 'mean': 651, 'india': 652, 'threat': 653, 'cop': 654, 'million': 655, 'flash': 656, 'hand': 657, 'morn': 658, 'walk': 659, 'trust': 660, 'taken': 661, 'reactor': 662, 'scare': 663, 'crisi': 664, 'mount': 665, 'film': 666, 'quiz': 667, 'arsonist': 668, 'park': 669, 'answer': 670, 'secur': 671, 'daili': 672, 'alon': 673, 'pretti': 674, 'across': 675, 'creat': 676, 'gave': 677, 'seen': 678, 'coast': 679, 'vs': 680, 'special': 681, 'meet': 682, 'moment': 683, 'prepar': 684, 'involv': 685, 'exchang': 686, 'apollo': 687, 'els': 688, 'child': 689, 'radio': 690, 'season': 691, 'student': 692, 'handbag': 693, 'sorri': 694, 'larg': 695, 'denver': 696, 'problem': 697, 'press': 698, 'town': 699, 'rescuer': 700, 'soul': 701, 'king': 702, 'gem': 703, 'lose': 704, 'drake': 705, 'other': 706, 'amid': 707, 'wors': 708, 'damn': 709, 'passeng': 710, 'seek': 711, 'helicopt': 712, 'mayhem': 713, 'ice': 714, 'earli': 715, 'hire': 716, 'mp': 717, 'art': 718, 'heavi': 719, 'ancient': 720, 'board': 721, 'readi': 722, 'cut': 723, 'captur': 724, 'soudelor': 725, 'sue': 726, 'funtenna': 727, 'lost': 728, 'research': 729, 'anim': 730, 'mind': 731, 'russian': 732, 'mosqu': 733, 'british': 734, 'cover': 735, 'ft': 736, 'sea': 737, 'australia': 738, 'offroad': 739, 'tote': 740, 'sky': 741, 'piec': 742, 'saipan': 743, 'occur': 744, 'sport': 745, 'pass': 746, 'sad': 747, 'thousand': 748, 'singl': 749, 'cake': 750, 'owner': 751, 'differ': 752, 'blizzard': 753, 'four': 754, 'begin': 755, 'anyon': 756, 'pakistan': 757, 'wall': 758, 'beach': 759, 'milit': 760, 'etc': 761, 'gener': 762, 'account': 763, 'estim': 764, 'cost': 765, 'dr': 766, 'concern': 767, 'hey': 768, 'cri': 769, 'trench': 770, 'bigger': 771, 'loss': 772, 'villag': 773, 'three': 774, 'join': 775, 'info': 776, 'arrest': 777, 'money': 778, 'russia': 779, 'rather': 780, 'mom': 781, 'outrag': 782, 'result': 783, 'map': 784, 'apc': 785, 'compani': 786, 'sunday': 787, 'replac': 788, 'complet': 789, 'buy': 790, 'respons': 791, 'uk': 792, 'met': 793, 'hold': 794, 'rip': 795, 'risk': 796, 'giant': 797, 'seattl': 798, 'pictur': 799, 'hard': 800, 'threaten': 801, 'global': 802, 'search': 803, 'angel': 804, 'reduc': 805, 'flight': 806, 'fish': 807, 'suppos': 808, 'abandon': 809, 'includ': 810, 'number': 811, 'aba': 812, 'scene': 813, 'civilian': 814, 'ten': 815, 'histori': 816, 'metro': 817, 'veteran': 818, 'nw': 819, 'usa': 820, 'york': 821, 'local': 822, 'nurs': 823, 'pamela': 824, 'di': 825, 'instead': 826, 'seismic': 827, 'shift': 828, 'indian': 829, 'wash': 830, 'texa': 831, 'articl': 832, 'lake': 833, 'sp': 834, 'fashion': 835, 'worri': 836, 'control': 837, 'aw': 838, 'smaug': 839, 'mad': 840, 'young': 841, 'wrong': 842, 'secret': 843, 'extrem': 844, 'predict': 845, 'welcom': 846, 'hors': 847, 'crazi': 848, 'cancer': 849, 'myanmar': 850, 'target': 851, 'activ': 852, 'test': 853, 'lane': 854, 'hollywood': 855, 'jonathan': 856, 'amazon': 857, 'seem': 858, 'ahead': 859, 'later': 860, 'base': 861, 'ppl': 862, 'cant': 863, 'coach': 864, 'glad': 865, 'vote': 866, 'bit': 867, 'caught': 868, 'usual': 869, 'return': 870, 'rate': 871, 'middl': 872, 'snow': 873, 'faux': 874, 'purs': 875, 'stage': 876, 'disney': 877, 'isi': 878, 'deep': 879, 'western': 880, 'parti': 881, 'weekend': 882, 'technolog': 883, 'rocki': 884, 'phoenix': 885, 'freak': 886, 'deliv': 887, 'record': 888, 'juli': 889, 'mile': 890, 'rule': 891, 'imagin': 892, 'limit': 893, 'aircraft': 894, 'text': 895, 'futur': 896, 'potu': 897, 'genocid': 898, 'danc': 899, 'ball': 900, 'palestinian': 901, 'depart': 902, 'drone': 903, 'diseas': 904, 'biggest': 905, 'enugu': 906, 'playlist': 907, 'beat': 908, 'spring': 909, 'wednesday': 910, 'templ': 911, 'geller': 912, 'libya': 913, 'sleep': 914, 'oper': 915, 'trfc': 916, 'chanc': 917, 'climat': 918, 'nagasaki': 919, 'manag': 920, 'blue': 921, 'onlin': 922, 'london': 923, 'apart': 924, 'marian': 925, 'tablet': 926, 'favorit': 927, 'question': 928, 'raze': 929, 'abc': 930, 'escap': 931, 'san': 932, 'abus': 933, 'disea': 934, 'sens': 935, 'doubl': 936, 'bb': 937, 'usatoday': 938, 'mt': 939, 'crematoria': 940, 'provok': 941, 'nearli': 942, 'taiwan': 943, 'commun': 944, 'yesterday': 945, 'pc': 946, 'richmond': 947, 'refugio': 948, 'costlier': 949, 'remov': 950, 'bless': 951, 'metal': 952, 'remain': 953, 'author': 954, 'miner': 955, 'seri': 956, 'silver': 957, 'manchest': 958, 'understand': 959, 'gop': 960, 'protect': 961, 'deadli': 962, 'feat': 963, 'repair': 964, 'pack': 965, 'yyc': 966, 'quit': 967, 'liter': 968, 'la': 969, 'combo': 970, 'inch': 971, 'fog': 972, 'hobo': 973, 'ash': 974, 'messag': 975, 'win': 976, 'bicyclist': 977, 'ground': 978, 'dude': 979, 'mention': 980, 'sometim': 981, 'david': 982, 'anymor': 983, 'roosevelt': 984, 'awesom': 985, 'visit': 986, 'list': 987, 'udhampur': 988, 'design': 989, 'box': 990, 'mix': 991, 'potenti': 992, 'toddler': 993, 'court': 994, 'forev': 995, 'room': 996, 'wish': 997, 'wa': 998, 'promis': 999, 'minor': 1000, 'thursday': 1001, 'idp': 1002, 'suffer': 1003, 'tent': 1004, 'program': 1005, 'tho': 1006, 'sun': 1007, 'continu': 1008, 'told': 1009, 'ev': 1010, 'struggl': 1011, 'appli': 1012, 'hello': 1013, 'afghanistan': 1014, 'fat': 1015, 'seriou': 1016, 'upset': 1017, 'pilot': 1018, 'chief': 1019, 'michael': 1020, 'industri': 1021, 'anthrax': 1022, 'mishap': 1023, 'bitch': 1024, 'offer': 1025, 'cdt': 1026, 'virgin': 1027, 'law': 1028, 'arm': 1029, 'turkish': 1030, 'germ': 1031, 'el': 1032, 'arriv': 1033, 'hero': 1034, 'consid': 1035, 'so': 1036, 'stand': 1037, 'queen': 1038, 'ross': 1039, 'wire': 1040, 'senat': 1041, 'petit': 1042, 'ha': 1043, 'late': 1044, 'pull': 1045, 'nu': 1046, 'dan': 1047, 'salt': 1048, 'central': 1049, 'shop': 1050, 'guess': 1051, 'municip': 1052, 'israel': 1053, 'fukushima': 1054, 'plant': 1055, 'charact': 1056, 'tension': 1057, 'pdp': 1058, 'bed': 1059, 'eat': 1060, 'sick': 1061, 'door': 1062, 'current': 1063, 'gold': 1064, 'kit': 1065, 'associ': 1066, 'worth': 1067, 'foxnew': 1068, 'non': 1069, 'feminist': 1070, 'cat': 1071, 'sex': 1072, 'killer': 1073, 'ticket': 1074, 'remind': 1075, 'church': 1076, 'ferguson': 1077, 'subreddit': 1078, 'steal': 1079, 'brother': 1080, 'hair': 1081, 'recal': 1082, 'origin': 1083, 'ww': 1084, 'curv': 1085, 'load': 1086, 'footbal': 1087, 'kick': 1088, 'knew': 1089, 'user': 1090, 'motorcyclist': 1091, 'broadway': 1092, 'document': 1093, 'stress': 1094, 'express': 1095, 'episod': 1096, 'washington': 1097, 'write': 1098, 'un': 1099, 'fleet': 1100, 'rare': 1101, 'impact': 1102, 'option': 1103, 'dark': 1104, 'row': 1105, 'soldier': 1106, 'acr': 1107, 'knee': 1108, 'paint': 1109, 'friday': 1110, 'alleg': 1111, 'expert': 1112, 'swim': 1113, 'pray': 1114, 'known': 1115, 'chicago': 1116, 'odd': 1117, 'five': 1118, 'japanes': 1119, 'describ': 1120, 'pile': 1121, 'disrupt': 1122, 'commit': 1123, 'polit': 1124, 'catch': 1125, 'earth': 1126, 'wwii': 1127, 'calori': 1128, 'fact': 1129, 'dream': 1130, 'advisori': 1131, 'edm': 1132, 'highway': 1133, 'teen': 1134, 'bear': 1135, 'delay': 1136, 'pop': 1137, 'bout': 1138, 'gov': 1139, 'theater': 1140, 'coffe': 1141, 'price': 1142, 'fort': 1143, 'social': 1144, 'cabl': 1145, 'took': 1146, 'finish': 1147, 'reach': 1148, 'comment': 1149, 'illeg': 1150, 'bill': 1151, 'stream': 1152, 'govt': 1153, 'safeti': 1154, 'africa': 1155, 'gunman': 1156, 'system': 1157, 'dc': 1158, 'wit': 1159, 'hobbit': 1160, 'rea': 1161, 'less': 1162, 'nh': 1163, 'cr': 1164, 'feed': 1165, 'syrian': 1166, 'album': 1167, 'either': 1168, 'page': 1169, 'strong': 1170, 'leader': 1171, 'lion': 1172, 'modifi': 1173, 'stadium': 1174, 'financi': 1175, 'ya': 1176, 'afternoon': 1177, 'step': 1178, 'da': 1179, 'shall': 1180, 'path': 1181, 'pay': 1182, 'absolut': 1183, 'galact': 1184, 'common': 1185, 'tear': 1186, 'tram': 1187, 'enough': 1188, 'enjoy': 1189, 'former': 1190, 'gay': 1191, 'mode': 1192, 'hurt': 1193, 'yi': 1194, 'super': 1195, 'accus': 1196, 'ray': 1197, 'browser': 1198, 'mari': 1199, 'main': 1200, 'af': 1201, 'bay': 1202, 'behind': 1203, 'toward': 1204, 'ear': 1205, 'calm': 1206, 'fulli': 1207, 'gm': 1208, 'claim': 1209, 'usg': 1210, 'nc': 1211, 'economi': 1212, 'worst': 1213, 'choic': 1214, 'broke': 1215, 'southern': 1216, 'fix': 1217, 'given': 1218, 'prison': 1219, 'carri': 1220, 'player': 1221, 'earlier': 1222, 'ave': 1223, 'abstorm': 1224, 'date': 1225, 'degre': 1226, 'twice': 1227, 'pool': 1228, 'togeth': 1229, 'relat': 1230, 'putin': 1231, 'lift': 1232, 'burst': 1233, 'mortal': 1234, 'kombat': 1235, 'nq': 1236, 'throw': 1237, 'direct': 1238, 'facebook': 1239, 'strategi': 1240, 'william': 1241, 'dollar': 1242, 'prevent': 1243, 'effort': 1244, 'inform': 1245, 'weird': 1246, 'sale': 1247, 'incred': 1248, 'sweet': 1249, 'pathogen': 1250, 'drill': 1251, 'drug': 1252, 'leagu': 1253, 'add': 1254, 'youth': 1255, 'along': 1256, 'honestli': 1257, 'travel': 1258, 'incid': 1259, 'outlook': 1260, 'rail': 1261, 'allah': 1262, 'oklahoma': 1263, 'prime': 1264, 'union': 1265, 'wmata': 1266, 'percent': 1267, 'tank': 1268, 'ir': 1269, 'dubstep': 1270, 'electr': 1271, 'quickli': 1272, 'perfect': 1273, 'joe': 1274, 'rli': 1275, 'nyc': 1276, 'roof': 1277, 'speak': 1278, 'stuff': 1279, 'nuke': 1280, 'view': 1281, 'erupt': 1282, 'wrought': 1283, 'explor': 1284, 'somalia': 1285, 'slow': 1286, 'id': 1287, 'interview': 1288, 'dad': 1289, 'situat': 1290, 'drunk': 1291, 'ceo': 1292, 'inj': 1293, 'tripl': 1294, 'digit': 1295, 'resid': 1296, 'confer': 1297, 'mini': 1298, 'jp': 1299, 'trump': 1300, 'capsiz': 1301, 'basebal': 1302, 'hunter': 1303, 'forget': 1304, 'progress': 1305, 'lock': 1306, 'zombi': 1307, 'goal': 1308, 'tb': 1309, 'econom': 1310, 'nice': 1311, 'tast': 1312, 'parol': 1313, 'sent': 1314, 'parent': 1315, 'septemb': 1316, 'loui': 1317, 'xb': 1318, 'okwx': 1319, 'kyle': 1320, 'annual': 1321, 'pakistani': 1322, 'engin': 1323, 'bin': 1324, 'mayan': 1325, 'honor': 1326, 'sadli': 1327, 'min': 1328, 'georg': 1329, 'photographi': 1330, 'extern': 1331, 'presid': 1332, 'relief': 1333, 'built': 1334, 'cold': 1335, 'match': 1336, 'fuel': 1337, 'blvd': 1338, 'cinema': 1339, 'fals': 1340, 'vet': 1341, 'materi': 1342, 'exist': 1343, 'clear': 1344, 'cloud': 1345, 'appar': 1346, 'physic': 1347, 'blow': 1348, 'provid': 1349, 'broken': 1350, 'abl': 1351, 'patient': 1352, 'instal': 1353, 'republican': 1354, 'floor': 1355, 'refus': 1356, 'mo': 1357, 'blame': 1358, 'leg': 1359, 'onto': 1360, 'wd': 1361, 'manslaught': 1362, 'ksawlyux': 1363, 'philippin': 1364, 'defend': 1365, 'max': 1366, 'sb': 1367, 'eq': 1368, 'crack': 1369, 'anyway': 1370, 'screen': 1371, 'slip': 1372, 'field': 1373, 'massiv': 1374, 'shoe': 1375, 'concert': 1376, 'pl': 1377, 'small': 1378, 'reuter': 1379, 'cd': 1380, 'glass': 1381, 'region': 1382, 'matter': 1383, 'correct': 1384, 'arianagrand': 1385, 'parenthood': 1386, 'va': 1387, 'sanction': 1388, 'sw': 1389, 'compliant': 1390, 'canada': 1391, 'hwi': 1392, 'class': 1393, 'ben': 1394, 'enemi': 1395, 'societi': 1396, 'scari': 1397, 'chile': 1398, 'aid': 1399, 'iraq': 1400, 'career': 1401, 'fund': 1402, 'fyi': 1403, 'collect': 1404, 'window': 1405, 'store': 1406, 'woke': 1407, 'serial': 1408, 'md': 1409, 'mental': 1410, 'note': 1411, 'review': 1412, 'seven': 1413, 'fantast': 1414, 'hatchet': 1415, 'pipe': 1416, 'occas': 1417, 'temporari': 1418, 'normal': 1419, 'shock': 1420, 'epic': 1421, 'tough': 1422, 'ee': 1423, 'fell': 1424, 'en': 1425, 'hill': 1426, 'colorado': 1427, 'stab': 1428, 'mill': 1429, 'bbc': 1430, 'afghan': 1431, 'version': 1432, 'dj': 1433, 'univers': 1434, 'protest': 1435, 'violat': 1436, 'recent': 1437, 'ms': 1438, 'ty': 1439, 'exp': 1440, 'casper': 1441, 'nigeria': 1442, 'wife': 1443, 'haha': 1444, 'audio': 1445, 'kidnap': 1446, 'franc': 1447, 'socialnew': 1448, 'hwo': 1449, 'soundcloud': 1450, 'dear': 1451, 'brought': 1452, 'feet': 1453, 'bet': 1454, 'malaysian': 1455, 'preview': 1456, 'aliv': 1457, 'grenad': 1458, 'deputi': 1459, 'joy': 1460, 'spo': 1461, 'strategicpati': 1462, 'icemoon': 1463, 'djicemoon': 1464, 'trapmus': 1465, 'dnb': 1466, 'sister': 1467, 'lmao': 1468, 'wing': 1469, 'jet': 1470, 'ne': 1471, 'often': 1472, 'short': 1473, 'featur': 1474, 'recount': 1475, 'dozen': 1476, 'fifth': 1477, 'pillow': 1478, 'roll': 1479, 'equal': 1480, 'heal': 1481, 'fill': 1482, 'certain': 1483, 'syria': 1484, 'son': 1485, 'mid': 1486, 'trip': 1487, 'hospit': 1488, 'mumbai': 1489, 'np': 1490, 'cnn': 1491, 'bell': 1492, 'distanc': 1493, 'kerricktri': 1494, 'straight': 1495, 'hd': 1496, 'qv': 1497, 'bore': 1498, 'legaci': 1499, 'cm': 1500, 'canaanit': 1501, 'depend': 1502, 'specif': 1503, 'cook': 1504, 'jack': 1505, 'sac': 1506, 'treat': 1507, 'gaza': 1508, 'multipl': 1509, 'tax': 1510, 'realiz': 1511, 'dramat': 1512, 'gotta': 1513, 'bro': 1514, 'fd': 1515, 'vietnam': 1516, 'snap': 1517, 'cap': 1518, 'gray': 1519, 'satellit': 1520, 'tip': 1521, 'wb': 1522, 'admit': 1523, 'battlefield': 1524, 'tm': 1525, 'governor': 1526, 'chill': 1527, 'john': 1528, 'bathroom': 1529, 'rubber': 1530, 'awar': 1531, 'er': 1532, 'guillermo': 1533, 'type': 1534, 'bought': 1535, 'eh': 1536, 'internet': 1537, 'wtf': 1538, 'father': 1539, 'inde': 1540, 'laden': 1541, 'pin': 1542, 'qr': 1543, 'kiss': 1544, 'ii': 1545, 'tg': 1546, 'indi': 1547, 'size': 1548, 'none': 1549, 'tech': 1550, 'sing': 1551, 'pocket': 1552, 'nema': 1553, 'hr': 1554, 'bp': 1555, 'integr': 1556, 'debat': 1557, 'moon': 1558, 'bare': 1559, 'idea': 1560, 'jesu': 1561, 'cybksxhf': 1562, 'tire': 1563, 'wood': 1564, 'alaska': 1565, 'spend': 1566, 'budget': 1567, 'card': 1568, 'rn': 1569, 'organ': 1570, 'decis': 1571, 'chines': 1572, 'announc': 1573, 'ralli': 1574, 'serious': 1575, 'ct': 1576, 'powerlin': 1577, 'jackson': 1578, 'marri': 1579, 'crane': 1580, 'asap': 1581, 'paul': 1582, 'aim': 1583, 'host': 1584, 'gust': 1585, 'kinda': 1586, 'simul': 1587, 'sr': 1588, 'excit': 1589, 'kindl': 1590, 'adult': 1591, 'finger': 1592, 'unlock': 1593, 'steel': 1594, 'fav': 1595, 'cyclist': 1596, 'prompt': 1597, 'bowl': 1598, 'tune': 1599, 'loos': 1600, 'rel': 1601, 'yobe': 1602, 'mi': 1603, 'linkuri': 1604, 'spider': 1605, 'accord': 1606, 'theatr': 1607, 'challeng': 1608, 'heavenli': 1609, 'justinbieb': 1610, 'fm': 1611, 'recommend': 1612, 'de': 1613, 'buse': 1614, 'trolley': 1615, 'twia': 1616, 'pipelin': 1617, 'navi': 1618, 'bound': 1619, 'evid': 1620, 'wont': 1621, 'ja': 1622, 'model': 1623, 'ap': 1624, 'client': 1625, 'steve': 1626, 'gi': 1627, 'yd': 1628, 'esh': 1629, 'av': 1630, 'mac': 1631, 'palm': 1632, 'femal': 1633, 'motorcycl': 1634, 'squad': 1635, 'bottom': 1636, 'anchorag': 1637, 'summerf': 1638, 'popul': 1639, 'address': 1640, 'round': 1641, 'reject': 1642, 'ml': 1643, 'prefer': 1644, 'practic': 1645, 'congress': 1646, 'boss': 1647, 'sampl': 1648, 'wear': 1649, 'notic': 1650, 'biolog': 1651, 'ul': 1652, 'batteri': 1653, 'rep': 1654, 'tongu': 1655, 'shower': 1656, 'german': 1657, 'smell': 1658, 'border': 1659, 'style': 1660, 'surpris': 1661, 'pbban': 1662, 'xp': 1663, 'expens': 1664, 'medic': 1665, 'trent': 1666, 'doubt': 1667, 'defens': 1668, 'bedroom': 1669, 'stephen': 1670, 'lone': 1671, 'didnt': 1672, 'qn': 1673, 'pw': 1674, 'flat': 1675, 'childhood': 1676, 'fantasi': 1677, 'portland': 1678, 'gate': 1679, 'nobodi': 1680, 'hole': 1681, 'except': 1682, 'stupid': 1683, 'teacher': 1684, 'pet': 1685, 'vancouv': 1686, 'excel': 1687, 'push': 1688, 'nicki': 1689, 'definit': 1690, 'kd': 1691, 'wo': 1692, 'leak': 1693, 'truth': 1694, 'ram': 1695, 'airlin': 1696, 'swell': 1697, 'miami': 1698, 'tradit': 1699, 'xw': 1700, 'itali': 1701, 'probe': 1702, 'epicentr': 1703, 'bt': 1704, 'faith': 1705, 'rose': 1706, 'ran': 1707, 'marijuana': 1708, 'clutch': 1709, 'station': 1710, 'raid': 1711, 'palestin': 1712, 'dtn': 1713, 'examin': 1714, 'ig': 1715, 'whatev': 1716, 'yahoo': 1717, 'epilepsi': 1718, 'seat': 1719, 'daughter': 1720, 'float': 1721, 'assist': 1722, 'tl': 1723, 'wx': 1724, 'nf': 1725, 'au': 1726, 'foot': 1727, 'madhya': 1728, 'pradesh': 1729, 'et': 1730, 'wealth': 1731, 'descript': 1732, 'reflect': 1733, 'campaign': 1734, 'hilari': 1735, 'twin': 1736, 'larger': 1737, 'minist': 1738, 'sm': 1739, 'rockin': 1740, 'mike': 1741, 'discuss': 1742, 'environ': 1743, 'muscl': 1744, 'skin': 1745, 'object': 1746, 'victori': 1747, 'mf': 1748, 'amaz': 1749, 'shut': 1750, 'buffalo': 1751, 'hunt': 1752, 'greatest': 1753, 'doctor': 1754, 'skinni': 1755, 'jean': 1756, 'regist': 1757, 'plung': 1758, 'arabia': 1759, 'experienc': 1760, 'ex': 1761, 'weed': 1762, 'race': 1763, 'sarah': 1764, 'realiti': 1765, 'somehow': 1766, 'thoma': 1767, 'quick': 1768, 'lesson': 1769, 'harper': 1770, 'premier': 1771, 'everywher': 1772, 'voic': 1773, 'tn': 1774, 'sell': 1775, 'fox': 1776, 'cp': 1777, 'alert': 1778, 'freedom': 1779, 'saturday': 1780, 'newyork': 1781, 'balanc': 1782, 'driven': 1783, 'wholesal': 1784, 'sunset': 1785, 'gabon': 1786, 'climb': 1787, 'electron': 1788, 'celebr': 1789, 'treatment': 1790, 'counselor': 1791, 'yo': 1792, 'pre': 1793, 'insan': 1794, 'freakiest': 1795, 'racist': 1796, 'convers': 1797, 'na': 1798, 'deni': 1799, 'moth': 1800, 'lung': 1801, 'oo': 1802, 'tool': 1803, 'oop': 1804, 'inspect': 1805, 'trial': 1806, 'legal': 1807, 'subject': 1808, 'ed': 1809, 'chest': 1810, 'germani': 1811, 'desir': 1812, 'gunfir': 1813, 'choke': 1814, 'crime': 1815, 'alabama': 1816, 'disco': 1817, 'mikeparractor': 1818, 'download': 1819, 'vuitton': 1820, 'monogram': 1821, 'sophi': 1822, 'yorker': 1823, 'gl': 1824, 'signific': 1825, 'chew': 1826, 'beyond': 1827, 'attent': 1828, 'fz': 1829, 'twelv': 1830, 'bride': 1831, 'band': 1832, 'ep': 1833, 'hieroglyph': 1834, 'lowli': 1835, 'kl': 1836, 'nashvil': 1837, 'age': 1838, 'unveil': 1839, 'reward': 1840, 'opposit': 1841, 'bluejay': 1842, 'master': 1843, 'italian': 1844, 'crap': 1845, 'iw': 1846, 'cf': 1847, 'shelter': 1848, 'xr': 1849, 'ocean': 1850, 'abbswinston': 1851, 'zionist': 1852, 'valley': 1853, 'omar': 1854, 'item': 1855, 'print': 1856, 'shepherd': 1857, 'produc': 1858, 'garden': 1859, 'gone': 1860, 'vi': 1861, 'trafford': 1862, 'odeon': 1863, 'quot': 1864, 'detail': 1865, 'illustr': 1866, 'asia': 1867, 'holiday': 1868, 'diss': 1869, 'alien': 1870, 'santa': 1871, 'maria': 1872, 'az': 1873, 'tag': 1874, 'purchas': 1875, 'temper': 1876, 'extend': 1877, 'faster': 1878, 'approach': 1879, 'supervisor': 1880, 'cleanup': 1881, 'underway': 1882, 'photograph': 1883, 'apocalypt': 1884, 'paper': 1885, 'iranian': 1886, 'warship': 1887, 'although': 1888, 'ian': 1889, 'kind': 1890, 'conflict': 1891, 'pov': 1892, 'amsterdam': 1893, 'capac': 1894, 'cruz': 1895, 'jeb': 1896, 'rapidli': 1897, 'club': 1898, 'realdonaldtrump': 1899, 'idc': 1900, 'spaceship': 1901, 'wc': 1902, 'depress': 1903, 'bruh': 1904, 'cuz': 1905, 'execut': 1906, 'jl': 1907, 'aggress': 1908, 'regular': 1909, 'royal': 1910, 'po': 1911, 'period': 1912, 'tom': 1913, 'forecast': 1914, 'ei': 1915, 'crown': 1916, 'homeless': 1917, 'aussi': 1918, 'import': 1919, 'fr': 1920, 'se': 1921, 'valu': 1922, 'touch': 1923, 'birthday': 1924, 'written': 1925, 'ebola': 1926, 'ohio': 1927, 'brake': 1928, 'strand': 1929, 'puppi': 1930, 'sat': 1931, 'languag': 1932, 'disappear': 1933, 'code': 1934, 'fx': 1935, 'worker': 1936, 'spark': 1937, 'clash': 1938, 'sismo': 1939, 'mido': 1940, 'helen': 1941, 'cream': 1942, 'arsen': 1943, 'thx': 1944, 'shape': 1945, 'adjust': 1946, 'entertain': 1947, 'success': 1948, 'huh': 1949, 'mansehra': 1950, 'fb': 1951, 'foxtrot': 1952, 'trailer': 1953, 'si': 1954, 'safe': 1955, 'hip': 1956, 'hop': 1957, 'bullet': 1958, 'plu': 1959, 'todd': 1960, 'impress': 1961, 'rqwuoy': 1962, 'campu': 1963, 'utterli': 1964, 'ke': 1965, 'fine': 1966, 'grill': 1967, 'solv': 1968, 'qb': 1969, 'pedestrian': 1970, 'senior': 1971, 'accident': 1972, 'cx': 1973, 'zujwuiomb': 1974, 'youngheroesid': 1975, 'pantherattack': 1976, 'iron': 1977, 'rob': 1978, 'cbc': 1979, 'specialist': 1980, 'orang': 1981, 'easi': 1982, 'meant': 1983, 'ba': 1984, 'plain': 1985, 'custom': 1986, 'experi': 1987, 'ink': 1988, 'torch': 1989, 'falcon': 1990, 'automat': 1991, 'frontlin': 1992, 'faan': 1993, 'unless': 1994, 'color': 1995, 'poll': 1996, 'ah': 1997, 'bird': 1998, 'te': 1999, 'began': 2000, 'grant': 2001, 'gang': 2002, 'credit': 2003, 'reveal': 2004, 'destini': 2005, 'matako': 2006, 'proof': 2007, 'msf': 2008, 'founder': 2009, 'cc': 2010, 'advanc': 2011, 'fate': 2012, 'smile': 2013, 'app': 2014, 'boxer': 2015, 'hi': 2016, 'fake': 2017, 'suck': 2018, 'fli': 2019, 'factori': 2020, 'robot': 2021, 'director': 2022, 'therapi': 2023, 'tonto': 2024, 'somebodi': 2025, 'anti': 2026, 'psychiatr': 2027, 'bath': 2028, 'tribal': 2029, 'mainten': 2030, 'server': 2031, 'bs': 2032, 'nt': 2033, 'nj': 2034, 'meat': 2035, 'individu': 2036, 'christma': 2037, 'peep': 2038, 'plagu': 2039, 'magic': 2040, 'cave': 2041, 'hawaii': 2042, 'dock': 2043, 'especi': 2044, 'prepared': 2045, 'hugh': 2046, 'marin': 2047, 'warm': 2048, 'radar': 2049, 'okanagan': 2050, 'famou': 2051, 'sandiego': 2052, 'sub': 2053, 'tc': 2054, 'charger': 2055, 'tcot': 2056, 'jst': 2057, 'drove': 2058, 'ill': 2059, 'scientist': 2060, 'repres': 2061, 'qa': 2062, 'cell': 2063, 'tattoo': 2064, 'despit': 2065, 'nbc': 2066, 'su': 2067, 'struck': 2068, 'anxiou': 2069, 'justifi': 2070, 'lethal': 2071, 'motor': 2072, 'republ': 2073, 'wf': 2074, 'pam': 2075, 'urgent': 2076, 'equip': 2077, 'australian': 2078, 'milk': 2079, 'winter': 2080, 'toe': 2081, 'contact': 2082, 'shed': 2083, 'gg': 2084, 'br': 2085, 'sinjar': 2086, 'refer': 2087, 'pg': 2088, 'yazidi': 2089, 'diamond': 2090, 'brutal': 2091, 'sorrow': 2092, 'within': 2093, 'there': 2094, 'judg': 2095, 'commenc': 2096, 'gear': 2097, 'anna': 2098, 'hug': 2099, 'inevit': 2100, 'je': 2101, 'alcohol': 2102, 'luke': 2103, 'grab': 2104, 'minaj': 2105, 'shell': 2106, 'mediterran': 2107, 'lo': 2108, 'cannot': 2109, 'uber': 2110, 'fk': 2111, 'ph': 2112, 'oz': 2113, 'fn': 2114, 'chase': 2115, 'atlanta': 2116, 'pro': 2117, 'democraci': 2118, 'resist': 2119, 'drawn': 2120, 'horrif': 2121, 'chocol': 2122, 'shake': 2123, 'dual': 2124, 'pt': 2125, 'loot': 2126, 'tuesday': 2127, 'mexico': 2128, 'brazil': 2129, 'wq': 2130, 'hw': 2131, 'plot': 2132, 'cup': 2133, 'mourn': 2134, 'superhero': 2135, 'sourc': 2136, 'easili': 2137, 'assembl': 2138, 'mn': 2139, 'lownd': 2140, 'residenti': 2141, 'surah': 2142, 'humaza': 2143, 'guilti': 2144, 'rc': 2145, 'museum': 2146, 'claytonbry': 2147, 'artistsunit': 2148, 'columbia': 2149, 'ay': 2150, 'pace': 2151, 'betray': 2152, 'what': 2153, 'unsuckdcmetro': 2154, 'xk': 2155, 'ugli': 2156, 'moder': 2157, 'rv': 2158, 'mtvhottest': 2159, 'csx': 2160, 'ant': 2161, 'exhaust': 2162, 'improv': 2163, 'florida': 2164, 'fp': 2165, 'toll': 2166, 'scienc': 2167, 'hh': 2168, 'cupcak': 2169, 'decor': 2170, 'rz': 2171, 'largest': 2172, 'elev': 2173, 'perman': 2174, 'nigerian': 2175, 'guest': 2176, 'brief': 2177, 'nyt': 2178, 'tennesse': 2179, 'starbuck': 2180, 'homi': 2181, 'gunshot': 2182, 'cedcugeuw': 2183, 'ju': 2184, 'rang': 2185, 'jb': 2186, 'drag': 2187, 'zo': 2188, 'six': 2189, 'niec': 2190, 'rainfal': 2191, 'mirag': 2192, 'rk': 2193, 'baltimor': 2194, 'chart': 2195, 'ri': 2196, 'england': 2197, 'nail': 2198, 'recoveri': 2199, 'growth': 2200, 'njd': 2201, 'worldnetdaili': 2202, 'form': 2203, 'kept': 2204, 'humid': 2205, 'iger': 2206, 'spirit': 2207, 'commut': 2208, 'appreci': 2209, 'wr': 2210, 'belli': 2211, 'bronx': 2212, 'pattern': 2213, 'kaduna': 2214, 'ut': 2215, 'fair': 2216, 'hinton': 2217, 'classic': 2218, 'www': 2219, 'jr': 2220, 'pisgah': 2221, 'vq': 2222, 'discov': 2223, 'english': 2224, 'ra': 2225, 'idiot': 2226, 'embroid': 2227, 'logo': 2228, 'bounti': 2229, 'nasahurrican': 2230, 'pacif': 2231, 'format': 2232, 'stun': 2233, 'ton': 2234, 'troy': 2235, 'eventu': 2236, 'rest': 2237, 'sean': 2238, 'increas': 2239, 'fe': 2240, 'lw': 2241, 'logic': 2242, 'surfac': 2243, 'kurd': 2244, 'sand': 2245, 'fit': 2246, 'sew': 2247, 'ox': 2248, 'measur': 2249, 'tbt': 2250, 'euro': 2251, 'edit': 2252, 'pb': 2253, 'nasa': 2254, 'distribut': 2255, 'held': 2256, 'toilet': 2257, 'weight': 2258, 'noaa': 2259, 'loop': 2260, 'term': 2261, 'cancel': 2262, 'pe': 2263, 'arabian': 2264, 'jq': 2265, 'fri': 2266, 'enter': 2267, 'richard': 2268, 'shadow': 2269, 'crimin': 2270, 'sn': 2271, 'consequ': 2272, 'xsx': 2273, 'championship': 2274, 'nfl': 2275, 'gasp': 2276, 'forgot': 2277, 'microlight': 2278, 'hamilton': 2279, 'eo': 2280, 'idol': 2281, 'buckl': 2282, 'sort': 2283, 'boot': 2284, 'donat': 2285, 'xbox': 2286, 'deck': 2287, 'ud': 2288, 'rb': 2289, 'ankl': 2290, 'shout': 2291, 'bq': 2292, 'decid': 2293, 'alp': 2294, 'ou': 2295, 'folk': 2296, 'qualiti': 2297, 'friendship': 2298, 'neither': 2299, 'jake': 2300, 'commerci': 2301, 'flew': 2302, 'jay': 2303, 'tu': 2304, 'sexual': 2305, 'funni': 2306, 'infin': 2307, 'bat': 2308, 'greec': 2309, 'debt': 2310, 'grey': 2311, 'jamaica': 2312, 'bm': 2313, 'spinningbot': 2314, 'enrt': 2315, 'fbi': 2316, 'cia': 2317, 'evil': 2318, 'bio': 2319, 'casual': 2320, 'bug': 2321, 'request': 2322, 'instagram': 2323, 'jazz': 2324, 'settlement': 2325, 'ce': 2326, 'tour': 2327, 'intens': 2328, 'rape': 2329, 'yahoonew': 2330, 'tube': 2331, 'explain': 2332, 'zouma': 2333, 'landfal': 2334, 'bother': 2335, 'kj': 2336, 'knoxvil': 2337, 'sentinel': 2338, 'za': 2339, 'brian': 2340, 'groom': 2341, 'highest': 2342, 'washingtonpost': 2343, 'selfi': 2344, 'godslov': 2345, 'thanku': 2346, 'truli': 2347, 'arizona': 2348, 'princ': 2349, 'demand': 2350, 'lunch': 2351, 'daniel': 2352, 'mail': 2353, 'journal': 2354, 'solar': 2355, 'bff': 2356, 'mother': 2357, 'tf': 2358, 'metrofmtalk': 2359, 'fresh': 2360, 'slide': 2361, 'unawar': 2362, 'striker': 2363, 'bite': 2364, 'cooper': 2365, 'zx': 2366, 'button': 2367, 'needl': 2368, 'ush': 2369, 'bail': 2370, 'sight': 2371, 'mitig': 2372, 'dive': 2373, 'jennif': 2374, 'mediterranean': 2375, 'xv': 2376, 'kisii': 2377, 'fail': 2378, 'beam': 2379, 'walker': 2380, 'spent': 2381, 'clean': 2382, 'grate': 2383, 'mnpdnashvil': 2384, 'occup': 2385, 'southeast': 2386, 'zu': 2387, 'stuart': 2388, 'broad': 2389, 'eight': 2390, 'root': 2391, 'arwx': 2392, 'ps': 2393, 'scheme': 2394, 'ch': 2395, 'dt': 2396, 'rapper': 2397, 'mess': 2398, 'boston': 2399, 'unsaf': 2400, 'torso': 2401, 'letter': 2402, 'restor': 2403, 'vinyl': 2404, 'lou': 2405, 'otrametlif': 2406, 'ring': 2407, 'chees': 2408, 'latestnew': 2409, 'dental': 2410, 'cite': 2411, 'smh': 2412, 'context': 2413, 'error': 2414, 'cz': 2415, 'combin': 2416, 'troop': 2417, 'backup': 2418, 'es': 2419, 'encourag': 2420, 'lmfao': 2421, 'mama': 2422, 'amongst': 2423, 'bd': 2424, 'attitud': 2425, 'reopen': 2426, 'ki': 2427, 'maj': 2428, 'farm': 2429, 'dorret': 2430, 'ugh': 2431, 'pizza': 2432, 'stereo': 2433, 'thigh': 2434, 'battleship': 2435, 'knock': 2436, 'brave': 2437, 'gt': 2438, 'animalrescu': 2439, 'um': 2440, 'van': 2441, 'clinton': 2442, 'dunde': 2443, 'appl': 2444, 'incit': 2445, 'jewish': 2446, 'ot': 2447, 'al': 2448, 'statu': 2449, 'amirit': 2450, 'draco': 2451, 'tyre': 2452, 'bee': 2453, 'captain': 2454, 'bend': 2455, 'dx': 2456, 'sweat': 2457, 'michel': 2458, 'mc': 2459, 'locat': 2460, 'bi': 2461, 'slower': 2462, 'yell': 2463, 'condo': 2464, 'forward': 2465, 'mx': 2466, 'dare': 2467, 'tw': 2468, 'turbin': 2469, 'bluetooth': 2470, 'wireless': 2471, 'headphon': 2472, 'qu': 2473, 'excus': 2474, 'radioact': 2475, 'embarrass': 2476, 'gusti': 2477, 'northeast': 2478, 'mr': 2479, 'brush': 2480, 'icymi': 2481, 'sa': 2482, 'focu': 2483, 'cigarett': 2484, 'ry': 2485, 'georgia': 2486, 'pond': 2487, 'voluntari': 2488, 'cabin': 2489, 'op': 2490, 'christ': 2491, 'trigger': 2492, 'hike': 2493, 'ai': 2494, 'openli': 2495, 'wom': 2496, 'analysi': 2497, 'cramer': 2498, 'bicycl': 2499, 'bash': 2500, 'os': 2501, 'zl': 2502, 'dri': 2503, 'wratka': 2504, 'tr': 2505, 'nah': 2506, 'blog': 2507, 'achiev': 2508, 'equat': 2509, 'whistl': 2510, 'starter': 2511, 'frontpag': 2512, 'rickperri': 2513, 'mysteri': 2514, 'suv': 2515, 'dem': 2516, 'ol': 2517, 'egypt': 2518, 'croat': 2519, 'sprinter': 2520, 'lez': 2521, 'clad': 2522, 'contrast': 2523, 'stick': 2524, 'paramed': 2525, 'reap': 2526, 'anybodi': 2527, 'energi': 2528, 'rider': 2529, 'avert': 2530, 'devic': 2531, 'upper': 2532, 'smash': 2533, 'sf': 2534, 'ln': 2535, 'slightli': 2536, 'brooklyn': 2537, 'salvador': 2538, 'previous': 2539, 'irish': 2540, 'raynbowaffair': 2541, 'editor': 2542, 'diamondkesawn': 2543, 'ramag': 2544, 'lorri': 2545, 'poverti': 2546, 'cycl': 2547, 'civil': 2548, 'plate': 2549, 'joke': 2550, 'rohingya': 2551, 'sittw': 2552, 'condit': 2553, 'ihhen': 2554, 'huffman': 2555, 'ge': 2556, 'jone': 2557, 'till': 2558, 'wy': 2559, 'rage': 2560, 'disappoint': 2561, 'develop': 2562, 'demon': 2563, 'uncl': 2564, 'cours': 2565, 'satur': 2566, 'eleph': 2567, 'sir': 2568, 'meme': 2569, 'rocket': 2570, 'runner': 2571, 'mistak': 2572, 'viralspel': 2573, 'he': 2574, 'relax': 2575, 'xd': 2576, 'ride': 2577, 'eb': 2578, 'afraid': 2579, 'palin': 2580, 'height': 2581, 'alli': 2582, 'vacant': 2583, 'terribl': 2584, 'feast': 2585, 'beard': 2586, 'rome': 2587, 'streak': 2588, 'fw': 2589, 'shirt': 2590, 'nx': 2591, 'gift': 2592, 'upon': 2593, 'spear': 2594, 'crowd': 2595, 'stewart': 2596, 'rear': 2597, 'urib': 2598, 'yu': 2599, 'librari': 2600, 'mma': 2601, 'quarter': 2602, 'zw': 2603, 'preserv': 2604, 'titl': 2605, 'bulli': 2606, 'yf': 2607, 'sassi': 2608, 'hunk': 2609, 'smoki': 2610, 'aom': 2611, 'ibooklov': 2612, 'bookboost': 2613, 'overnight': 2614, 'chelsea': 2615, 'ireland': 2616, 'mullah': 2617, 'condemn': 2618, 'rj': 2619, 'steam': 2620, 'chariti': 2621, 'southdown': 2622, 'ro': 2623, 'robinson': 2624, 'profil': 2625, 'ds': 2626, 'chair': 2627, 'gon': 2628, 'prod': 2629, 'ub': 2630, 'pak': 2631, 'weak': 2632, 'maryland': 2633, 'mansion': 2634, 'plug': 2635, 'ornament': 2636, 'brain': 2637, 'supernatur': 2638, 'dm': 2639, 'salvat': 2640, 'ab': 2641, 'invest': 2642, 'dick': 2643, 'coat': 2644, 'scott': 2645, 'ac': 2646, 'simpli': 2647, 'brook': 2648, 'sail': 2649, 'faroeisland': 2650, 'whale': 2651, 'ik': 2652, 'aka': 2653, 'stolen': 2654, 'honey': 2655, 'hz': 2656, 'val': 2657, 'split': 2658, 'machin': 2659, 'southbound': 2660, 'xc': 2661, 'shanghai': 2662, 'clip': 2663, 'tremor': 2664, 'wast': 2665, 'cope': 2666, 'irand': 2667, 'batter': 2668, 'punish': 2669, 'sidelin': 2670, 'crystal': 2671, 'dz': 2672, 'qw': 2673, 'revolut': 2674, 'deserv': 2675, 'ns': 2676, 'specimen': 2677, 'thru': 2678, 'yh': 2679, 'boundari': 2680, 'vid': 2681, 'trubgm': 2682, 'gamerg': 2683, 'shame': 2684, 'among': 2685, 'haiyan': 2686, 'present': 2687, 'tumbl': 2688, 'soo': 2689, 'unknown': 2690, 'brand': 2691, 'calif': 2692, 'drift': 2693, 'yn': 2694, 'roh': 2695, 'port': 2696, 'comic': 2697, 'tix': 2698, 'col': 2699, 'stole': 2700, 'birmingham': 2701, 'tower': 2702, 'novel': 2703, 'fantasticfour': 2704, 'exercis': 2705, 'haley': 2706, 'ax': 2707, 'detain': 2708, 'shatter': 2709, 'delus': 2710, 'gunsens': 2711, 'overturn': 2712, 'fortun': 2713, 'cum': 2714, 'wide': 2715, 'fond': 2716, 'totalitarian': 2717, 'copi': 2718, 'scandal': 2719, 'ohh': 2720, 'acid': 2721, 'tunein': 2722, 'xssgedsbh': 2723, 'legendari': 2724, 'pot': 2725, 'worldwid': 2726, 'nick': 2727, 'sydney': 2728, 'convinc': 2729, 'sd': 2730, 'uoozxau': 2731, 'unfold': 2732, 'vxvfaeey': 2733, 'scwx': 2734, 'scorpion': 2735, 'basement': 2736, 'mistreat': 2737, 'gloriou': 2738, 'dv': 2739, 'neighbor': 2740, 'behead': 2741, 'tlvface': 2742, 'auspol': 2743, 'athlet': 2744, 'cleric': 2745, 'duti': 2746, 'monday': 2747, 'korea': 2748, 'vigil': 2749, 'instant': 2750, 'cfc': 2751, 'tita': 2752, 'yay': 2753, 'sharp': 2754, 'perspect': 2755, 'jihadi': 2756, 'navig': 2757, 'accustom': 2758, 'whoever': 2759, 'andrew': 2760, 'gs': 2761, 'socialmedia': 2762, 'dtr': 2763, 'frozen': 2764, 'furi': 2765, 'aa': 2766, 'grand': 2767, 'tp': 2768, 'partnership': 2769, 'morgan': 2770, 'grade': 2771, 'witch': 2772, 'retweet': 2773, 'followback': 2774, 'gain': 2775, 'to': 2776, 'delta': 2777, 'yq': 2778, 'vinc': 2779, 'mcmahon': 2780, 'billionair': 2781, 'illus': 2782, 'forsur': 2783, 'gym': 2784, 'vice': 2785, 'biker': 2786, 'undercov': 2787, 'trend': 2788, 'tbe': 2789, 'buri': 2790, 'thegam': 2791, 'haunt': 2792, 'fella': 2793, 'admin': 2794, 'dept': 2795, 'calumet': 2796, 'butter': 2797, 'exampl': 2798, 'hashtag': 2799, 'cw': 2800, 'hoop': 2801, 'thrown': 2802, 'wilsher': 2803, 'violenc': 2804, 'cocain': 2805, 'heroin': 2806, 'bust': 2807, 'yycstorm': 2808, 'coahuila': 2809, 'french': 2810, 'lq': 2811, 'gotten': 2812, 'bummer': 2813, 'employ': 2814, 'firemen': 2815, 'lower': 2816, 'complaint': 2817, 'tribun': 2818, 'access': 2819, 'extens': 2820, 'db': 2821, 'certainli': 2822, 'exactli': 2823, 'halt': 2824, 'meg': 2825, 'monitor': 2826, 'poland': 2827, 'suprem': 2828, 'uc': 2829, 'ow': 2830, 'opera': 2831, 'honest': 2832, 'ooh': 2833, 'cta': 2834, 'xt': 2835, 'eg': 2836, 'mcdonald': 2837, 'ferrel': 2838, 'scoopit': 2839, 'thi': 2840, 'ryt': 2841, 'jupit': 2842, 'rout': 2843, 'contain': 2844, 'brisk': 2845, 'myfitnessp': 2846, 'brighton': 2847, 'magner': 2848, 'rh': 2849, 'buck': 2850, 'vanuatu': 2851, 'afmkcfn': 2852, 'chonc': 2853, 'strain': 2854, 'dn': 2855, 'teach': 2856, 'smithsonian': 2857, 'barrier': 2858, 'edt': 2859, 'thyzomvwu': 2860, 'joo': 2861, 'threw': 2862, 'chicken': 2863, 'nugget': 2864, 'lip': 2865, 'xy': 2866, 'alright': 2867, 'vocal': 2868, 'lyric': 2869, 'salem': 2870, 'pump': 2871, 'rich': 2872, 'nrc': 2873, 'licens': 2874, 'denier': 2875, 'prom': 2876, 'outdoor': 2877, 'privaci': 2878, 'bread': 2879, 'xq': 2880, 'sz': 2881, 'ew': 2882, 'videoveranomtv': 2883, 'pleasur': 2884, 'lebanon': 2885, 'hall': 2886, 'proce': 2887, 'brut': 2888, 'nv': 2889, 'captiv': 2890, 'guardian': 2891, 'pk': 2892, 'appropri': 2893, 'buddha': 2894, 'hom': 2895, 'ek': 2896, 'bradi': 2897, 'pete': 2898, 'scout': 2899, 'cast': 2900, 'notley': 2901, 'alberta': 2902, 'tryna': 2903, 'session': 2904, 'testimoni': 2905, 'med': 2906, 'yea': 2907, 'vampiro': 2908, 'itsjustinstuart': 2909, 'rq': 2910, 'playoff': 2911, 'vega': 2912, 'kc': 2913, 'peel': 2914, 'click': 2915, 'poplar': 2916, 'vt': 2917, 'jail': 2918, 'glimps': 2919, 'hyderabad': 2920, 'element': 2921, 'hanpcr': 2922, 'log': 2923, 'mchenri': 2924, 'tunnel': 2925, 'billboard': 2926, 'redeem': 2927, 'prematur': 2928, 'katunew': 2929, 'commod': 2930, 'pirat': 2931, 'shipwreck': 2932, 'henri': 2933, 'sewer': 2934, 'zak': 2935, 'bagan': 2936, 'cage': 2937, 'revers': 2938, 'util': 2939, 'meal': 2940, 'topstori': 2941, 'tourist': 2942, 'diageo': 2943, 'revolt': 2944, 'lover': 2945, 'drama': 2946, 'alllivesmatt': 2947, 'necessari': 2948, 'bbcnew': 2949, 'blind': 2950, 'slate': 2951, 'efg': 2952, 'yep': 2953, 'breath': 2954, 'tale': 2955, 'stockton': 2956, 'samel': 2957, 'poni': 2958, 'hidden': 2959, 'decad': 2960, 'decent': 2961, 'promot': 2962, 'humbl': 2963, 'donald': 2964, 'pledg': 2965, 'attic': 2966, 'ima': 2967, 'lil': 2968, 'esp': 2969, 'kz': 2970, 'pari': 2971, 'argent': 2972, 'smuggler': 2973, 'uq': 2974, 'eastern': 2975, 'tropic': 2976, 'diamorfiend': 2977, 'institut': 2978, 'chairman': 2979, 'resourc': 2980, 'sheeran': 2981, 'toronto': 2982, 'file': 2983, 'viru': 2984, 'recip': 2985, 'pound': 2986, 'lifetim': 2987, 'yl': 2988, 'surround': 2989, 'fifti': 2990, 'photoset': 2991, 'liber': 2992, 'marvel': 2993, 'enabl': 2994, 'cbsbigbroth': 2995, 'staff': 2996, 'ipad': 2997, 'guatemala': 2998, 'nbcnew': 2999, 'precipit': 3000, 'ip': 3001, 'xqm': 3002, 'modi': 3003, 'pussi': 3004, 'pmarca': 3005, 'affili': 3006, 'fee': 3007, 'vc': 3008, 'elderli': 3009, 'icon': 3010, 'hurri': 3011, 'cloth': 3012, 'mission': 3013, 'shitti': 3014, 'nois': 3015, 'nwajli': 3016, 'js': 3017, 'cheryl': 3018, 'cole': 3019, 'dvd': 3020, 'doc': 3021, 'impend': 3022, 'growingupblack': 3023, 'suit': 3024, 'summertim': 3025, 'flee': 3026, 'unavoid': 3027, 'bbdpnj': 3028, 'ku': 3029, 'punk': 3030, 'ameenshaikh': 3031, 'lg': 3032, 'stone': 3033, 'roi': 3034, 'nsmejj': 3035, 'tj': 3036, 'zjin': 3037, 'yduixefip': 3038, 'lxtjc': 3039, 'nsfw': 3040, 'wi': 3041, 'meteoearth': 3042, 'mfckpvzfv': 3043, 'travi': 3044, 'sept': 3045, 'sheriff': 3046, 'greg': 3047, 'shawi': 3048, 'jose': 3049, 'ia': 3050, 'py': 3051, 'romanc': 3052, 'musician': 3053, 'kall': 3054, 'mattson': 3055, 'newlyw': 3056, 'speaker': 3057, 'qpg': 3058, 'cowboy': 3059, 'mlb': 3060, 'jacksonvil': 3061, 'techniqu': 3062, 'shaw': 3063, 'bubbl': 3064, 'camera': 3065, 'pp': 3066, 'camilacabello': 3067, 'cti': 3068, 'profit': 3069, 'alexi': 3070, 'eu': 3071, 'darud': 3072, 'desk': 3073, 'til': 3074, 'surrend': 3075, 'jordan': 3076, 'rg': 3077, 'accept': 3078, 'pi': 3079, 'iclown': 3080, 'le': 3081, 'gq': 3082, 'njenga': 3083, 'revenu': 3084, 'kindli': 3085, 'indiannew': 3086, 'ue': 3087, 'xxx': 3088, 'fel': 3089, 'arena': 3090, 'elkhorn': 3091, 'walerga': 3092, 'purpl': 3093, 'mall': 3094, 'phantom': 3095, 'stylish': 3096, 'fifa': 3097, 'democrat': 3098, 'surg': 3099, 'subway': 3100, 'ekiti': 3101, 'con': 3102, 'fbr': 3103, 'privat': 3104, 'thirsti': 3105, 'throne': 3106, 'tomlinson': 3107, 'softwar': 3108, 'hush': 3109, 'prior': 3110, 'gpo': 3111, 'jump': 3112, 'tea': 3113, 'ferri': 3114, 'wildhors': 3115, 'pj': 3116, 'iy': 3117, 'rightway': 3118, 'vz': 3119, 'irh': 3120, 'nmm': 3121, 'rightwaystan': 3122, 'gopdeb': 3123, 'gawx': 3124, 'wzk': 3125, 'theori': 3126, 'cuban': 3127, 'sympathi': 3128, 'healthcar': 3129, 'kodiak': 3130, 'ak': 3131, 'consent': 3132, 'nmfsgkf': 3133, 'rueb': 3134, 'endur': 3135, 'yanke': 3136, 'uu': 3137, 'wale': 3138, 'schiphol': 3139, 'laoi': 3140, 'advertis': 3141, 'igm': 3142, 'evansvil': 3143, 'construct': 3144, 'sustain': 3145, 'ted': 3146, 'grove': 3147, 'spread': 3148, 'homeown': 3149, 'xyg': 3150, 'vault': 3151, 'influenc': 3152, 'acquisit': 3153, 'notexplain': 3154, 'infam': 3155, 'jlzk': 3156, 'hdetg': 3157, 'midwest': 3158, 'del': 3159, 'themagickidrap': 3160, 'rub': 3161, 'wocowa': 3162, 'qi': 3163, 'offramp': 3164, 'ejxolpu': 3165, 'newsgoldcoast': 3166, 'soak': 3167, 'zg': 3168, 'stomach': 3169, 'foxi': 3170, 'aniston': 3171, 'terrifi': 3172, 'fade': 3173, 'newbi': 3174, 'californian': 3175, 'trillion': 3176, 'upload': 3177, 'durban': 3178, 'duo': 3179, 'elijah': 3180, 'stuck': 3181, 'strang': 3182, 'loseit': 3183, 'titan': 3184, 'poster': 3185, 'dq': 3186, 'weathernetwork': 3187, 'oq': 3188, 'keegan': 3189, 'infiltr': 3190, 'efak': 3191, 'dirt': 3192, 'decemb': 3193, 'carpet': 3194, 'township': 3195, 'ld': 3196, 'vision': 3197, 'oso': 3198, 'advis': 3199, 'vm': 3200, 'japton': 3201, 'poss': 3202, 'frank': 3203, 'illinoi': 3204, 'sharethi': 3205, 'hazmat': 3206, 'indoor': 3207, 'vermont': 3208, 'od': 3209, 'scifi': 3210, 'krefeld': 3211, 'mock': 3212, 'og': 3213, 'nda': 3214, 'juror': 3215, 'gy': 3216, 'kg': 3217, 'zv': 3218, 'jeff': 3219, 'socket': 3220, 'uci': 3221, 'transform': 3222, 'pyehwodwun': 3223, 'extermin': 3224, 'ae': 3225, 'glenn': 3226, 'moral': 3227, 'austin': 3228, 'qo': 3229, 'basic': 3230, 'outta': 3231, 'chao': 3232, 'unpreced': 3233, 'disord': 3234, 'foodscar': 3235, 'nestleindia': 3236, 'magginoodl': 3237, 'humanconsumpt': 3238, 'burnt': 3239, 'workout': 3240, 'scale': 3241, 'luck': 3242, 'ari': 3243, 'hint': 3244, 'iphon': 3245, 'tepco': 3246, 'previou': 3247, 'marlon': 3248, 'haram': 3249, 'standwithpp': 3250, 'gid': 3251, 'heel': 3252, 'kb': 3253, 'omega': 3254, 'writer': 3255, 'religion': 3256, 'rayner': 3257, 'newsarama': 3258, 'skylin': 3259, 'swarm': 3260, 'awkward': 3261, 'taylor': 3262, 'solut': 3263, 'flashback': 3264, 'johnson': 3265, 'ridg': 3266, 'routecomplex': 3267, 'wp': 3268, 'exc': 3269, 'trail': 3270, 'firetruck': 3271, 'macia': 3272, 'strict': 3273, 'liabil': 3274, 'compon': 3275, 'aviat': 3276, 'restaur': 3277, 'sen': 3278, 'laugh': 3279, 'june': 3280, 'concept': 3281, 'hahahaha': 3282, 'brace': 3283, 'om': 3284, 'jj': 3285, 'bwp': 3286, 'idmhswewqw': 3287, 'rank': 3288, 'compens': 3289, 'lui': 3290, 'disown': 3291, 'nave': 3292, 'discoveri': 3293, 'thuggin': 3294, 'jhpdssvhve': 3295, 'ensur': 3296, 'thick': 3297, 'derbi': 3298, 'triumph': 3299, 'solicitor': 3300, 'muzzamil': 3301, 'offr': 3302, 'charlott': 3303, 'immedi': 3304, 'bot': 3305, 'tide': 3306, 'neg': 3307, 'educ': 3308, 'taxiway': 3309, 'navbl': 3310, 'wnd': 3311, 'inst': 3312, 'apch': 3313, 'rwi': 3314, 'tmp': 3315, 'gw': 3316, 'gf': 3317, 'vacat': 3318, 'aunt': 3319, 'coastal': 3320, 'oc': 3321, 'saturn': 3322, 'lawsuit': 3323, 'psycholog': 3324, 'greatbritishbakeoff': 3325, 'purpos': 3326, 'nk': 3327, 'preciou': 3328, 'oliv': 3329, 'domin': 3330, 'geniu': 3331, 'kingdom': 3332, 'com': 3333, 'workplac': 3334, 'wee': 3335, 'jamesmelvil': 3336, 'tactic': 3337, 'hillari': 3338, 'northwestern': 3339, 'nr': 3340, 'creativ': 3341, 'yev': 3342, 'aq': 3343, 'channel': 3344, 'uv': 3345, 'tui': 3346, 'hack': 3347, 'dumb': 3348, 'lonewolffur': 3349, 'stu': 3350, 'lgbt': 3351, 'legit': 3352, 'abbott': 3353, 'lnp': 3354, 'kp': 3355, 'nixon': 3356, 'arsonistmus': 3357, 'colleg': 3358, 'karymski': 3359, 'demonstr': 3360, 'tim': 3361, 'gta': 3362, 'dat': 3363, 'blake': 3364, 'gx': 3365, 'unhappi': 3366, 'hype': 3367, 'expos': 3368, 'cow': 3369, 'blacklivesmatt': 3370, 'welfar': 3371, 'horizon': 3372, 'inc': 3373, 'kosciusko': 3374, 'lack': 3375, 'fold': 3376, 'gh': 3377, 'psa': 3378, 'crusti': 3379, 'harri': 3380, 'insomnia': 3381, 'magist': 3382, 'rockyfir': 3383, 'mandatori': 3384, 'yellow': 3385, 'nankana': 3386, 'sahib': 3387, 'correspond': 3388, 'trusti': 3389, 'spontan': 3390, 'difficulti': 3391, 'motiv': 3392, 'gel': 3393, 'bluedio': 3394, 'headset': 3395, 'blk': 3396, 'tasmania': 3397, 'difficult': 3398, 'appoint': 3399, 'tooth': 3400, 'environment': 3401, 'spi': 3402, 'chunk': 3403, 'downpour': 3404, 'will': 3405, 'jam': 3406, 'liveonk': 3407, 'sweden': 3408, 'cue': 3409, 'wisenew': 3410, 'eastward': 3411, 'react': 3412, 'laid': 3413, 'waimat': 3414, 'io': 3415, 'pickerel': 3416, 'montgomeri': 3417, 'norman': 3418, 'empti': 3419, 'timelin': 3420, 'scar': 3421, 'labour': 3422, 'dalla': 3423, 'rmg': 3424, 'nb': 3425, 'realis': 3426, 'td': 3427, 'bank': 3428, 'bottl': 3429, 'victoria': 3430, 'barn': 3431, 'kurtschlicht': 3432, 'downfal': 3433, 'caitlin': 3434, 'kiernan': 3435, 'centiped': 3436, 'assum': 3437, 'jewelri': 3438, 'crippl': 3439, 'anxieti': 3440, 'doll': 3441, 'seed': 3442, 'sc': 3443, 'lmfaoooo': 3444, 'mufc': 3445, 'taco': 3446, 'blanket': 3447, 'knife': 3448, 'wwi': 3449, 'ahh': 3450, 'unfortun': 3451, 'leisur': 3452, 'tab': 3453, 'mic': 3454, 'dealbreak': 3455, 'patna': 3456, 'yg': 3457, 'demi': 3458, 'gloucest': 3459, 'seagul': 3460, 'oi': 3461, 'pakpattan': 3462, 'nn': 3463, 'aust': 3464, 'latim': 3465, 'rockbottomradfm': 3466, 'micom': 3467, 'drum': 3468, 'oa': 3469, 'skill': 3470, 'perform': 3471, 'intact': 3472, 'glide': 3473, 'jason': 3474, 'nose': 3475, 'dannyonpc': 3476, 'hardlin': 3477, 'throwingknif': 3478, 'initi': 3479, 'skim': 3480, 'pkwi': 3481, 'tie': 3482, 'ag': 3483, 'benefit': 3484, 'hoax': 3485, 'tend': 3486, 'bradleybrad': 3487, 'upgrad': 3488, 'exclus': 3489, 'administr': 3490, 'encount': 3491, 'hmm': 3492, 'fea': 3493, 'shanta': 3494, 'armori': 3495, 'intrigu': 3496, 'overload': 3497, 'determin': 3498, 'fourth': 3499, 'albani': 3500, 'gunmen': 3501, 'capit': 3502, 'crude': 3503, 'partner': 3504, 'nostril': 3505, 'whether': 3506, 'websit': 3507, 'uganda': 3508, 'older': 3509, 'cnbc': 3510, 'pol': 3511, 'montetjwitt': 3512, 'lesbian': 3513, 'michigan': 3514, 'btw': 3515, 'microsoft': 3516, 'outag': 3517, 'fragil': 3518, 'feinstein': 3519, 'feder': 3520, 'nwo': 3521, 'liberti': 3522, 'constant': 3523, 'iz': 3524, 'pu': 3525, 'riyadh': 3526, 'manual': 3527, 'footag': 3528, 'tte': 3529, 'helplin': 3530, 'nfpa': 3531, 'regardless': 3532, 'slam': 3533, 'hermancranston': 3534, 'atk': 3535, 'letsfootbal': 3536, 'skanndtyagi': 3537, 'protector': 3538, 'blackberri': 3539, 'respect': 3540, 'cgf': 3541, 'fpmr': 3542, 'penni': 3543, 'cq': 3544, 'elem': 3545, 'command': 3546, 'desert': 3547, 'plummet': 3548, 'holi': 3549, 'wod': 3550, 'worn': 3551, 'addict': 3552, 'jax': 3553, 'cousin': 3554, 'pq': 3555, 'dope': 3556, 'porridg': 3557, 'onlinecommun': 3558, 'amageddon': 3559, 'freespeech': 3560, 'forgiven': 3561, 'grown': 3562, 'magnitud': 3563, 'cute': 3564, 'earn': 3565, 'alexbelloli': 3566, 'vanessa': 3567, 'goat': 3568, 'twentynin': 3569, 'kf': 3570, 'lulgzimbestpict': 3571, 'uz': 3572, 'strip': 3573, 'pave': 3574, 'applic': 3575, 'billneelynbc': 3576, 'teeth': 3577, 'oral': 3578, 'vladimir': 3579, 'screw': 3580, 'hamburg': 3581, 'tragic': 3582, 'bolster': 3583, 'sputnik': 3584, 'averag': 3585, 'homosexu': 3586, 'exit': 3587, 'altern': 3588, 'prabhu': 3589, 'calam': 3590, 'verdict': 3591, 'heaven': 3592, 'ether': 3593, 'frog': 3594, 'spit': 3595, 'zy': 3596, 'cleveland': 3597, 'worldnew': 3598, 'deadliest': 3599, 'intersect': 3600, 'ghk': 3601, 'philli': 3602, 'saddlebrook': 3603, 'houston': 3604, 'vd': 3605, 'fed': 3606, 'ar': 3607, 'harass': 3608, 'asian': 3609, 'spanish': 3610, 'novemb': 3611, 'kurdish': 3612, 'invalid': 3613, 'rexyy': 3614, 'towel': 3615, 'programm': 3616, 'wftv': 3617, 'vulner': 3618, 'brick': 3619, 'rio': 3620, 'sq': 3621, 'olymp': 3622, 'bl': 3623, 'sy': 3624, 'approv': 3625, 'nl': 3626, 'reserv': 3627, 'skqpwsnoin': 3628, 'winston': 3629, 'boom': 3630, 'display': 3631, 'fruit': 3632, 'thu': 3633, 'len': 3634, 'vaccin': 3635, 'inning': 3636, 'ug': 3637, 'jon': 3638, 'techesback': 3639, 'mum': 3640, 'everyday': 3641, 'habit': 3642, 'fte': 3643, 'besid': 3644, 'nasti': 3645, 'taxi': 3646, 'safer': 3647, 'slowli': 3648, 'dedic': 3649, 'matt': 3650, 'sk': 3651, 'holmgren': 3652, 'nm': 3653, 'sarcasm': 3654, 'meter': 3655, 'african': 3656, 'inflict': 3657, 'tinder': 3658, 'acc': 3659, 'studi': 3660, 'kashmir': 3661, 'saf': 3662, 'mosksn': 3663, 'soni': 3664, 'nosurrend': 3665, 'delo': 3666, 'scuf': 3667, 'relentless': 3668, 'candl': 3669, 'nap': 3670, 'expand': 3671, 'komen': 3672, 'sketch': 3673, 'swing': 3674, 'fiasco': 3675, 'digniti': 3676, 'mkcbkcov': 3677, 'vp': 3678, 'minecraft': 3679, 'requir': 3680, 'soccer': 3681, 'dig': 3682, 'karachi': 3683, 'gv': 3684, 'shook': 3685, 'rapidc': 3686, 'cheyenn': 3687, 'bake': 3688, 'geneva': 3689, 'esteem': 3690, 'journalist': 3691, 'prophet': 3692, 'mouth': 3693, 'wk': 3694, 'oak': 3695, 'hampshir': 3696, 'treeporn': 3697, 'stir': 3698, 'grief': 3699, 'gb': 3700, 'voter': 3701, 'cricket': 3702, 'score': 3703, 'domest': 3704, 'lamha': 3705, 'mm': 3706, 'ov': 3707, 'wrapup': 3708, 'typo': 3709, 'rqu': 3710, 'tournament': 3711, 'visibl': 3712, 'mutual': 3713, 'neighborhood': 3714, 'reliv': 3715, 'nope': 3716, 'jedi': 3717, 'droid': 3718, 'hasbro': 3719, 'yz': 3720, 'eastbound': 3721, 'jeep': 3722, 'marketforc': 3723, 'shark': 3724, 'wolv': 3725, 'sj': 3726, 'castl': 3727, 'corleonedaboss': 3728, 'patch': 3729, 'cindi': 3730, 'noonan': 3731, 'cindynoonan': 3732, 'heartbreak': 3733, 'yahistor': 3734, 'undergroundrailraod': 3735, 'sibl': 3736, 'cain': 3737, 'theme': 3738, 'leadership': 3739, 'nazi': 3740, 'ptsd': 3741, 'fam': 3742, 'ej': 3743, 'closur': 3744, 'dip': 3745, 'freestyl': 3746, 'sep': 3747, 'constantli': 3748, 'defect': 3749, 'quak': 3750, 'variou': 3751, 'walter': 3752, 'tape': 3753, 'dickhead': 3754, 'rick': 3755, 'spin': 3756, 'britney': 3757, 'rey': 3758, 'suddenli': 3759, 'cord': 3760, 'reagan': 3761, 'yemen': 3762, 'fi': 3763, 'etisalat': 3764, 'mb': 3765, 'renison': 3766, 'tin': 3767, 'ux': 3768, 'inciweb': 3769, 'rogu': 3770, 'siskiy': 3771, 'rockstar': 3772, 'wick': 3773, 'gordon': 3774, 'googl': 3775, 'cosponsor': 3776, 'renew': 3777, 'conserv': 3778, 'deriv': 3779, 'diff': 3780, 'solo': 3781, 'vantag': 3782, 'cdc': 3783, 'tori': 3784, 'teenag': 3785, 'dl': 3786, 'third': 3787, 'colder': 3788, 'uo': 3789, 'gadget': 3790, 'select': 3791, 'underwrit': 3792, 'diablo': 3793, 'yup': 3794, 'pepper': 3795, 'keratin': 3796, 'brazilian': 3797, 'blowout': 3798, 'copycat': 3799, 'blunt': 3800, 'ryan': 3801, 'sigalert': 3802, 'btwn': 3803, 'fwi': 3804, 'irvin': 3805, 'chp': 3806, 'detour': 3807, 'imposs': 3808, 'merci': 3809, 'roger': 3810, 'innoc': 3811, 'penalti': 3812, 'posit': 3813, 'gum': 3814, 'minhazmerch': 3815, 'melt': 3816, 'squar': 3817, 'envw': 3818, 'nickcocofre': 3819, 'juliedicaro': 3820, 'jdabe': 3821, 'belt': 3822, 'ntsb': 3823, 'trunk': 3824, 'trick': 3825, 'britain': 3826, 'moor': 3827, 'forb': 3828, 'cbplawyer': 3829, 'opinion': 3830, 'attend': 3831, 'prosecut': 3832, 'madinah': 3833, 'prophetmuhammad': 3834, 'legion': 3835, 'warfight': 3836, 'cn': 3837, 'ultim': 3838, 'dublin': 3839, 'ly': 3840, 'section': 3841, 'juic': 3842, 'worstsummerjob': 3843, 'rw': 3844, 'aquarium': 3845, 'mafia': 3846, 'windi': 3847, 'receiv': 3848, 'independ': 3849, 'oppos': 3850, 'gig': 3851, 'cityofcalgari': 3852, 'jecfrv': 3853, 'royalcarribean': 3854, 'teamhendrick': 3855, 'grain': 3856, 'avail': 3857, 'wudlkq': 3858, 'ncx': 3859, 'widespread': 3860, 'relationship': 3861, 'hoe': 3862, 'serv': 3863, 'acquir': 3864, 'ks': 3865, 'shizun': 3866, 'multi': 3867, 'ski': 3868, 'mon': 3869, 'freez': 3870, 'kerri': 3871, 'nude': 3872, 'newest': 3873, 'pierc': 3874, 'finnish': 3875, 'jc': 3876, 'infosec': 3877, 'strongli': 3878, 'spell': 3879, 'dutch': 3880, 'connector': 3881, 'anger': 3882, 'tweetlikeitsseptemb': 3883, 'ccot': 3884, 'radiat': 3885, 'wrap': 3886, 'jame': 3887, 'firework': 3888, 'cad': 3889, 'piner': 3890, 'horndal': 3891, 'enact': 3892, 'talkin': 3893, 'newswatch': 3894, 'lansdown': 3895, 'ptbo': 3896, 'midnight': 3897, 'sake': 3898, 'corner': 3899, 'fevwarrior': 3900, 'wise': 3901, 'doublecup': 3902, 'lfkmtzaekk': 3903, 'thisizbwright': 3904, 'snapchat': 3905, 'pertain': 3906, 'wrist': 3907, 'sweep': 3908, 'hy': 3909, 'behavior': 3910, 'attempt': 3911, 'exacerb': 3912, 'samanthaturn': 3913, 'monkey': 3914, 'fist': 3915, 'nytim': 3916, 'speed': 3917, 'tee': 3918, 'goulburn': 3919, 'critic': 3920, 'ey': 3921, 'random': 3922, 'hiphop': 3923, 'greenharvard': 3924, 'ij': 3925, 'jim': 3926, 'jg': 3927, 'screenshot': 3928, 'combat': 3929, 'magnum': 3930, 'opu': 3931, 'prepper': 3932, 'yall': 3933, 'justic': 3934, 'toxic': 3935, 'audienc': 3936, 'wmur': 3937, 'dress': 3938, 'spong': 3939, 'bicep': 3940, 'jonathanferrel': 3941, 'vh': 3942, 'spain': 3943, 'outflow': 3944, 'tubestrik': 3945, 'depth': 3946, 'uranium': 3947, 'suspend': 3948, 'ghostwrit': 3949, 'inmat': 3950, 'hahah': 3951, 'bike': 3952, 'julian': 3953, 'comedi': 3954, 'picken': 3955, 'longest': 3956, 'fowler': 3957, 'org': 3958, 'nightmar': 3959, 'salmon': 3960, 'qt': 3961, 'priest': 3962, 'cloudi': 3963, 'bal': 3964, 'dopey': 3965, 'reshap': 3966, 'kk': 3967, 'europ': 3968, 'blackpool': 3969, 'kow': 3970, 'beclearoncanc': 3971, 'tx': 3972, 'bundl': 3973, 'felt': 3974, 'outfit': 3975, 'mina': 3976, 'raider': 3977, 'facil': 3978, 'await': 3979, 'drew': 3980, 'sh': 3981, 'wedn': 3982, 'kt': 3983, 'douchebag': 3984, 'twi': 3985, 'quartz': 3986, 'fid': 3987, 'wolf': 3988, 'male': 3989, 'dom': 3990, 'watertown': 3991, 'smantibatam': 3992, 'ashayo': 3993, 'heartless': 3994, 'whip': 3995, 'ym': 3996, 'goku': 3997, 'turkmen': 3998, 'cg': 3999, 'bre': 4000, 'coal': 4001, 'phixznv': 4002, 'curb': 4003, 'ignit': 4004, 'cub': 4005, 'medal': 4006, 'xh': 4007, 'indonesia': 4008, 'counter': 4009, 'surf': 4010, 'lf': 4011, 'helsinki': 4012, 'eudrylantiqua': 4013, 'elect': 4014, 'salvi': 4015, 'bistro': 4016, 'identitytheft': 4017, 'kenya': 4018, 'arrestpastornganga': 4019, 'defin': 4020, 'lucki': 4021, 'harwich': 4022, 'raynor': 4023, 'misha': 4024, 'abort': 4025, 'sanchez': 4026, 'aogashima': 4027, 'sv': 4028, 'katiekatcub': 4029, 'lemairele': 4030, 'danharmon': 4031, 'preseason': 4032, 'scotiabank': 4033, 'saddledom': 4034, 'mpxm': 4035, 'rembr': 4036, 'vest': 4037, 'dotish': 4038, 'thief': 4039, 'hicksvil': 4040, 'fled': 4041, 'odnbttpsq': 4042, 'doon': 4043, 'architect': 4044, 'permiss': 4045, 'natwest': 4046, 'tallest': 4047, 'tqh': 4048, 'amoknd': 4049, 'minsuwoong': 4050, 'arkansa': 4051, 'nola': 4052, 'whose': 4053, 'drako': 4054, 'zarharzar': 4055, 'cuana': 4056, 'brigad': 4057, 'xdblmbk': 4058, 'vjhpvlnbaw': 4059, 'dilut': 4060, 'institution': 4061, 'slander': 4062, 'zj': 4063, 'kxwyu': 4064, 'snuff': 4065, 'gigw': 4066, 'izpk': 4067, 'uncomfort': 4068, 'lu': 4069, 'richardson': 4070, 'oobscfoktq': 4071, 'cartervil': 4072, 'kkimmbu': 4073, 'printabl': 4074, 'templat': 4075, 'naex': 4076, 'xuub': 4077, 'hbli': 4078, 'epx': 4079, 'laura': 4080, 'miln': 4081, 'thejonesesvoic': 4082, 'liguist': 4083, 'camilla': 4084, 'craykain': 4085, 'evacid': 4086, 'curri': 4087, 'herman': 4088, 'stephenson': 4089, 'ybjezkurw': 4090, 'laevantin': 4091, 'rework': 4092, 'plumb': 4093, 'draw': 4094, 'glitter': 4095, 'gut': 4096, 'deutsch': 4097, 'musik': 4098, 'rotten': 4099, 'monarchi': 4100, 'rjju': 4101, 'rhyu': 4102, 'zcp': 4103, 'cszsll': 4104, 'pixeljanosz': 4105, 'angelheartnight': 4106, 'haydnexist': 4107, 'smoker': 4108, 'prettyboyshyflizzi': 4109, 'fkxcsztezb': 4110, 'xxfk': 4111, 'khbiw': 4112, 'salvag': 4113, 'tomato': 4114, 'ovfk': 4115, 'gorpuazikinak': 4116, 'puddl': 4117, 'jonesboro': 4118, 'caution': 4119, 'palmat': 4120, 'perrybellegard': 4121, 'pmharper': 4122, 'firstnat': 4123, 'idlenomor': 4124, 'cndpoli': 4125, 'yyj': 4126, 'shaznlmsf': 4127, 'awak': 4128, 'coalit': 4129, 'wvchg': 4130, 'omfgv': 4131, 'avysss': 4132, 'abcnew': 4133, 'parliamentari': 4134, 'subsequ': 4135, 'sack': 4136, 'nueva': 4137, 'favorita': 4138, 'ytzmfb': 4139, 'deezercolombia': 4140, 'eeenic': 4141, 'anchor': 4142, 'fukurodani': 4143, 'bokuto': 4144, 'ppor': 4145, 'scourgu': 4146, 'monica': 4147, 'pinto': 4148, 'orpik': 4149, 'southlin': 4150, 'yennora': 4151, 'cabramatta': 4152, 'johannesburg': 4153, 'ani': 4154, 'lwwojxttiv': 4155, 'optimist': 4156, 'pivot': 4157, 'ekwtihlwuf': 4158, 'olliebailey': 4159, 'havnt': 4160, 'flower': 4161, 'iamdowntown': 4162, 'hbhx': 4163, 'dwkpc': 4164, 'breast': 4165, 'superfood': 4166, 'stall': 4167, 'contribut': 4168, 'sarahmcp': 4169, 'justjon': 4170, 'titti': 4171, 'kendal': 4172, 'jenner': 4173, 'jona': 4174, 'pfvzvpxqgr': 4175, 'marcoar': 4176, 'kcrw': 4177, 'agmkx': 4178, 'sav': 4179, 'guag': 4180, 'eyebal': 4181, 'she': 4182, 'jcdd': 4183, 'guckjghm': 4184, 'nbljki': 4185, 'telegraph': 4186, 'fynermusg': 4187, 'bigburgerboi': 4188, 'spartan': 4189, 'keeponrockin': 4190, 'strawberrysoryu': 4191, 'suspici': 4192, 'scottdpierc': 4193, 'billharri': 4194, 'harrisgl': 4195, 'beezersun': 4196, 'forfeit': 4197, 'tacoma': 4198, 'qwhinbni': 4199, 'attjcdemo': 4200, 'folieacat': 4201, 'timebomb': 4202, 'destin': 4203, 'anderson': 4204, 'jrztpt': 4205, 'ijq': 4206, 'tak': 4207, 'iafpmqjep': 4208, 'streetlight': 4209, 'cont': 4210, 'movt': 4211, 'charcoal': 4212, 'handl': 4213, 'cor': 4214, 'thoroughli': 4215, 'nvr': 4216, 'edwin': 4217, 'redempt': 4218, 'platt': 4219, 'imouto': 4220, 'uke': 4221, 'journey': 4222, 'kidstheseday': 4223, 'croatian': 4224, 'ppegelox': 4225, 'wasnt': 4226, 'everwh': 4227, 'deb': 4228, 'principl': 4229, 'fulfil': 4230, 'zdpvqmeez': 4231, 'backlash': 4232, 'fajbxz': 4233, 'kar': 4234, 'vrpthvpymt': 4235, 'bloodymonday': 4236, 'tvshowtim': 4237, 'nkkvknbvoz': 4238, 'kue': 4239, 'nmjxh': 4240, 'fascin': 4241, 'propaganda': 4242, 'dbcpwd': 4243, 'babmf': 4244, 'yw': 4245, 'abomb': 4246, 'destroyd': 4247, 'wht': 4248, 'dlgnuuuuyn': 4249, 'cnv': 4250, 'jvkyzndtja': 4251, 'mwnhappi': 4252, 'flowri': 4253, 'marinad': 4254, 'megalpoli': 4255, 'shiver': 4256, 'overflow': 4257, 'ancop': 4258, 'vida': 4259, 'deadgrassandflow': 4260, 'fangirl': 4261, 'wdvqlewyb': 4262, 'losdelsonido': 4263, 'ivanberroa': 4264, 'cxm': 4265, 'tkz': 4266, 'amdovhot': 4267, 'awickedassassin': 4268, 'tightli': 4269, 'sega': 4270, 'flo': 4271, 'fgi': 4272, 'nathanfillion': 4273, 'hardli': 4274, 'proto': 4275, 'jif': 4276, 'audit': 4277, 'vetdxh': 4278, 'jeromekem': 4279, 'drydbu': 4280, 'uchicago': 4281, 'faculti': 4282, 'ta': 4283, 'yqclpsc': 4284, 'xtohi': 4285, 'hexi': 4286, 'winki': 4287, 'recognit': 4288, 'oyster': 4289, 'carnegi': 4290, 'yvo': 4291, 'ddg': 4292, 'jy': 4293, 'pf': 4294, 'dxwibdp': 4295, 'toddyrockstar': 4296, 'jdtpirnm': 4297, 'cervix': 4298, 'odel': 4299, 'novalismi': 4300, 'joseph': 4301, 'mallord': 4302, 'turner': 4303, 'shade': 4304, 'clicca': 4305, 'sul': 4306, 'titolo': 4307, 'ulx': 4308, 'xvii': 4309, 'mgm': 4310, 'kbtzzzg': 4311, 'hunchback': 4312, 'notr': 4313, 'dame': 4314, 'tremblayeh': 4315, 'sirmixalot': 4316, 'rap': 4317, 'nonprofit': 4318, 'xch': 4319, 'dmpl': 4320, 'cameo': 4321, 'rev': 4322, 'kbqwior': 4323, 'wrjr': 4324, 'orchid': 4325, 'ytkxwpyihg': 4326, 'ganseyman': 4327, 'xleak': 4328, 'festac': 4329, 'sed': 4330, 'bbm': 4331, 'ixrehm': 4332, 'ko': 4333, 'ryfg': 4334, 'udhampuragain': 4335, 'raineishida': 4336, 'nervou': 4337, 'soldi': 4338, 'obsz': 4339, 'ybaj': 4340, 'khyqqsi': 4341, 'xeinb': 4342, 'milwauke': 4343, 'cedjdlpdan': 4344, 'yopeypjkb': 4345, 'mtfnbhryzq': 4346, 'pharrel': 4347, 'beatdown': 4348, 'nypdnew': 4349, 'ihhrkg': 4350, 'aryu': 4351, 'qngjj': 4352, 'ruler': 4353, 'infxzhx': 4354, 'drfriedencdc': 4355, 'infect': 4356, 'niv': 4357, 'adiossuperbacteria': 4358, 'pcjbvr': 4359, 'retain': 4360, 'sunshin': 4361, 'fab': 4362, 'albertson': 4363, 'lauren': 4364, 'cwhslmb': 4365, 'orzqb': 4366, 'liveleak': 4367, 'acarewornheart': 4368, 'fairfax': 4369, 'chicagoscann': 4370, 'elisagxrcia': 4371, 'peanut': 4372, 'shakeolog': 4373, 'protein': 4374, 'apod': 4375, 'eivba': 4376, 'kallemattson': 4377, 'tuv': 4378, 'akito': 4379, 'frothi': 4380, 'gyp': 4381, 'raqupzfkji': 4382, 'weddinghour': 4383, 'qunxocxcga': 4384, 'hatzolah': 4385, 'sek': 4386, 'mq': 4387, 'njf': 4388, 'corp': 4389, 'nyse': 4390, 'fdx': 4391, 'packag': 4392, 'kdq': 4393, 'xtw': 4394, 'ladyfleur': 4395, 'caf': 4396, 'schwarber': 4397, 'utq': 4398, 'zfde': 4399, 'paulista': 4400, 'hah': 4401, 'zzzz': 4402, 'ricin': 4403, 'cartel': 4404, 'asf': 4405, 'otp': 4406, 'grandma': 4407, 'ssshhheeesshh': 4408, 'lrt': 4409, 'vgf': 4410, 'iupkn': 4411, 'cessna': 4412, 'ocampo': 4413, 'gvu': 4414, 'nppi': 4415, 'qyu': 4416, 'grorq': 4417, 'ohlordi': 4418, 'skip': 4419, 'fant': 4420, 'stic': 4421, 'futurea': 4422, 'literatur': 4423, 'drfkarlz': 4424, 'leed': 4425, 'embra': 4426, 'tier': 4427, 'dee': 4428, 'dum': 4429, 'furtrix': 4430, 'cougar': 4431, 'uniform': 4432, 'yahoocar': 4433, 'perhap': 4434, 'paj': 4435, 'sxd': 4436, 'oldjsowki': 4437, 'africanbaz': 4438, 'nndbgwyei': 4439, 'chkp': 4440, 'gfynj': 4441, 'intellig': 4442, 'bhusa': 4443, 'alhaji': 4444, 'sha': 4445, 'ibeto': 4446, 'cement': 4447, 'competitor': 4448, 'creepiest': 4449, 'uqm': 4450, 'imir': 4451, 'jrlallo': 4452, 'narrat': 4453, 'lavatori': 4454, 'coastguard': 4455, 'kjuzjc': 4456, 'igd': 4457, 'christinalavv': 4458, 'lindsay': 4459, 'wynn': 4460, 'brooktekl': 4461, 'worthless': 4462, 'aberystwyth': 4463, 'shrewsburi': 4464, 'shrew': 4465, 'ggn': 4466, 'wcofmlub': 4467, 'freedomoutpost': 4468, 'empow': 4469, 'milita': 4470, 'awpu': 4471, 'gae': 4472, 'mello': 4473, 'projeavg': 4474, 'canonusaimag': 4475, 'canonbringit': 4476, 'canontattoo': 4477, 'theresmorewherethatcamefrom': 4478, 'tcxxhdja': 4479, 'wctv': 4480, 'txzxcnudr': 4481, 'fu': 4482, 'btuq': 4483, 'xrja': 4484, 'xpl': 4485, 'libertarianluk': 4486, 'rampag': 4487, 'hazelannmac': 4488, 'hatman': 4489, 'delici': 4490, 'ezkoof': 4491, 'facm': 4492, 'coolest': 4493, 'trillac': 4494, 'zach': 4495, 'galifianaki': 4496, 'farc': 4497, 'tq': 4498, 'qgtzq': 4499, 'raffi': 4500, 'sustainourearth': 4501, 'yru': 4502, 'nphdrf': 4503, 'monwabisi': 4504, 'hlongwan': 4505, 'ashestoash': 4506, 'socal': 4507, 'ybtheprophet': 4508, 'realhiphop': 4509, 'zpsnx': 4510, 'iyaj': 4511, 'nasasolarsystem': 4512, 'tvl': 4513, 'coz': 4514, 'igtxhapo': 4515, 'najib': 4516, 'razak': 4517, 'isla': 4518, 'nozig': 4519, 'uhl': 4520, 'akfvsm': 4521, 'tunisia': 4522, 'march': 4523, 'kurqlxfihl': 4524, 'turnedonfetaboo': 4525, 'hsjb': 4526, 'wrvyzfkv': 4527, 'sahq': 4528, 'uoahw': 4529, 'bldrcosheriff': 4530, 'younger': 4531, 'era': 4532, 'cbsdenver': 4533, 'gzgpwsqymw': 4534, 'firenew': 4535, 'mtyyl': 4536, 'gwnrhmso': 4537, 'getbjip': 4538, 'squeaver': 4539, 'hangin': 4540, 'watchin': 4541, 'septic': 4542, 'blend': 4543, 'qqzyziaqf': 4544, 'gxyivswki': 4545, 'fluid': 4546, 'sprain': 4547, 'chluo': 4548, 'crawl': 4549, 'hea': 4550, 'jpjgiipw': 4551, 'knowledg': 4552, 'foolish': 4553, 'wisdom': 4554, 'amsal': 4555, 'zsxqbduzbn': 4556, 'ncfjxploy': 4557, 'interlock': 4558, 'sbm': 4559, 'oj': 4560, 'wxki': 4561, 'fcpbi': 4562, 'owc': 4563, 'fmbr': 4564, 'xyiwr': 4565, 'jetl': 4566, 'agoni': 4567, 'droughtmonitor': 4568, 'contig': 4569, 'ybe': 4570, 'jqoznr': 4571, 'szfletz': 4572, 'stroke': 4573, 'xdxdprcpn': 4574, 'nyack': 4575, 'pineview': 4576, 'railroad': 4577, 'pnnunrnqja': 4578, 'vsotxk': 4579, 'iejj': 4580, 'roughdeal': 4581, 'hudhud': 4582, 'chandrababu': 4583, 'vall': 4584, 'daewoni': 4585, 'ozk': 4586, 'qhjvfh': 4587, 'vocalist': 4588, 'themal': 4589, 'madonna': 4590, 'melani': 4591, 'fiona': 4592, 'slept': 4593, 'circuit': 4594, 'lqjji': 4595, 'ptwt': 4596, 'likeavillasboa': 4597, 'chandler': 4598, 'prone': 4599, 'socialwot': 4600, 'globi': 4601, 'inclus': 4602, 'middleeast': 4603, 'caravan': 4604, 'zaatari': 4605, 'xbnlsbzzgi': 4606, 'anthxvi': 4607, 'hyider': 4608, 'ghost': 4609, 'tryout': 4610, 'minu': 4611, 'toenail': 4612, 'manuel': 4613, 'accuraci': 4614, 'okvsimog': 4615, 'permit': 4616, 'outnumb': 4617, 'fir': 4618, 'yosjwx': 4619, 'petersburg': 4620, 'dove': 4621, 'xjtpv': 4622, 'oydl': 4623, 'pediatr': 4624, 'tmlwvjmj': 4625, 'huzrhgmksi': 4626, 'eventspalmbeach': 4627, 'ltma': 4628, 'xqxpx': 4629, 'mattmosley': 4630, 'schism': 4631, 'dqtmtpqmbr': 4632, 'dmsnyptsci': 4633, 'allyinwondrland': 4634, 'trader': 4635, 'wknd': 4636, 'duck': 4637, 'greasi': 4638, 'hhwb': 4639, 'lsz': 4640, 'mouss': 4641, 'fuckin': 4642, 'tuai': 4643, 'zwgxu': 4644, 'gdjtzkpchk': 4645, 'pioy': 4646, 'fingerrockfir': 4647, 'jyzm': 4648, 'azwx': 4649, 'deeekobmxa': 4650, 'nql': 4651, 'ajmiv': 4652, 'fmuge': 4653, 'okjrxi': 4654, 'weallheartonedirect': 4655, 'asshol': 4656, 'oer': 4657, 'temperatur': 4658, 'harmoni': 4659, 'himeruisu': 4660, 'shove': 4661, 'muffl': 4662, 'rec': 4663, 'iwk': 4664, 'earonlwifh': 4665, 'chrisdyson': 4666, 'mta': 4667, 'sorrybutitstru': 4668, 'speech': 4669, 'tjyyft': 4670, 'freed': 4671, 'bokoharam': 4672, 'dgvripw': 4673, 'adzursw': 4674, 'tfcdronra': 4675, 'kinggerudo': 4676, 'moblin': 4677, 'silverman': 4678, 'sarahksilverman': 4679, 'soundtrack': 4680, 'tracey': 4681, 'ullman': 4682, 'gexynbh': 4683, 'ovo': 4684, 'fest': 4685, 'wedgi': 4686, 'qqskybarng': 4687, 'qzrcinaf': 4688, 'udj': 4689, 'mv': 4690, 'cultur': 4691, 'zaman': 4692, 'alwsl': 4693, 'juc': 4694, 'savag': 4695, 'gangstermail': 4696, 'samsung': 4697, 'mobil': 4698, 'xyyev': 4699, 'wiz': 4700, 'wfaaweath': 4701, 'frisco': 4702, 'cano': 4703, 'okla': 4704, 'yxurn': 4705, 'roblox': 4706, 'cali': 4707, 'rid': 4708, 'jenniferarri': 4709, 'comeeee': 4710, 'mumbailoc': 4711, 'lessonforlif': 4712, 'marinelin': 4713, 'canva': 4714, 'rczalru': 4715, 'hsu': 4716, 'hao': 4717, 'flawless': 4718, 'hurl': 4719, 'tact': 4720, 'rzsulzmokx': 4721, 'ableg': 4722, 'cdnpoli': 4723, 'freya': 4724, 'htxai': 4725, 'wgwiqmicl': 4726, 'demo': 4727, 'beckon': 4728, 'void': 4729, 'xpbkaq': 4730, 'elzswnr': 4731, 'antiochhickoryhollow': 4732, 'jusstdoitgirl': 4733, 'wbu': 4734, 'wzbt': 4735, 'naruto': 4736, 'madara': 4737, 'postal': 4738, 'mepkbf': 4739, 'cfe': 4740, 'huqn': 4741, 'bqblwiw': 4742, 'roimentor': 4743, 'yycwalk': 4744, 'darrylb': 4745, 'cairo': 4746, 'fs': 4747, 'trudg': 4748, 'yahootv': 4749, 'odv': 4750, 'homer': 4751, 'tulowitzki': 4752, 'etribun': 4753, 'waziristan': 4754, 'acebreakingnew': 4755, 'rdfak': 4756, 'bchg': 4757, 'mannequin': 4758, 'bomairing': 4759, 'elutranscend': 4760, 'weloverobdyrdek': 4761, 'adrian': 4762, 'clue': 4763, 'lvza': 4764, 'boe': 4765, 'takeoff': 4766, 'cockpit': 4767, 'atc': 4768, 'osha': 4769, 'siteinvestig': 4770, 'noranda': 4771, 'kfv': 4772, 'cape': 4773, 'girardeau': 4774, 'carbondal': 4775, 'bluff': 4776, 'pxyh': 4777, 'ahoucza': 4778, 'plantat': 4779, 'cic': 4780, 'rainforestresq': 4781, 'seasonfrom': 4782, 'onshit': 4783, 'nort': 4784, 'ylp': 4785, 'pfn': 4786, 'pgxfocghqg': 4787, 'wvlah': 4788, 'jrxe': 4789, 'qyvvd': 4790, 'romanticsuspens': 4791, 'ohndh': 4792, 'xzvmzqu': 4793, 'nxwestmidland': 4794, 'rwzbfvnxer': 4795, 'elgeotaofeeq': 4796, 'ambit': 4797, 'worldoil': 4798, 'subscript': 4799, 'kqvevuutdj': 4800, 'judgement': 4801, 'mpc': 4802, 'fvlgu': 4803, 'nayr': 4804, 'xmce': 4805, 'juf': 4806, 'px': 4807, 'oregon': 4808, 'urxg': 4809, 'sixth': 4810, 'premium': 4811, 'galvnew': 4812, 'tve': 4813, 'vsq': 4814, 'gari': 4815, 'busey': 4816, 'dixi': 4817, 'fiddl': 4818, 'sequenc': 4819, 'txxe': 4820, 'segment': 4821, 'antholog': 4822, 'lqjmuaxjuu': 4823, 'nckogwjq': 4824, 'dancer': 4825, 'caribbean': 4826, 'margarita': 4827, 'engl': 4828, 'holt': 4829, 'byr': 4830, 'eskymoec': 4831, 'kca': 4832, 'votejkt': 4833, 'mbataweel': 4834, 'binladen': 4835, 'hhtwayt': 4836, 'heiekfchdm': 4837, 'blogger': 4838, 'regard': 4839, 'ineedexposur': 4840, 'sabrina': 4841, 'phqcuw': 4842, 'ymczyvkfm': 4843, 'lcnw': 4844, 'ead': 4845, 'bleacher': 4846, 'cllwud': 4847, 'wsu': 4848, 'highqualitybird': 4849, 'nostalgia': 4850, 'ivwrdkk': 4851, 'warden': 4852, 'aprensss': 4853, 'banditregina': 4854, 'carolin': 4855, 'bigsbi': 4856, 'supermarket': 4857, 'rffzd': 4858, 'startid': 4859, 'hotter': 4860, 'deqqopsp': 4861, 'lbkvfqrpgt': 4862, 'rva': 4863, 'uvt': 4864, 'yuppi': 4865, 'mrrobinson': 4866, 'thesteveharveyshow': 4867, 'vibe': 4868, 'stpoda': 4869, 'dangdaddi': 4870, 'qaqqrjv': 4871, 'gu': 4872, 'stern': 4873, 'yhh': 4874, 'maio': 4875, 'ofr': 4876, 'gpxqbyzyu': 4877, 'tareksoc': 4878, 'trustymclusti': 4879, 'fcked': 4880, 'ffa': 4881, 'foodstand': 4882, 'fairground': 4883, 'xqmjhiozxg': 4884, 'contr': 4885, 'bptzamjl': 4886, 'redskin': 4887, 'robert': 4888, 'teamstream': 4889, 'gbcvvevdti': 4890, 'yfe': 4891, 'gzbgmmaa': 4892, 'rm': 4893, 'vcvjsh': 4894, 'txrswi': 4895, 'ptn': 4896, 'bz': 4897, 'wthx': 4898, 'ijourn': 4899, 'polar': 4900, 'bigamist': 4901, 'pregnant': 4902, 'rteugb': 4903, 'tnv': 4904, 'contactenergi': 4905, 'clyde': 4906, 'dam': 4907, 'specci': 4908, 'indiepopmom': 4909, 'taho': 4910, 'xuhmj': 4911, 'oabeqc': 4912, 'izqdk': 4913, 'geometr': 4914, 'satchel': 4915, 'qvsp': 4916, 'qsu': 4917, 'ydfrwdq': 4918, 'gasparc': 4919, 'reportedli': 4920, 'jixscpmdud': 4921, 'doy': 4922, 'daqszzubub': 4923, 'tbstk': 4924, 'vqu': 4925, 'ydgiuydqgb': 4926, 'punch': 4927, 'cb': 4928, 'kdh': 4929, 'waetkgsza': 4930, 'plo': 4931, 'qkrwhu': 4932, 'cmweiojj': 4933, 'qcoao': 4934, 'choosegod': 4935, 'restoringpath': 4936, 'quarterstaff': 4937, 'connect': 4938, 'incom': 4939, 'buckley': 4940, 'dao': 4941, 'azeucr': 4942, 'biller': 4943, 'kelli': 4944, 'osbourn': 4945, 'remark': 4946, 'latino': 4947, 'nagdsadwp': 4948, 'abe': 4949, 'cbxnhhz': 4950, 'eaten': 4951, 'poison': 4952, 'hskl': 4953, 'romant': 4954, 'sensei': 4955, 'rhyme': 4956, 'absurdli': 4957, 'ridicul': 4958, 'manhood': 4959, 'vtp': 4960, 'qlen': 4961, 'yx': 4962, 'ukbmtqb': 4963, 'vicin': 4964, 'rgngjf': 4965, 'qadufo': 4966, 'zxg': 4967, 'deniseromano': 4968, 'megynkelli': 4969, 'dw': 4970, 'cubc': 4971, 'ufo': 4972, 'ublogeurop': 4973, 'chpsre': 4974, 'exhibit': 4975, 'rezaphotographi': 4976, 'rpmtropsvr': 4977, 'aaaaaaallll': 4978, 'condol': 4979, 'bgytmqj': 4980, 'msnbc': 4981, 'termin': 4982, 'bovin': 4983, 'nab': 4984, 'ruu': 4985, 'htqvf': 4986, 'pvxelxcjeu': 4987, 'bbcmtd': 4988, 'lhyxeohi': 4989, 'ffx': 4990, 'hardi': 4991, 'kkeh': 4992, 'qcgc': 4993, 'billi': 4994, 'hodg': 4995, 'aurora': 4996, 'notorieti': 4997, 'rpchru': 4998, 'hilda': 4999}\n"
     ]
    }
   ],
   "source": [
    "word_dict = build_dict(train_df['text'])\n",
    "print(word_dict)"
   ]
  },
  {
   "cell_type": "code",
   "execution_count": 12,
   "metadata": {
    "colab": {},
    "colab_type": "code",
    "id": "Yej3wTZ3cxs2"
   },
   "outputs": [],
   "source": [
    "def convert_and_pad(word_dict, sentence, pad=500):\n",
    "    NOWORD = 0 # We will use 0 to represent the 'no word' category\n",
    "    INFREQ = 1 # and we use 1 to represent the infrequent words, i.e., words not appearing in word_dict\n",
    "    \n",
    "    working_sentence = [NOWORD] * pad\n",
    "    \n",
    "    for word_index, word in enumerate(sentence[:pad]):\n",
    "        if word in word_dict:\n",
    "            working_sentence[word_index] = word_dict[word]\n",
    "        else:\n",
    "            working_sentence[word_index] = INFREQ\n",
    "            \n",
    "    return working_sentence, min(len(sentence), pad)\n",
    "\n",
    "def convert_and_pad_data(word_dict, data, pad=500):\n",
    "    result = []\n",
    "    lengths = []\n",
    "    \n",
    "    for sentence in data:\n",
    "        converted, leng = convert_and_pad(word_dict, sentence, pad)\n",
    "        result.append(converted)\n",
    "        lengths.append(leng)\n",
    "        \n",
    "    return np.array(result), np.array(lengths)"
   ]
  },
  {
   "cell_type": "code",
   "execution_count": 13,
   "metadata": {},
   "outputs": [],
   "source": [
    "data_dir = '../data/ML-Final-Project' # The folder we will use for storing data\n",
    "if not os.path.exists(data_dir): # Make sure that the folder exists\n",
    "    os.makedirs(data_dir)"
   ]
  },
  {
   "cell_type": "code",
   "execution_count": 14,
   "metadata": {
    "colab": {
     "base_uri": "https://localhost:8080/",
     "height": 255
    },
    "colab_type": "code",
    "id": "bbSRcc-4c5eI",
    "outputId": "99b99c31-d556-413d-c278-9a6dd77ef426"
   },
   "outputs": [
    {
     "name": "stdout",
     "output_type": "stream",
     "text": [
      "       10    11    12    13    14    15    16    17    18    19   ... 495 496  \\\n",
      "0       57   956   268     0     0     0     0     0     0     0  ...   0   0   \n",
      "1     2697   344    14   326   460   787   269  2061  1648     0  ...   0   0   \n",
      "2      583  4032  4033  4034     3     2    90  2062  4035     0  ...   0   0   \n",
      "3     4036   283  1214  1649    88     9  4037     0     0     0  ...   0   0   \n",
      "4      859   622     0     0     0     0     0     0     0     0  ...   0   0   \n",
      "5        0     0     0     0     0     0     0     0     0     0  ...   0   0   \n",
      "6     1406  2700  2063   584  4041    39     3     2  4042     0  ...   0   0   \n",
      "7     2701  4046  2702   788   139  4047    19     0     0     0  ...   0   0   \n",
      "8      624   958     3     2  4048  4049     0     0     0     0  ...   0   0   \n",
      "9      197   461   165    18     0     0     0     0     0     0  ...   0   0   \n",
      "10     176  2703   861   270  1408  1073  4051   166    26  4052  ...   0   0   \n",
      "11    4054  4055    20     0     0     0     0     0     0     0  ...   0   0   \n",
      "12    4056    49   790  1074   271   731     4     0     0     0  ...   0   0   \n",
      "13    4057    16   791  2705  1216  1409     3     2  1652  4058  ...   0   0   \n",
      "14    4060  4061  2067  4062     3     2   109  4063  4064     0  ...   0   0   \n",
      "15     284   462  1653  4065    14   183   122   390  1075   151  ...   0   0   \n",
      "16     411   463    10    83    88   273  2068   733     3     2  ...   0   0   \n",
      "17      36   682    34  4068   863    95   223   683     0     0  ...   0   0   \n",
      "18      99   412  1412     3     2  4071     0     0     0     0  ...   0   0   \n",
      "19     191    20    84     3     2  4073     0     0     0     0  ...   0   0   \n",
      "20     100    95    89    14   371     0     0     0     0     0  ...   0   0   \n",
      "21       2  4076   114  2707     0     0     0     0     0     0  ...   0   0   \n",
      "22     961  1076   198   464     3     2  4077  4078     3     2  ...   0   0   \n",
      "23    4083    68  1655   627   507     0     0     0     0     0  ...   0   0   \n",
      "24    1415   962   110  2070  2071   411  2711     0     0     0  ...   0   0   \n",
      "25      14    31   131   151   628  1217     0     0     0     0  ...   0   0   \n",
      "26    4088   257   189  4089   685  2712   508   116   106     3  ...   0   0   \n",
      "27     272  1656  4094  4095  1416  1417     0     0     0     0  ...   0   0   \n",
      "28       0     0     0     0     0     0     0     0     0     0  ...   0   0   \n",
      "29    4100    64     7   145    54   372    54  1657  2073     3  ...   0   0   \n",
      "...    ...   ...   ...   ...   ...   ...   ...   ...   ...   ...  ...  ..  ..   \n",
      "4049     1     0     0     0     0     0     0     0     0     0  ...   0   0   \n",
      "4050    15   323   937     0     0     0     0     0     0     0  ...   0   0   \n",
      "4051   197     3     2     1     1  3343     0     0     0     0  ...   0   0   \n",
      "4052    68   628   292   196     0     0     0     0     0     0  ...   0   0   \n",
      "4053   845    60     3     2     1    66     8     1     0     0  ...   0   0   \n",
      "4054   358   356    93   807  1268  2041  2170    61   102     3  ...   0   0   \n",
      "4055   578   247     0     0     0     0     0     0     0     0  ...   0   0   \n",
      "4056     0     0     0     0     0     0     0     0     0     0  ...   0   0   \n",
      "4057   521  1123   118   103  1698     3     2  3684     1     0  ...   0   0   \n",
      "4058     0     0     0     0     0     0     0     0     0     0  ...   0   0   \n",
      "4059   327     1   538   131     3     2     1     0     0     0  ...   0   0   \n",
      "4060  1858     1     1     1  1179   668     3     2     1   105  ...   0   0   \n",
      "4061  4018   358   617   542     1   474  1552     0     0     0  ...   0   0   \n",
      "4062   130    87   953   129   757     3     2   109  3925     1  ...   0   0   \n",
      "4063  1537   298   445    31  1072     1    28     3     2    45  ...   0   0   \n",
      "4064   133  2635  2037   406    91    31   155     3     2    28  ...   0   0   \n",
      "4065     1    40     1     0     0     0     0     0     0     0  ...   0   0   \n",
      "4066   117  1458     4    13   318     1   833    70     3     2  ...   0   0   \n",
      "4067  3221  3493  2599   326   372   824   753     3     2     1  ...   0   0   \n",
      "4068     3     2     1     3     2     1     1     0     0     0  ...   0   0   \n",
      "4069     1     0     0     0     0     0     0     0     0     0  ...   0   0   \n",
      "4070   458   510   122   465  1078   511   199     3     2     1  ...   0   0   \n",
      "4071     1     1  3564     1   168   177     1     0     0     0  ...   0   0   \n",
      "4072   570     3     2     1     1     0     0     0     0     0  ...   0   0   \n",
      "4073  2011     1   595    12     3     2     1     1     0     0  ...   0   0   \n",
      "4074   283     6     1    32    78     6   197   315   329     1  ...   0   0   \n",
      "4075  1398   855   298   347   955   523     3     2  3967     1  ...   0   0   \n",
      "4076     1     0     0     0     0     0     0     0     0     0  ...   0   0   \n",
      "4077   629     1  1053  2606   585   293   129     1  1712   283  ...   0   0   \n",
      "4078     1  2002     1  1121     3     2     1     1     0     0  ...   0   0   \n",
      "\n",
      "     497 498 499 500 501 502 503 504  \n",
      "0      0   0   0   0   0   0   0   0  \n",
      "1      0   0   0   0   0   0   0   0  \n",
      "2      0   0   0   0   0   0   0   0  \n",
      "3      0   0   0   0   0   0   0   0  \n",
      "4      0   0   0   0   0   0   0   0  \n",
      "5      0   0   0   0   0   0   0   0  \n",
      "6      0   0   0   0   0   0   0   0  \n",
      "7      0   0   0   0   0   0   0   0  \n",
      "8      0   0   0   0   0   0   0   0  \n",
      "9      0   0   0   0   0   0   0   0  \n",
      "10     0   0   0   0   0   0   0   0  \n",
      "11     0   0   0   0   0   0   0   0  \n",
      "12     0   0   0   0   0   0   0   0  \n",
      "13     0   0   0   0   0   0   0   0  \n",
      "14     0   0   0   0   0   0   0   0  \n",
      "15     0   0   0   0   0   0   0   0  \n",
      "16     0   0   0   0   0   0   0   0  \n",
      "17     0   0   0   0   0   0   0   0  \n",
      "18     0   0   0   0   0   0   0   0  \n",
      "19     0   0   0   0   0   0   0   0  \n",
      "20     0   0   0   0   0   0   0   0  \n",
      "21     0   0   0   0   0   0   0   0  \n",
      "22     0   0   0   0   0   0   0   0  \n",
      "23     0   0   0   0   0   0   0   0  \n",
      "24     0   0   0   0   0   0   0   0  \n",
      "25     0   0   0   0   0   0   0   0  \n",
      "26     0   0   0   0   0   0   0   0  \n",
      "27     0   0   0   0   0   0   0   0  \n",
      "28     0   0   0   0   0   0   0   0  \n",
      "29     0   0   0   0   0   0   0   0  \n",
      "...   ..  ..  ..  ..  ..  ..  ..  ..  \n",
      "4049   0   0   0   0   0   0   0   0  \n",
      "4050   0   0   0   0   0   0   0   0  \n",
      "4051   0   0   0   0   0   0   0   0  \n",
      "4052   0   0   0   0   0   0   0   0  \n",
      "4053   0   0   0   0   0   0   0   0  \n",
      "4054   0   0   0   0   0   0   0   0  \n",
      "4055   0   0   0   0   0   0   0   0  \n",
      "4056   0   0   0   0   0   0   0   0  \n",
      "4057   0   0   0   0   0   0   0   0  \n",
      "4058   0   0   0   0   0   0   0   0  \n",
      "4059   0   0   0   0   0   0   0   0  \n",
      "4060   0   0   0   0   0   0   0   0  \n",
      "4061   0   0   0   0   0   0   0   0  \n",
      "4062   0   0   0   0   0   0   0   0  \n",
      "4063   0   0   0   0   0   0   0   0  \n",
      "4064   0   0   0   0   0   0   0   0  \n",
      "4065   0   0   0   0   0   0   0   0  \n",
      "4066   0   0   0   0   0   0   0   0  \n",
      "4067   0   0   0   0   0   0   0   0  \n",
      "4068   0   0   0   0   0   0   0   0  \n",
      "4069   0   0   0   0   0   0   0   0  \n",
      "4070   0   0   0   0   0   0   0   0  \n",
      "4071   0   0   0   0   0   0   0   0  \n",
      "4072   0   0   0   0   0   0   0   0  \n",
      "4073   0   0   0   0   0   0   0   0  \n",
      "4074   0   0   0   0   0   0   0   0  \n",
      "4075   0   0   0   0   0   0   0   0  \n",
      "4076   0   0   0   0   0   0   0   0  \n",
      "4077   0   0   0   0   0   0   0   0  \n",
      "4078   0   0   0   0   0   0   0   0  \n",
      "\n",
      "[4079 rows x 495 columns]\n"
     ]
    }
   ],
   "source": [
    "train_df_int, train_df_len = convert_and_pad_data(word_dict, train_df['text'])\n",
    "tr_df = pd.DataFrame(np.concatenate((train_df, train_df_int), axis=1))\n",
    "train_y = tr_df[0]\n",
    "train_X = tr_df.loc[:,10:]\n",
    "print(train_X)\n",
    "pd.concat([pd.DataFrame(train_y), pd.DataFrame(train_X)], axis=1) \\\n",
    "        .to_csv(os.path.join(data_dir, 'train_df.csv'), header=False)\n",
    "#print(tr_df)"
   ]
  },
  {
   "cell_type": "code",
   "execution_count": 23,
   "metadata": {
    "colab": {},
    "colab_type": "code",
    "id": "U6uVatoCNnoW"
   },
   "outputs": [],
   "source": [
    "import sagemaker\n",
    "\n",
    "#data_dir='train_df.csv'\n",
    "\n",
    "sagemaker_session = sagemaker.Session()\n",
    "\n",
    "bucket = sagemaker_session.default_bucket()\n",
    "prefix = 'sagemaker/ML-Final-Project'\n",
    "\n",
    "role = sagemaker.get_execution_role()"
   ]
  },
  {
   "cell_type": "code",
   "execution_count": 24,
   "metadata": {
    "colab": {},
    "colab_type": "code",
    "id": "Gi-MTCT5Nu4k"
   },
   "outputs": [],
   "source": [
    "input_data = sagemaker_session.upload_data(path=data_dir, bucket=bucket, key_prefix=prefix)"
   ]
  },
  {
   "cell_type": "code",
   "execution_count": 17,
   "metadata": {
    "colab": {},
    "colab_type": "code",
    "id": "ytN7QK94ww-l"
   },
   "outputs": [],
   "source": [
    "#from google.colab import files\n",
    "#uploaded = files.upload()\n",
    "#print(tr_df[0].values)"
   ]
  },
  {
   "cell_type": "code",
   "execution_count": 25,
   "metadata": {
    "colab": {
     "base_uri": "https://localhost:8080/",
     "height": 136
    },
    "colab_type": "code",
    "id": "uJbAuzOXKYCb",
    "outputId": "d63ecf51-6874-4eea-929e-bf912b805864"
   },
   "outputs": [
    {
     "name": "stdout",
     "output_type": "stream",
     "text": [
      "tensor([[   0,   57,  956,  ...,    0,    0,    0],\n",
      "        [   0, 2697,  344,  ...,    0,    0,    0],\n",
      "        [   0,  583, 4032,  ...,    0,    0,    0],\n",
      "        ...,\n",
      "        [   0,    1,    0,  ...,    0,    0,    0],\n",
      "        [   1,  629,    1,  ...,    0,    0,    0],\n",
      "        [   1,    1, 2002,  ...,    0,    0,    0]])\n"
     ]
    }
   ],
   "source": [
    "import torch\n",
    "import torch.utils.data\n",
    "\n",
    "# Read in only the first 250 rows\n",
    "train_sample = pd.read_csv(os.path.join(data_dir, 'train_df.csv'), header=None, names=None, nrows=5000)\n",
    "#print(train_sample.dtypes)\n",
    "# Turn the input pandas dataframe into tensors\n",
    "train_sample_y = torch.from_numpy(train_sample[[0]].values).float().squeeze()\n",
    "train_sample_X = torch.from_numpy(train_sample.drop([0], axis=1).values).long()\n",
    "\n",
    "# Build the dataset\n",
    "train_sample_ds = torch.utils.data.TensorDataset(train_sample_X, train_sample_y)\n",
    "# Build the dataloader\n",
    "train_sample_dl = torch.utils.data.DataLoader(train_sample_ds, batch_size=50)\n",
    "print(train_sample_X)"
   ]
  },
  {
   "cell_type": "code",
   "execution_count": 26,
   "metadata": {
    "colab": {},
    "colab_type": "code",
    "id": "ih8smlsstX_6"
   },
   "outputs": [],
   "source": [
    "def train(model, train_loader, epochs, optimizer, loss_fn, device):\n",
    "    counter = 0\n",
    "    \n",
    "    for epoch in range(1, epochs + 1):\n",
    "        model.train()\n",
    "        total_loss = 0\n",
    "        #h = model.init(batch_size)\n",
    "        for batch in train_loader:         \n",
    "            #print(batch)\n",
    "            batch_X, batch_y = batch\n",
    "            \n",
    "            batch_X = batch_X.to(device)\n",
    "            batch_y = batch_y.to(device)\n",
    "            \n",
    "            # TODO: Complete this train method to train the model provided.\n",
    "            \n",
    "            # zero accumulated gradients\n",
    "            model.zero_grad()\n",
    "\n",
    "            # get the output from the model\n",
    "            output = model(batch_X)\n",
    "\n",
    "            # calculate the loss and perform backprop\n",
    "            loss = loss_fn(output, batch_y)\n",
    "            #print(1)\n",
    "            loss.backward()\n",
    "            \n",
    "            # `clip_grad_norm` helps prevent the exploding gradient problem in RNNs / LSTMs.\n",
    "            optimizer.step()\n",
    "            \n",
    "            \n",
    "            total_loss += loss.data.item()\n",
    "        print(\"Epoch: {}, BCELoss: {}\".format(epoch, total_loss / len(train_loader)))"
   ]
  },
  {
   "cell_type": "code",
   "execution_count": 27,
   "metadata": {
    "colab": {
     "base_uri": "https://localhost:8080/",
     "height": 102
    },
    "colab_type": "code",
    "id": "vjTkd9uDtaAk",
    "outputId": "03890559-c105-453c-ef3c-462d494dbcba"
   },
   "outputs": [
    {
     "name": "stdout",
     "output_type": "stream",
     "text": [
      "Epoch: 1, BCELoss: -11176.823024657442\n",
      "Epoch: 2, BCELoss: -31933.028258160848\n",
      "Epoch: 3, BCELoss: -37066.55663057653\n",
      "Epoch: 4, BCELoss: -40087.029762826314\n",
      "Epoch: 5, BCELoss: -44503.52359529821\n"
     ]
    }
   ],
   "source": [
    "import torch.optim as optim\n",
    "from model import LSTMClassifier\n",
    "\n",
    "device = torch.device(\"cuda\" if torch.cuda.is_available() else \"cpu\")\n",
    "model = LSTMClassifier(32, 100, 5000).to(device)\n",
    "optimizer = optim.Adam(model.parameters())\n",
    "loss_fn = torch.nn.BCELoss()\n",
    "\n",
    "train(model, train_sample_dl, 5\n",
    "      , optimizer, loss_fn, device)"
   ]
  },
  {
   "cell_type": "code",
   "execution_count": 36,
   "metadata": {
    "colab": {
     "base_uri": "https://localhost:8080/",
     "height": 881
    },
    "colab_type": "code",
    "id": "mDLP8vJNLYn8",
    "outputId": "6ffee41f-035b-4563-af1e-85095b77a9e2"
   },
   "outputs": [],
   "source": [
    "#!pip install sagemaker\n",
    "from sagemaker.pytorch import PyTorch\n",
    "\n",
    "estimator = PyTorch(entry_point=\"train_2.csv\",\n",
    "                    role=role,\n",
    "                    framework_version='0.4.0',\n",
    "                    train_instance_count=1,\n",
    "                    train_instance_type='ml.p2.xlarge',\n",
    "                    hyperparameters={\n",
    "                        'epochs': 10,\n",
    "                        'hidden_dim': 200,\n",
    "                    })"
   ]
  },
  {
   "cell_type": "code",
   "execution_count": 37,
   "metadata": {
    "colab": {},
    "colab_type": "code",
    "id": "x0U4CeAELd0V"
   },
   "outputs": [
    {
     "name": "stdout",
     "output_type": "stream",
     "text": [
      "s3://sagemaker-us-east-1-858554198733/sagemaker/ML-Final-Project\n",
      "2020-02-08 21:27:09 Starting - Starting the training job...\n",
      "2020-02-08 21:27:11 Starting - Launching requested ML instances......\n",
      "2020-02-08 21:28:16 Starting - Preparing the instances for training.........\n",
      "2020-02-08 21:29:50 Downloading - Downloading input data...\n",
      "2020-02-08 21:30:25 Training - Downloading the training image...\n",
      "2020-02-08 21:31:09 Uploading - Uploading generated training model\n",
      "2020-02-08 21:31:09 Failed - Training job failed\n",
      "\u001b[34mbash: cannot set terminal process group (-1): Inappropriate ioctl for device\u001b[0m\n",
      "\u001b[34mbash: no job control in this shell\u001b[0m\n",
      "\u001b[34m2020-02-08 21:30:52,453 sagemaker-containers INFO     Imported framework sagemaker_pytorch_container.training\u001b[0m\n",
      "\u001b[34m2020-02-08 21:30:52,478 sagemaker_pytorch_container.training INFO     Block until all host DNS lookups succeed.\u001b[0m\n",
      "\u001b[34m2020-02-08 21:30:55,492 sagemaker_pytorch_container.training INFO     Invoking user training script.\u001b[0m\n",
      "\u001b[34m2020-02-08 21:30:55,818 sagemaker-containers INFO     Module train_2.csv does not provide a setup.py. \u001b[0m\n",
      "\u001b[34mGenerating setup.py\u001b[0m\n",
      "\u001b[34m2020-02-08 21:30:55,818 sagemaker-containers INFO     Generating setup.cfg\u001b[0m\n",
      "\u001b[34m2020-02-08 21:30:55,818 sagemaker-containers INFO     Generating MANIFEST.in\u001b[0m\n",
      "\u001b[34m2020-02-08 21:30:55,819 sagemaker-containers INFO     Installing module with the following command:\u001b[0m\n",
      "\u001b[34m/usr/bin/python -m pip install -U . \u001b[0m\n",
      "\u001b[34mProcessing /opt/ml/code\u001b[0m\n",
      "\u001b[34mBuilding wheels for collected packages: train-2.csv\n",
      "  Running setup.py bdist_wheel for train-2.csv: started\n",
      "  Running setup.py bdist_wheel for train-2.csv: finished with status 'done'\n",
      "  Stored in directory: /tmp/pip-ephem-wheel-cache-h7eq__0p/wheels/35/24/16/37574d11bf9bde50616c67372a334f94fa8356bc7164af8ca3\u001b[0m\n",
      "\u001b[34mSuccessfully built train-2.csv\u001b[0m\n",
      "\u001b[34mInstalling collected packages: train-2.csv\u001b[0m\n",
      "\u001b[34mSuccessfully installed train-2.csv-1.0.0\u001b[0m\n",
      "\u001b[34mYou are using pip version 18.1, however version 20.0.2 is available.\u001b[0m\n",
      "\u001b[34mYou should consider upgrading via the 'pip install --upgrade pip' command.\u001b[0m\n",
      "\u001b[34m2020-02-08 21:30:57,280 sagemaker-containers INFO     Invoking user script\n",
      "\u001b[0m\n",
      "\u001b[34mTraining Env:\n",
      "\u001b[0m\n",
      "\u001b[34m{\n",
      "    \"network_interface_name\": \"eth0\",\n",
      "    \"resource_config\": {\n",
      "        \"hosts\": [\n",
      "            \"algo-1\"\n",
      "        ],\n",
      "        \"network_interface_name\": \"eth0\",\n",
      "        \"current_host\": \"algo-1\"\n",
      "    },\n",
      "    \"channel_input_dirs\": {\n",
      "        \"training\": \"/opt/ml/input/data/training\"\n",
      "    },\n",
      "    \"input_dir\": \"/opt/ml/input\",\n",
      "    \"hyperparameters\": {\n",
      "        \"epochs\": 10,\n",
      "        \"hidden_dim\": 200\n",
      "    },\n",
      "    \"user_entry_point\": \"train_2.csv\",\n",
      "    \"output_dir\": \"/opt/ml/output\",\n",
      "    \"module_dir\": \"s3://sagemaker-us-east-1-858554198733/sagemaker-pytorch-2020-02-08-21-27-08-850/source/sourcedir.tar.gz\",\n",
      "    \"input_config_dir\": \"/opt/ml/input/config\",\n",
      "    \"log_level\": 20,\n",
      "    \"output_data_dir\": \"/opt/ml/output/data\",\n",
      "    \"job_name\": \"sagemaker-pytorch-2020-02-08-21-27-08-850\",\n",
      "    \"num_cpus\": 4,\n",
      "    \"num_gpus\": 1,\n",
      "    \"output_intermediate_dir\": \"/opt/ml/output/intermediate\",\n",
      "    \"current_host\": \"algo-1\",\n",
      "    \"additional_framework_parameters\": {},\n",
      "    \"hosts\": [\n",
      "        \"algo-1\"\n",
      "    ],\n",
      "    \"model_dir\": \"/opt/ml/model\",\n",
      "    \"module_name\": \"train_2.csv\",\n",
      "    \"framework_module\": \"sagemaker_pytorch_container.training:main\",\n",
      "    \"input_data_config\": {\n",
      "        \"training\": {\n",
      "            \"S3DistributionType\": \"FullyReplicated\",\n",
      "            \"RecordWrapperType\": \"None\",\n",
      "            \"TrainingInputMode\": \"File\"\n",
      "        }\n",
      "    }\u001b[0m\n",
      "\u001b[34m}\n",
      "\u001b[0m\n",
      "\u001b[34mEnvironment variables:\n",
      "\u001b[0m\n",
      "\u001b[34mSM_MODULE_DIR=s3://sagemaker-us-east-1-858554198733/sagemaker-pytorch-2020-02-08-21-27-08-850/source/sourcedir.tar.gz\u001b[0m\n",
      "\u001b[34mPYTHONPATH=/usr/local/bin:/usr/lib/python35.zip:/usr/lib/python3.5:/usr/lib/python3.5/plat-x86_64-linux-gnu:/usr/lib/python3.5/lib-dynload:/usr/local/lib/python3.5/dist-packages:/usr/lib/python3/dist-packages\u001b[0m\n",
      "\u001b[34mSM_NETWORK_INTERFACE_NAME=eth0\u001b[0m\n",
      "\u001b[34mSM_OUTPUT_DATA_DIR=/opt/ml/output/data\u001b[0m\n",
      "\u001b[34mSM_HP_HIDDEN_DIM=200\u001b[0m\n",
      "\u001b[34mSM_LOG_LEVEL=20\u001b[0m\n",
      "\u001b[34mSM_INPUT_DIR=/opt/ml/input\u001b[0m\n",
      "\u001b[34mSM_MODULE_NAME=train_2.csv\u001b[0m\n",
      "\u001b[34mSM_CHANNELS=[\"training\"]\u001b[0m\n",
      "\u001b[34mSM_USER_ENTRY_POINT=train_2.csv\u001b[0m\n",
      "\u001b[34mSM_RESOURCE_CONFIG={\"current_host\":\"algo-1\",\"hosts\":[\"algo-1\"],\"network_interface_name\":\"eth0\"}\u001b[0m\n",
      "\u001b[34mSM_INPUT_DATA_CONFIG={\"training\":{\"RecordWrapperType\":\"None\",\"S3DistributionType\":\"FullyReplicated\",\"TrainingInputMode\":\"File\"}}\u001b[0m\n",
      "\u001b[34mSM_NUM_GPUS=1\u001b[0m\n",
      "\u001b[34mSM_FRAMEWORK_PARAMS={}\u001b[0m\n",
      "\u001b[34mSM_OUTPUT_DIR=/opt/ml/output\u001b[0m\n",
      "\u001b[34mSM_CHANNEL_TRAINING=/opt/ml/input/data/training\u001b[0m\n",
      "\u001b[34mSM_MODEL_DIR=/opt/ml/model\u001b[0m\n",
      "\u001b[34mSM_OUTPUT_INTERMEDIATE_DIR=/opt/ml/output/intermediate\u001b[0m\n",
      "\u001b[34mSM_HPS={\"epochs\":10,\"hidden_dim\":200}\u001b[0m\n",
      "\u001b[34mSM_CURRENT_HOST=algo-1\u001b[0m\n",
      "\u001b[34mSM_HOSTS=[\"algo-1\"]\u001b[0m\n",
      "\u001b[34mSM_FRAMEWORK_MODULE=sagemaker_pytorch_container.training:main\u001b[0m\n",
      "\u001b[34mSM_TRAINING_ENV={\"additional_framework_parameters\":{},\"channel_input_dirs\":{\"training\":\"/opt/ml/input/data/training\"},\"current_host\":\"algo-1\",\"framework_module\":\"sagemaker_pytorch_container.training:main\",\"hosts\":[\"algo-1\"],\"hyperparameters\":{\"epochs\":10,\"hidden_dim\":200},\"input_config_dir\":\"/opt/ml/input/config\",\"input_data_config\":{\"training\":{\"RecordWrapperType\":\"None\",\"S3DistributionType\":\"FullyReplicated\",\"TrainingInputMode\":\"File\"}},\"input_dir\":\"/opt/ml/input\",\"job_name\":\"sagemaker-pytorch-2020-02-08-21-27-08-850\",\"log_level\":20,\"model_dir\":\"/opt/ml/model\",\"module_dir\":\"s3://sagemaker-us-east-1-858554198733/sagemaker-pytorch-2020-02-08-21-27-08-850/source/sourcedir.tar.gz\",\"module_name\":\"train_2.csv\",\"network_interface_name\":\"eth0\",\"num_cpus\":4,\"num_gpus\":1,\"output_data_dir\":\"/opt/ml/output/data\",\"output_dir\":\"/opt/ml/output\",\"output_intermediate_dir\":\"/opt/ml/output/intermediate\",\"resource_config\":{\"current_host\":\"algo-1\",\"hosts\":[\"algo-1\"],\"network_interface_name\":\"eth0\"},\"user_entry_point\":\"train_2.csv\"}\u001b[0m\n",
      "\u001b[34mSM_INPUT_CONFIG_DIR=/opt/ml/input/config\u001b[0m\n",
      "\u001b[34mSM_USER_ARGS=[\"--epochs\",\"10\",\"--hidden_dim\",\"200\"]\u001b[0m\n",
      "\u001b[34mSM_HP_EPOCHS=10\u001b[0m\n",
      "\u001b[34mSM_NUM_CPUS=4\n",
      "\u001b[0m\n",
      "\u001b[34mInvoking script with the following command:\n",
      "\u001b[0m\n",
      "\u001b[34m/usr/bin/python -m train_2.csv --epochs 10 --hidden_dim 200\n",
      "\n",
      "\u001b[0m\n",
      "\u001b[34m2020-02-08 21:30:57,313 sagemaker-containers ERROR    ExecuteUserScriptError:\u001b[0m\n",
      "\u001b[34mCommand \"/usr/bin/python -m train_2.csv --epochs 10 --hidden_dim 200\"\u001b[0m\n",
      "\u001b[34m/usr/bin/python: Error while finding spec for 'train_2.csv' (ImportError: No module named 'train_2')\u001b[0m\n"
     ]
    },
    {
     "ename": "UnexpectedStatusException",
     "evalue": "Error for Training job sagemaker-pytorch-2020-02-08-21-27-08-850: Failed. Reason: AlgorithmError: ExecuteUserScriptError:\nCommand \"/usr/bin/python -m train_2.csv --epochs 10 --hidden_dim 200\"\n/usr/bin/python: Error while finding spec for 'train_2.csv' (ImportError: No module named 'train_2')",
     "output_type": "error",
     "traceback": [
      "\u001b[0;31m---------------------------------------------------------------------------\u001b[0m",
      "\u001b[0;31mUnexpectedStatusException\u001b[0m                 Traceback (most recent call last)",
      "\u001b[0;32m<ipython-input-37-74f038ce7afc>\u001b[0m in \u001b[0;36m<module>\u001b[0;34m()\u001b[0m\n\u001b[1;32m      1\u001b[0m \u001b[0mprint\u001b[0m\u001b[0;34m(\u001b[0m\u001b[0minput_data\u001b[0m\u001b[0;34m)\u001b[0m\u001b[0;34m\u001b[0m\u001b[0m\n\u001b[0;32m----> 2\u001b[0;31m \u001b[0mestimator\u001b[0m\u001b[0;34m.\u001b[0m\u001b[0mfit\u001b[0m\u001b[0;34m(\u001b[0m\u001b[0;34m{\u001b[0m\u001b[0;34m'training'\u001b[0m\u001b[0;34m:\u001b[0m \u001b[0minput_data\u001b[0m\u001b[0;34m}\u001b[0m\u001b[0;34m)\u001b[0m\u001b[0;34m\u001b[0m\u001b[0m\n\u001b[0m",
      "\u001b[0;32m~/anaconda3/envs/pytorch_p36/lib/python3.6/site-packages/sagemaker/estimator.py\u001b[0m in \u001b[0;36mfit\u001b[0;34m(self, inputs, wait, logs, job_name, experiment_config)\u001b[0m\n\u001b[1;32m    462\u001b[0m         \u001b[0mself\u001b[0m\u001b[0;34m.\u001b[0m\u001b[0mjobs\u001b[0m\u001b[0;34m.\u001b[0m\u001b[0mappend\u001b[0m\u001b[0;34m(\u001b[0m\u001b[0mself\u001b[0m\u001b[0;34m.\u001b[0m\u001b[0mlatest_training_job\u001b[0m\u001b[0;34m)\u001b[0m\u001b[0;34m\u001b[0m\u001b[0m\n\u001b[1;32m    463\u001b[0m         \u001b[0;32mif\u001b[0m \u001b[0mwait\u001b[0m\u001b[0;34m:\u001b[0m\u001b[0;34m\u001b[0m\u001b[0m\n\u001b[0;32m--> 464\u001b[0;31m             \u001b[0mself\u001b[0m\u001b[0;34m.\u001b[0m\u001b[0mlatest_training_job\u001b[0m\u001b[0;34m.\u001b[0m\u001b[0mwait\u001b[0m\u001b[0;34m(\u001b[0m\u001b[0mlogs\u001b[0m\u001b[0;34m=\u001b[0m\u001b[0mlogs\u001b[0m\u001b[0;34m)\u001b[0m\u001b[0;34m\u001b[0m\u001b[0m\n\u001b[0m\u001b[1;32m    465\u001b[0m \u001b[0;34m\u001b[0m\u001b[0m\n\u001b[1;32m    466\u001b[0m     \u001b[0;32mdef\u001b[0m \u001b[0m_compilation_job_name\u001b[0m\u001b[0;34m(\u001b[0m\u001b[0mself\u001b[0m\u001b[0;34m)\u001b[0m\u001b[0;34m:\u001b[0m\u001b[0;34m\u001b[0m\u001b[0m\n",
      "\u001b[0;32m~/anaconda3/envs/pytorch_p36/lib/python3.6/site-packages/sagemaker/estimator.py\u001b[0m in \u001b[0;36mwait\u001b[0;34m(self, logs)\u001b[0m\n\u001b[1;32m   1060\u001b[0m         \u001b[0;31m# If logs are requested, call logs_for_jobs.\u001b[0m\u001b[0;34m\u001b[0m\u001b[0;34m\u001b[0m\u001b[0m\n\u001b[1;32m   1061\u001b[0m         \u001b[0;32mif\u001b[0m \u001b[0mlogs\u001b[0m \u001b[0;34m!=\u001b[0m \u001b[0;34m\"None\"\u001b[0m\u001b[0;34m:\u001b[0m\u001b[0;34m\u001b[0m\u001b[0m\n\u001b[0;32m-> 1062\u001b[0;31m             \u001b[0mself\u001b[0m\u001b[0;34m.\u001b[0m\u001b[0msagemaker_session\u001b[0m\u001b[0;34m.\u001b[0m\u001b[0mlogs_for_job\u001b[0m\u001b[0;34m(\u001b[0m\u001b[0mself\u001b[0m\u001b[0;34m.\u001b[0m\u001b[0mjob_name\u001b[0m\u001b[0;34m,\u001b[0m \u001b[0mwait\u001b[0m\u001b[0;34m=\u001b[0m\u001b[0;32mTrue\u001b[0m\u001b[0;34m,\u001b[0m \u001b[0mlog_type\u001b[0m\u001b[0;34m=\u001b[0m\u001b[0mlogs\u001b[0m\u001b[0;34m)\u001b[0m\u001b[0;34m\u001b[0m\u001b[0m\n\u001b[0m\u001b[1;32m   1063\u001b[0m         \u001b[0;32melse\u001b[0m\u001b[0;34m:\u001b[0m\u001b[0;34m\u001b[0m\u001b[0m\n\u001b[1;32m   1064\u001b[0m             \u001b[0mself\u001b[0m\u001b[0;34m.\u001b[0m\u001b[0msagemaker_session\u001b[0m\u001b[0;34m.\u001b[0m\u001b[0mwait_for_job\u001b[0m\u001b[0;34m(\u001b[0m\u001b[0mself\u001b[0m\u001b[0;34m.\u001b[0m\u001b[0mjob_name\u001b[0m\u001b[0;34m)\u001b[0m\u001b[0;34m\u001b[0m\u001b[0m\n",
      "\u001b[0;32m~/anaconda3/envs/pytorch_p36/lib/python3.6/site-packages/sagemaker/session.py\u001b[0m in \u001b[0;36mlogs_for_job\u001b[0;34m(self, job_name, wait, poll, log_type)\u001b[0m\n\u001b[1;32m   3001\u001b[0m \u001b[0;34m\u001b[0m\u001b[0m\n\u001b[1;32m   3002\u001b[0m         \u001b[0;32mif\u001b[0m \u001b[0mwait\u001b[0m\u001b[0;34m:\u001b[0m\u001b[0;34m\u001b[0m\u001b[0m\n\u001b[0;32m-> 3003\u001b[0;31m             \u001b[0mself\u001b[0m\u001b[0;34m.\u001b[0m\u001b[0m_check_job_status\u001b[0m\u001b[0;34m(\u001b[0m\u001b[0mjob_name\u001b[0m\u001b[0;34m,\u001b[0m \u001b[0mdescription\u001b[0m\u001b[0;34m,\u001b[0m \u001b[0;34m\"TrainingJobStatus\"\u001b[0m\u001b[0;34m)\u001b[0m\u001b[0;34m\u001b[0m\u001b[0m\n\u001b[0m\u001b[1;32m   3004\u001b[0m             \u001b[0;32mif\u001b[0m \u001b[0mdot\u001b[0m\u001b[0;34m:\u001b[0m\u001b[0;34m\u001b[0m\u001b[0m\n\u001b[1;32m   3005\u001b[0m                 \u001b[0mprint\u001b[0m\u001b[0;34m(\u001b[0m\u001b[0;34m)\u001b[0m\u001b[0;34m\u001b[0m\u001b[0m\n",
      "\u001b[0;32m~/anaconda3/envs/pytorch_p36/lib/python3.6/site-packages/sagemaker/session.py\u001b[0m in \u001b[0;36m_check_job_status\u001b[0;34m(self, job, desc, status_key_name)\u001b[0m\n\u001b[1;32m   2595\u001b[0m                 ),\n\u001b[1;32m   2596\u001b[0m                 \u001b[0mallowed_statuses\u001b[0m\u001b[0;34m=\u001b[0m\u001b[0;34m[\u001b[0m\u001b[0;34m\"Completed\"\u001b[0m\u001b[0;34m,\u001b[0m \u001b[0;34m\"Stopped\"\u001b[0m\u001b[0;34m]\u001b[0m\u001b[0;34m,\u001b[0m\u001b[0;34m\u001b[0m\u001b[0m\n\u001b[0;32m-> 2597\u001b[0;31m                 \u001b[0mactual_status\u001b[0m\u001b[0;34m=\u001b[0m\u001b[0mstatus\u001b[0m\u001b[0;34m,\u001b[0m\u001b[0;34m\u001b[0m\u001b[0m\n\u001b[0m\u001b[1;32m   2598\u001b[0m             )\n\u001b[1;32m   2599\u001b[0m \u001b[0;34m\u001b[0m\u001b[0m\n",
      "\u001b[0;31mUnexpectedStatusException\u001b[0m: Error for Training job sagemaker-pytorch-2020-02-08-21-27-08-850: Failed. Reason: AlgorithmError: ExecuteUserScriptError:\nCommand \"/usr/bin/python -m train_2.csv --epochs 10 --hidden_dim 200\"\n/usr/bin/python: Error while finding spec for 'train_2.csv' (ImportError: No module named 'train_2')"
     ]
    }
   ],
   "source": [
    "print(input_data)\n",
    "estimator.fit({'training': input_data})"
   ]
  },
  {
   "cell_type": "code",
   "execution_count": null,
   "metadata": {
    "colab": {},
    "colab_type": "code",
    "id": "J9vl-E5aJu8p"
   },
   "outputs": [],
   "source": [
    "# TODO: Deploy the trained model\n",
    "predictor = estimator.deploy(initial_instance_count = 1, instance_type = 'ml.p2.xlarge')"
   ]
  },
  {
   "cell_type": "code",
   "execution_count": null,
   "metadata": {
    "colab": {},
    "colab_type": "code",
    "id": "gEks-XVAOU_5"
   },
   "outputs": [],
   "source": [
    "test_X = pd.concat([pd.DataFrame(test_X_len), pd.DataFrame(test_X)], axis=1)"
   ]
  },
  {
   "cell_type": "code",
   "execution_count": null,
   "metadata": {
    "colab": {},
    "colab_type": "code",
    "id": "94Z9UC1TOaJH"
   },
   "outputs": [],
   "source": [
    "# We split the data into chunks and send each chunk seperately, accumulating the results.\n",
    "\n",
    "def predict(data, rows=512):\n",
    "    split_array = np.array_split(data, int(data.shape[0] / float(rows) + 1))\n",
    "    predictions = np.array([])\n",
    "    for array in split_array:\n",
    "        predictions = np.append(predictions, predictor.predict(array))\n",
    "    \n",
    "    return predictions"
   ]
  },
  {
   "cell_type": "code",
   "execution_count": null,
   "metadata": {
    "colab": {},
    "colab_type": "code",
    "id": "HEBBxqQcOdZh"
   },
   "outputs": [],
   "source": [
    "predictions = predict(test_X.values)\n",
    "predictions = [round(num) for num in predictions]"
   ]
  },
  {
   "cell_type": "code",
   "execution_count": null,
   "metadata": {
    "colab": {},
    "colab_type": "code",
    "id": "XR16Zmb0OhZM"
   },
   "outputs": [],
   "source": [
    "from sklearn.metrics import accuracy_score\n",
    "accuracy_score(test_y, predictions)"
   ]
  },
  {
   "cell_type": "code",
   "execution_count": null,
   "metadata": {
    "colab": {},
    "colab_type": "code",
    "id": "3y4wADM5Oo7T"
   },
   "outputs": [],
   "source": [
    "estimator.delete_endpoint()"
   ]
  },
  {
   "cell_type": "code",
   "execution_count": null,
   "metadata": {
    "colab": {},
    "colab_type": "code",
    "id": "Jhra-uBxPWZm"
   },
   "outputs": [],
   "source": [
    "from sagemaker.predictor import RealTimePredictor\n",
    "from sagemaker.pytorch import PyTorchModel\n",
    "\n",
    "class StringPredictor(RealTimePredictor):\n",
    "    def __init__(self, endpoint_name, sagemaker_session):\n",
    "        super(StringPredictor, self).__init__(endpoint_name, sagemaker_session, content_type='text/plain')\n",
    "\n",
    "model = PyTorchModel(model_data=estimator.model_data,\n",
    "                     role = role,\n",
    "                     framework_version='0.4.0',\n",
    "                     entry_point='predict.py',\n",
    "                     source_dir='serve',\n",
    "                     predictor_cls=StringPredictor)\n",
    "predictor = model.deploy(initial_instance_count=1, instance_type='ml.p2.xlarge')"
   ]
  },
  {
   "cell_type": "code",
   "execution_count": null,
   "metadata": {
    "colab": {},
    "colab_type": "code",
    "id": "dgydZQhcPZVi"
   },
   "outputs": [],
   "source": [
    "import glob\n",
    "\n",
    "def test_reviews(data_dir='../data/aclImdb', stop=250):\n",
    "    \n",
    "    results = []\n",
    "    ground = []\n",
    "    \n",
    "    # We make sure to test both positive and negative reviews    \n",
    "    for sentiment in ['pos', 'neg']:\n",
    "        \n",
    "        path = os.path.join(data_dir, 'test', sentiment, '*.txt')\n",
    "        files = glob.glob(path)\n",
    "        \n",
    "        files_read = 0\n",
    "        \n",
    "        print('Starting ', sentiment, ' files')\n",
    "        \n",
    "        # Iterate through the files and send them to the predictor\n",
    "        for f in files:\n",
    "            with open(f) as review:\n",
    "                # First, we store the ground truth (was the review positive or negative)\n",
    "                if sentiment == 'pos':\n",
    "                    ground.append(1)\n",
    "                else:\n",
    "                    ground.append(0)\n",
    "                # Read in the review and convert to 'utf-8' for transmission via HTTP\n",
    "                review_input = review.read().encode('utf-8')\n",
    "                # Send the review to the predictor and store the results\n",
    "                results.append(int(float(predictor.predict(review_input))))\n",
    "                \n",
    "            # Sending reviews to our endpoint one at a time takes a while so we\n",
    "            # only send a small number of reviews\n",
    "            files_read += 1\n",
    "            if files_read == stop:\n",
    "                break\n",
    "            \n",
    "    return ground, results"
   ]
  },
  {
   "cell_type": "code",
   "execution_count": null,
   "metadata": {
    "colab": {},
    "colab_type": "code",
    "id": "DNVRMtxKPda7"
   },
   "outputs": [],
   "source": [
    "ground, results = test_reviews()"
   ]
  },
  {
   "cell_type": "code",
   "execution_count": null,
   "metadata": {
    "colab": {},
    "colab_type": "code",
    "id": "yCkuC5moPg7M"
   },
   "outputs": [],
   "source": [
    "from sklearn.metrics import accuracy_score\n",
    "accuracy_score(ground, results)"
   ]
  }
 ],
 "metadata": {
  "colab": {
   "collapsed_sections": [],
   "name": "Untitled0.ipynb",
   "provenance": [],
   "toc_visible": true
  },
  "kernelspec": {
   "display_name": "conda_pytorch_p36",
   "language": "python",
   "name": "conda_pytorch_p36"
  },
  "language_info": {
   "codemirror_mode": {
    "name": "ipython",
    "version": 3
   },
   "file_extension": ".py",
   "mimetype": "text/x-python",
   "name": "python",
   "nbconvert_exporter": "python",
   "pygments_lexer": "ipython3",
   "version": "3.6.5"
  }
 },
 "nbformat": 4,
 "nbformat_minor": 1
}
