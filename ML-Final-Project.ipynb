{
  "nbformat": 4,
  "nbformat_minor": 0,
  "metadata": {
    "colab": {
      "name": "Untitled0.ipynb",
      "provenance": [],
      "collapsed_sections": [],
      "toc_visible": true
    },
    "kernelspec": {
      "name": "python3",
      "display_name": "Python 3"
    }
  },
  "cells": [
    {
      "cell_type": "code",
      "metadata": {
        "id": "EDZPgkeJ_ptc",
        "colab_type": "code",
        "colab": {}
      },
      "source": [
        "# import libraries\n",
        "import pandas as pd\n",
        "import numpy as np\n",
        "import os\n",
        "import re"
      ],
      "execution_count": 0,
      "outputs": []
    },
    {
      "cell_type": "code",
      "metadata": {
        "id": "Oi8-J1i6B8fm",
        "colab_type": "code",
        "colab": {}
      },
      "source": [
        "#from google.colab import files\n",
        "#uploaded = files.upload()\n",
        "#!unzip nlp-getting-started.zip"
      ],
      "execution_count": 0,
      "outputs": []
    },
    {
      "cell_type": "code",
      "metadata": {
        "id": "wceVleFSCkKW",
        "colab_type": "code",
        "colab": {}
      },
      "source": [
        "train_df = pd.read_csv('train.csv')\n",
        "#print(train_df)\n",
        "\n",
        "test_df = pd.read_csv('test.csv')\n",
        "#print(test_df)\n",
        "\n",
        "submission_df = pd.read_csv('sample_submission.csv')\n",
        "#print(submission_df)"
      ],
      "execution_count": 0,
      "outputs": []
    },
    {
      "cell_type": "code",
      "metadata": {
        "id": "jSRDJfUFEBbn",
        "colab_type": "code",
        "colab": {
          "base_uri": "https://localhost:8080/",
          "height": 34
        },
        "outputId": "12a0f84c-7e56-472f-ef46-aa39deacfde7"
      },
      "source": [
        "train_df = train_df.dropna()\n",
        "print(train_df.isnull().values.any())"
      ],
      "execution_count": 4,
      "outputs": [
        {
          "output_type": "stream",
          "text": [
            "False\n"
          ],
          "name": "stdout"
        }
      ]
    },
    {
      "cell_type": "code",
      "metadata": {
        "id": "985drWYwEwto",
        "colab_type": "code",
        "colab": {
          "base_uri": "https://localhost:8080/",
          "height": 136
        },
        "outputId": "91907ce5-ef0f-41f6-8221-30d5deca479d"
      },
      "source": [
        "cols = train_df.columns.tolist()\n",
        "cols.insert(0, cols.pop(cols.index('target')))\n",
        "train_df = train_df.reindex(columns= cols)\n",
        "\n",
        "print(train_df.dtypes=='object')\n",
        "print(train_df.select_dtypes(exclude='number').columns.values)\n",
        "#print(train_df[train_df['text']==])"
      ],
      "execution_count": 5,
      "outputs": [
        {
          "output_type": "stream",
          "text": [
            "target      False\n",
            "id          False\n",
            "keyword      True\n",
            "location     True\n",
            "text         True\n",
            "dtype: bool\n",
            "['keyword' 'location' 'text']\n"
          ],
          "name": "stdout"
        }
      ]
    },
    {
      "cell_type": "code",
      "metadata": {
        "id": "8_-cSgUiNX1H",
        "colab_type": "code",
        "colab": {}
      },
      "source": [
        "#train_df = train_df.applymap(lambda s:s.lower() if type(s) == str else s)\n",
        "\n",
        "#URLless_string = re.sub(r'(?i)\\b((?:https?://|www\\d{0,3}[.]|[a-z0-9.\\-]+[.][a-z]{2,4}/)(?:[^\\s()<>]+|\\(([^\\s()<>]+|(\\([^\\s()<>]+\\)))*\\))+(?:\\(([^\\s()<>]+|(\\([^\\s()<>]+\\)))*\\)|[^\\s`!()\\[\\]{};:\\'\".,<>?«»“”‘’]))', '', thestring)\n",
        "\n",
        "#train_df = train_df.replace(r'(?i)\\b((?:https?://|www\\d{0,3}[.]|[a-z0-9.\\-]+[.][a-z]{2,4}/)(?:[^\\s()<>]+|\\(([^\\s()<>]+|(\\([^\\s()<>]+\\)))*\\))+(?:\\(([^\\s()<>]+|(\\([^\\s()<>]+\\)))*\\)|[^\\s`!()\\[\\]{};:\\'\".,<>?«»“”‘’]))', '',regex=True)\n",
        "\n",
        "#text = re.sub(r'^https?:\\/\\/.*[\\r\\n]*', '', text, flags=re.MULTILINE)\n",
        "\n",
        "#train_df = train_df.replace('[^a-zA-Z ]', '',regex=True)\n",
        "\n",
        "#train_df = train_df.applymap(lambda s:re.sub(\"^a-zA-Z0-9\", \"\", s))\n",
        "\n",
        "#string_columns = train_df.select_dtypes(exclude='number').columns.values\n",
        "\n",
        "#for i in string_columns:\n",
        "#  for j in train_df.index:\n",
        "#    try:\n",
        "#      h = 2\n",
        "      #train_df[i][j] = train_df[i][j].lower()\n",
        "      #train_df[i][j] = re.sub()  \n",
        "#    except:\n",
        "#      pass\n",
        "    \n",
        "#print(train_df)"
      ],
      "execution_count": 0,
      "outputs": []
    },
    {
      "cell_type": "code",
      "metadata": {
        "id": "QPr4Z0D3FiNX",
        "colab_type": "code",
        "colab": {}
      },
      "source": [
        "import nltk\n",
        "from nltk.corpus import stopwords\n",
        "from nltk.stem.porter import *\n",
        "#!pip install urllib.request\n",
        "from urllib.request import urlopen\n",
        "#from urllib2 import urlopen\n",
        "\n",
        "import re\n",
        "from bs4 import BeautifulSoup\n",
        "\n",
        "def review_to_words(review):\n",
        "    nltk.download(\"stopwords\", quiet=True)\n",
        "    stemmer = PorterStemmer()\n",
        "    \n",
        "    text = BeautifulSoup(review, \"html.parser\").get_text() # Remove HTML tags\n",
        "    text = re.sub(r\"[^a-zA-Z]\", \" \", text.lower()) # Convert to lower case\n",
        "    words = text.split() # Split string into words\n",
        "    words = [w for w in words if w not in stopwords.words(\"english\")] # Remove stopwords\n",
        "    words = [PorterStemmer().stem(w) for w in words] # stem\n",
        "    \n",
        "    return words"
      ],
      "execution_count": 0,
      "outputs": []
    },
    {
      "cell_type": "code",
      "metadata": {
        "id": "8CQNfQTTFuMV",
        "colab_type": "code",
        "colab": {
          "base_uri": "https://localhost:8080/",
          "height": 255
        },
        "outputId": "eb49c1e1-c3d6-476a-eb41-49893f01229b"
      },
      "source": [
        "train_df['text'] = train_df['text'].apply(lambda s:review_to_words(s) if type(s) == str else s)\n",
        "#review_to_words(train_df)\n",
        "print(train_df)"
      ],
      "execution_count": 8,
      "outputs": [
        {
          "output_type": "stream",
          "text": [
            "      target  ...                                               text\n",
            "31         1  ...  [bbcmtd, wholesal, market, ablaz, http, co, lh...\n",
            "32         0  ...  [alway, tri, bring, heavi, metal, rt, http, co...\n",
            "33         1  ...  [africanbaz, break, news, nigeria, flag, set, ...\n",
            "34         0  ...                                  [cri, set, ablaz]\n",
            "35         0  ...  [plu, side, look, sky, last, night, ablaz, htt...\n",
            "...      ...  ...                                                ...\n",
            "7575       0  ...        [bright, side, wreck, http, co, uea, txrhi]\n",
            "7577       0  ...  [widda, gone, relax, thought, wife, wreck, cak...\n",
            "7579       0  ...  [three, day, work, pretti, much, wreck, hahaha...\n",
            "7580       0  ...  [fx, forex, trade, cramer, iger, word, wreck, ...\n",
            "7581       0  ...  [enginesh, great, atmospher, british, lion, gi...\n",
            "\n",
            "[5080 rows x 5 columns]\n"
          ],
          "name": "stdout"
        }
      ]
    },
    {
      "cell_type": "code",
      "metadata": {
        "id": "KxUMjxyYULSM",
        "colab_type": "code",
        "colab": {}
      },
      "source": [
        "import numpy as np\n",
        "\n",
        "def build_dict(data, vocab_size = 5000):\n",
        "    \"\"\"Construct and return a dictionary mapping each of the most frequently appearing words to a unique integer.\"\"\"\n",
        "\n",
        "    from collections import Counter\n",
        "\n",
        "    words = []\n",
        "    \n",
        "    words = np.hstack(data)\n",
        "    \n",
        "    word_count = {} \n",
        "    word_count = Counter(words)\n",
        "     \n",
        "    sorted_words = sorted(word_count, key=word_count.get, reverse=True)\n",
        "    \n",
        "    word_dict = {} \n",
        "    for idx, word in enumerate(sorted_words[:vocab_size - 2]): \n",
        "        word_dict[word] = idx + 2                              \n",
        "        \n",
        "    return word_dict"
      ],
      "execution_count": 0,
      "outputs": []
    },
    {
      "cell_type": "code",
      "metadata": {
        "id": "VMdV4yH2UqlQ",
        "colab_type": "code",
        "colab": {
          "base_uri": "https://localhost:8080/",
          "height": 54
        },
        "outputId": "bb627067-733a-4a8f-dcd3-985358d02494"
      },
      "source": [
        "word_dict = build_dict(train_df['text'])\n",
        "print(word_dict)"
      ],
      "execution_count": 10,
      "outputs": [
        {
          "output_type": "stream",
          "text": [
            "{'co': 2, 'http': 3, 'like': 4, 'fire': 5, 'get': 6, 'new': 7, 'via': 8, 'bomb': 9, 'peopl': 10, 'go': 11, 'one': 12, 'u': 13, 'news': 14, 'time': 15, 'emerg': 16, 'flood': 17, 'burn': 18, 'build': 19, 'attack': 20, 'kill': 21, 'w': 22, 'video': 23, 'year': 24, 'day': 25, 'polic': 26, 'look': 27, 'crash': 28, 'bodi': 29, 'disast': 30, 'say': 31, 'p': 32, 'fatal': 33, 'see': 34, 'famili': 35, 'us': 36, 'watch': 37, 'would': 38, 'man': 39, 'love': 40, 'c': 41, 'know': 42, 'make': 43, 'still': 44, 'x': 45, 'evacu': 46, 'storm': 47, 'b': 48, 'derail': 49, 'back': 50, 'collaps': 51, 'r': 52, 'train': 53, 'come': 54, 'n': 55, 'work': 56, 'pm': 57, 'death': 58, 'scream': 59, 'e': 60, 'first': 61, 'plan': 62, 'accid': 63, 'take': 64, 'live': 65, 'home': 66, 'car': 67, 'full': 68, 'need': 69, 'think': 70, 'bag': 71, 'want': 72, 'two': 73, 'world': 74, 'today': 75, 'h': 76, 'california': 77, 'destroy': 78, 'rt': 79, 'obliter': 80, 'l': 81, 'caus': 82, 'way': 83, 'v': 84, 'got': 85, 'dead': 86, 'servic': 87, 'nuclear': 88, 'help': 89, 'j': 90, 'weapon': 91, 'suicid': 92, 'life': 93, 'let': 94, 'murder': 95, 'g': 96, 'injuri': 97, 'war': 98, 'old': 99, 'hiroshima': 100, 'wound': 101, 'rescu': 102, 'z': 103, 'read': 104, 'report': 105, 'drown': 106, 'last': 107, 'good': 108, 'surviv': 109, 'feel': 110, 'may': 111, 'youtub': 112, 'use': 113, 'fear': 114, 'q': 115, 'even': 116, 'hijack': 117, 'mani': 118, 'best': 119, 'wreck': 120, 'mass': 121, 'devast': 122, 'die': 123, 'k': 124, 'could': 125, 'deton': 126, 'right': 127, 'fuck': 128, 'collid': 129, 'much': 130, 'black': 131, 'wave': 132, 'damag': 133, 'state': 134, 'realli': 135, 'run': 136, 'anoth': 137, 'photo': 138, 'warn': 139, 'hot': 140, 'riot': 141, 'confirm': 142, 'demolish': 143, 'call': 144, 'mh': 145, 'tri': 146, 'pleas': 147, 'citi': 148, 'stop': 149, 'f': 150, 'lol': 151, 'hope': 152, 'wind': 153, 'set': 154, 'thing': 155, 'fall': 156, 'water': 157, 'casualti': 158, 'head': 159, 'th': 160, 'show': 161, 'save': 162, 'miss': 163, 'hazard': 164, 'legionnair': 165, 'hous': 166, 'area': 167, 'explod': 168, 'desol': 169, 'reddit': 170, 'quarantin': 171, 'break': 172, 'everi': 173, 'issu': 174, 'end': 175, 'never': 176, 'hit': 177, 'rain': 178, 'chang': 179, 'natur': 180, 'respond': 181, 'weather': 182, 'flame': 183, 'crush': 184, 'hostag': 185, 'thank': 186, 'near': 187, 'happen': 188, 'said': 189, 'siren': 190, 'sever': 191, 'catastroph': 192, 'thunderstorm': 193, 'check': 194, 'next': 195, 'everyon': 196, 'face': 197, 'job': 198, 'cross': 199, 'post': 200, 'offic': 201, 'wildfir': 202, 'armi': 203, 'start': 204, 'injur': 205, 'releas': 206, 'play': 207, 'earthquak': 208, 'game': 209, 'im': 210, 'obama': 211, 'women': 212, 'collis': 213, 'content': 214, 'delug': 215, 'st': 216, 'great': 217, 'forest': 218, 'stori': 219, 'ass': 220, 'danger': 221, 'road': 222, 'minut': 223, 'suspect': 224, 'offici': 225, 'well': 226, 'school': 227, 'japan': 228, 'blaze': 229, 'power': 230, 'follow': 231, 'oil': 232, 'shit': 233, 'ok': 234, 'annihil': 235, 'guy': 236, 'atom': 237, 'battl': 238, 'land': 239, 'investig': 240, 'typhoon': 241, 'electrocut': 242, 'nation': 243, 'boy': 244, 'girl': 245, 'sinc': 246, 'night': 247, 'move': 248, 'god': 249, 'also': 250, 'lot': 251, 'bioterror': 252, 'keep': 253, 'ruin': 254, 'structur': 255, 'inund': 256, 'trap': 257, 'found': 258, 'wild': 259, 'hail': 260, 'light': 261, 'sound': 262, 'intern': 263, 'lightn': 264, 'bloodi': 265, 'real': 266, 'updat': 267, 'babi': 268, 'displac': 269, 'spill': 270, 'china': 271, 'malaysia': 272, 'loud': 273, 'market': 274, 'care': 275, 'shot': 276, 'truck': 277, 'littl': 278, 'hour': 279, 'ever': 280, 'self': 281, 'red': 282, 'leav': 283, 'drought': 284, 'harm': 285, 'outbreak': 286, 'debri': 287, 'fight': 288, 'movi': 289, 'yr': 290, 'heat': 291, 'made': 292, 'open': 293, 'declar': 294, 'sandstorm': 295, 'sinkhol': 296, 'whirlwind': 297, 'around': 298, 'tonight': 299, 'rd': 300, 'close': 301, 'someon': 302, 'airplan': 303, 'eye': 304, 'total': 305, 'week': 306, 'terrorist': 307, 'refuge': 308, 'panic': 309, 'migrant': 310, 'bomber': 311, 'alway': 312, 'talk': 313, 'air': 314, 'ambul': 315, 'thought': 316, 'destruct': 317, 'sign': 318, 'without': 319, 'away': 320, 'order': 321, 'latest': 322, 'must': 323, 'friend': 324, 'smoke': 325, 'stay': 326, 'charg': 327, 'put': 328, 'affect': 329, 'chemic': 330, 'flatten': 331, 'bang': 332, 'wreckag': 333, 'kid': 334, 'support': 335, 'heard': 336, 'island': 337, 'august': 338, 'armageddon': 339, 'terror': 340, 'person': 341, 'send': 342, 'counti': 343, 'sink': 344, 'blown': 345, 'hear': 346, 'blast': 347, 'summer': 348, 'south': 349, 'explos': 350, 'free': 351, 'ship': 352, 'blood': 353, 'dog': 354, 'went': 355, 'soon': 356, 'militari': 357, 'northern': 358, 'food': 359, 'plane': 360, 'beauti': 361, 'fedex': 362, 'cool': 363, 'pic': 364, 'bu': 365, 'high': 366, 'ladi': 367, 'hundr': 368, 'mudslid': 369, 'rainstorm': 370, 'horribl': 371, 'left': 372, 'came': 373, 'actual': 374, 'trauma': 375, 'wait': 376, 'long': 377, 'saw': 378, 'bad': 379, 'find': 380, 'whole': 381, 'failur': 382, 'effect': 383, 'cliff': 384, 'landslid': 385, 'curfew': 386, 'stock': 387, 'swallow': 388, 'sunk': 389, 'windstorm': 390, 'better': 391, 'expect': 392, 'nowplay': 393, 'past': 394, 'rememb': 395, 'second': 396, 'airport': 397, 'tomorrow': 398, 'violent': 399, 'american': 400, 'woman': 401, 'group': 402, 'music': 403, 'oh': 404, 'half': 405, 'hurrican': 406, 'dust': 407, 'prebreak': 408, 'snowstorm': 409, 'someth': 410, 'traffic': 411, 'top': 412, 'drive': 413, 'brown': 414, 'bar': 415, 'fan': 416, 'part': 417, 'twitter': 418, 'forc': 419, 'team': 420, 'calgari': 421, 'deal': 422, 'song': 423, 'word': 424, 'wanna': 425, 'survivor': 426, 'bridg': 427, 'volcano': 428, 'ban': 429, 'zone': 430, 'troubl': 431, 'lava': 432, 'bestnaijamad': 433, 'ablaz': 434, 'side': 435, 'west': 436, 'north': 437, 'heart': 438, 'block': 439, 'turn': 440, 'meltdown': 441, 'goe': 442, 'govern': 443, 'believ': 444, 'sure': 445, 'iran': 446, 'wake': 447, 'pick': 448, 'media': 449, 'ad': 450, 'lab': 451, 'big': 452, 'ur': 453, 'anniversari': 454, 'wonder': 455, 'boat': 456, 'memori': 457, 'project': 458, 'thunder': 459, 'tsunami': 460, 'pandemonium': 461, 'flag': 462, 'vehicl': 463, 'possibl': 464, 'tell': 465, 'place': 466, 'river': 467, 'gonna': 468, 'busi': 469, 'listen': 470, 'star': 471, 'longer': 472, 'bleed': 473, 'blew': 474, 'line': 475, 'blight': 476, 'spot': 477, 'pkk': 478, 'insur': 479, 'traumatis': 480, 'imag': 481, 'tree': 482, 'tornado': 483, 'panick': 484, 'upheav': 485, 'due': 486, 'center': 487, 'america': 488, 'book': 489, 'almost': 490, 'shoot': 491, 'fun': 492, 'share': 493, 'point': 494, 'arson': 495, 'link': 496, 'ye': 497, 'insid': 498, 'firefight': 499, 'level': 500, 'polici': 501, 'tragedi': 502, 'alarm': 503, 'camp': 504, 'health': 505, 'demolit': 506, 'massacr': 507, 'rubbl': 508, 'least': 509, 'happi': 510, 'outsid': 511, 'final': 512, 'properti': 513, 'reunion': 514, 'ago': 515, 'walk': 516, 'nigga': 517, 'countri': 518, 'ask': 519, 'shoulder': 520, 'isra': 521, 'yeah': 522, 'offens': 523, 'gun': 524, 'tweet': 525, 'transport': 526, 'bc': 527, 'rock': 528, 'noth': 529, 'islam': 530, 'aug': 531, 'nearbi': 532, 'gbbo': 533, 'bush': 534, 'film': 535, 'km': 536, 'cyclon': 537, 'low': 538, 'eyewit': 539, 'famin': 540, 'conclus': 541, 'reactor': 542, 'sue': 543, 'twister': 544, 'public': 545, 'pain': 546, 'done': 547, 'omg': 548, 'phone': 549, 'ebay': 550, 'em': 551, 'action': 552, 'reason': 553, 'far': 554, 'children': 555, 'peac': 556, 'case': 557, 'white': 558, 'sit': 559, 'ca': 560, 'yet': 561, 'india': 562, 'avalanch': 563, 'probabl': 564, 'centr': 565, 'rescuer': 566, 'engulf': 567, 'hat': 568, 'stretcher': 569, 'bring': 570, 'sky': 571, 'men': 572, 'victim': 573, 'hate': 574, 'everyth': 575, 'horror': 576, 'hell': 577, 'human': 578, 'apocalyps': 579, 'fast': 580, 'data': 581, 'east': 582, 'drink': 583, 'green': 584, 'million': 585, 'muslim': 586, 'act': 587, 'christian': 588, 'gem': 589, 'track': 590, 'appear': 591, 'turkey': 592, 'unit': 593, 'comput': 594, 'street': 595, 'downtown': 596, 'rise': 597, 'mph': 598, 'saudi': 599, 'angri': 600, 'mayb': 601, 'becom': 602, 'hailstorm': 603, 'heavi': 604, 'lord': 605, 'site': 606, 'arsonist': 607, 'avoid': 608, 'helicopt': 609, 'coupl': 610, 'driver': 611, 'poor': 612, 'hand': 613, 'histori': 614, 'major': 615, 'prepar': 616, 'okay': 617, 'damn': 618, 'give': 619, 'nd': 620, 'space': 621, 'lie': 622, 'name': 623, 'lost': 624, 'cake': 625, 'search': 626, 'secur': 627, 'wow': 628, 'strike': 629, 'crew': 630, 'meek': 631, 'mark': 632, 'mountain': 633, 'flash': 634, 'morn': 635, 'special': 636, 'soudelor': 637, 'utc': 638, 'seismic': 639, 'hellfir': 640, 'thousand': 641, 'front': 642, 'month': 643, 'huge': 644, 'involv': 645, 'alreadi': 646, 'begin': 647, 'might': 648, 'lead': 649, 'park': 650, 'hey': 651, 'sorri': 652, 'seen': 653, 'complet': 654, 'mine': 655, 'tv': 656, 'anyth': 657, 'hire': 658, 'mount': 659, 'answer': 660, 'cover': 661, 'taken': 662, 'australia': 663, 'grow': 664, 'agre': 665, 'wed': 666, 'mean': 667, 'bigger': 668, 'three': 669, 'continu': 670, 'emot': 671, 'uk': 672, 'quiz': 673, 'unconfirm': 674, 'neighbour': 675, 'alon': 676, 'other': 677, 'secret': 678, 'scene': 679, 'aftershock': 680, 'win': 681, 'daili': 682, 'stand': 683, 'entir': 684, 'usa': 685, 'scare': 686, 'learn': 687, 'control': 688, 'milit': 689, 'radio': 690, 'occur': 691, 'interest': 692, 'ga': 693, 'event': 694, 'town': 695, 'pretti': 696, 'info': 697, 'though': 698, 'fashion': 699, 'gener': 700, 'giant': 701, 'mp': 702, 'return': 703, 'number': 704, 'compani': 705, 'british': 706, 'anim': 707, 'cost': 708, 'exchang': 709, 'across': 710, 'mosqu': 711, 'patienc': 712, 'passeng': 713, 'creat': 714, 'led': 715, 'mayhem': 716, 'ancient': 717, 'disea': 718, 'student': 719, 'owner': 720, 'dr': 721, 'ice': 722, 'wrong': 723, 'lose': 724, 'expert': 725, 'member': 726, 'cop': 727, 'worri': 728, 'crazi': 729, 'pass': 730, 'meet': 731, 'ball': 732, 'allow': 733, 'child': 734, 'base': 735, 'blue': 736, 'leather': 737, 'amid': 738, 'captur': 739, 'gave': 740, 'worst': 741, 'piec': 742, 'anthrax': 743, 'research': 744, 'trust': 745, 'hollywood': 746, 'threat': 747, 'dont': 748, 'seek': 749, 'coast': 750, 'parti': 751, 'mom': 752, 'money': 753, 'hold': 754, 'chanc': 755, 'crisi': 756, 'emmerdal': 757, 'apollo': 758, 'saipan': 759, 'cree': 760, 'lamp': 761, 'bayelsa': 762, 'refugio': 763, 'costlier': 764, 'cri': 765, 'singl': 766, 'hard': 767, 'els': 768, 'mile': 769, 'comment': 770, 'danc': 771, 'global': 772, 'anyon': 773, 'target': 774, 'ny': 775, 'pull': 776, 'vs': 777, 'caught': 778, 'arrest': 779, 'beach': 780, 'templ': 781, 'pamela': 782, 'liter': 783, 'king': 784, 'album': 785, 'germ': 786, 'mishap': 787, 'cut': 788, 'problem': 789, 'concern': 790, 'test': 791, 'nearli': 792, 'mad': 793, 'ash': 794, 'dude': 795, 'activ': 796, 'result': 797, 'blizzard': 798, 'moment': 799, 'wall': 800, 'sad': 801, 'russia': 802, 'mind': 803, 'handbag': 804, 'drake': 805, 'arriv': 806, 'drop': 807, 'villag': 808, 'true': 809, 'wors': 810, 'western': 811, 'differ': 812, 'rate': 813, 'denver': 814, 'instead': 815, 'myanmar': 816, 'aircraft': 817, 'flight': 818, 'nw': 819, 'sick': 820, 'funtenna': 821, 'miner': 822, 'subreddit': 823, 'trench': 824, 'aba': 825, 'season': 826, 'usual': 827, 'lane': 828, 'four': 829, 'includ': 830, 'rip': 831, 'israel': 832, 'soul': 833, 'question': 834, 'depart': 835, 'rule': 836, 'toddler': 837, 'extrem': 838, 'class': 839, 'indian': 840, 'chicago': 841, 'texa': 842, 'gop': 843, 'civilian': 844, 'geller': 845, 'loss': 846, 'join': 847, 'deep': 848, 'metro': 849, 'estim': 850, 'art': 851, 'favorit': 852, 'rather': 853, 'tote': 854, 'mt': 855, 'readi': 856, 'board': 857, 'nagasaki': 858, 'etc': 859, 'press': 860, 'larg': 861, 'la': 862, 'account': 863, 'oper': 864, 'onlin': 865, 'predict': 866, 'manag': 867, 'ft': 868, 'isi': 869, 'york': 870, 'abc': 871, 'earli': 872, 'freak': 873, 'queen': 874, 'richmond': 875, 'nurs': 876, 'offroad': 877, 'jonathan': 878, 'awesom': 879, 'el': 880, 'climat': 881, 'sunday': 882, 'delay': 883, 'pilot': 884, 'wednesday': 885, 'mode': 886, 'polit': 887, 'bit': 888, 'risk': 889, 'salt': 890, 'hors': 891, 'current': 892, 'stage': 893, 'imagin': 894, 'bed': 895, 'seri': 896, 'sens': 897, 'escap': 898, 'sport': 899, 'ya': 900, 'potu': 901, 'author': 902, 'palestinian': 903, 'local': 904, 'cant': 905, 'court': 906, 'udhampur': 907, 'shift': 908, 'respons': 909, 'claim': 910, 'abus': 911, 'fukushima': 912, 'design': 913, 'sea': 914, 'playlist': 915, 'deliv': 916, 'futur': 917, 'technolog': 918, 'bless': 919, 'aw': 920, 'glad': 921, 'limit': 922, 'russian': 923, 'idea': 924, 'london': 925, 'amazon': 926, 'sp': 927, 'thursday': 928, 'outrag': 929, 'non': 930, 'remain': 931, 'small': 932, 'ppl': 933, 'middl': 934, 'vote': 935, 'seattl': 936, 'tent': 937, 'step': 938, 'reach': 939, 'spring': 940, 'seem': 941, 'cat': 942, 'di': 943, 'taiwan': 944, 'diseas': 945, 'wash': 946, 'room': 947, 'coach': 948, 'libya': 949, 'pakistan': 950, 'abandon': 951, 'roosevelt': 952, 'map': 953, 'apc': 954, 'metal': 955, 'visit': 956, 'later': 957, 'ave': 958, 'angel': 959, 'price': 960, 'david': 961, 'guess': 962, 'dream': 963, 'franc': 964, 'pakistani': 965, 'welcom': 966, 'met': 967, 'safeti': 968, 'paul': 969, 'apart': 970, 'law': 971, 'snow': 972, 'remind': 973, 'beat': 974, 'door': 975, 'hero': 976, 'da': 977, 'struggl': 978, 'gay': 979, 'remov': 980, 'user': 981, 'so': 982, 'trump': 983, 'box': 984, 'fleet': 985, 'yi': 986, 'usatoday': 987, 'foxnew': 988, 'gm': 989, 'ahead': 990, 'pictur': 991, 'ear': 992, 'told': 993, 'mention': 994, 'load': 995, 'commun': 996, 'articl': 997, 'friday': 998, 'suppos': 999, 'killer': 1000, 'bb': 1001, 'faux': 1002, 'purs': 1003, 'hobo': 1004, 'tablet': 1005, 'buy': 1006, 'washington': 1007, 'pray': 1008, 'central': 1009, 'rocki': 1010, 'threaten': 1011, 'hurt': 1012, 'young': 1013, 'lift': 1014, 'appli': 1015, 'understand': 1016, 'cancer': 1017, 'reduc': 1018, 'record': 1019, 'strong': 1020, 'ten': 1021, 'biggest': 1022, 'replac': 1023, 'sleep': 1024, 'interview': 1025, 'glass': 1026, 'gold': 1027, 'fish': 1028, 'dan': 1029, 'san': 1030, 'disney': 1031, 'pc': 1032, 'lake': 1033, 'smaug': 1034, 'marian': 1035, 'veteran': 1036, 'manslaught': 1037, 'cdt': 1038, 'modifi': 1039, 'stadium': 1040, 'raze': 1041, 'edm': 1042, 'michael': 1043, 'hwi': 1044, 'manchest': 1045, 'consid': 1046, 'sometim': 1047, 'juli': 1048, 'drone': 1049, 'choic': 1050, 'petit': 1051, 'episod': 1052, 'un': 1053, 'match': 1054, 'sw': 1055, 'fuel': 1056, 'dad': 1057, 'enjoy': 1058, 'bear': 1059, 'earth': 1060, 'yesterday': 1061, 'window': 1062, 'ww': 1063, 'japanes': 1064, 'ap': 1065, 'nice': 1066, 'blame': 1067, 'feat': 1068, 'nyc': 1069, 'eat': 1070, 'fat': 1071, 'loui': 1072, 'kick': 1073, 'yo': 1074, 'potenti': 1075, 'doubl': 1076, 'bitch': 1077, 'worth': 1078, 'sun': 1079, 'text': 1080, 'economi': 1081, 'ha': 1082, 'pay': 1083, 'tho': 1084, 'weekend': 1085, 'hello': 1086, 'arm': 1087, 'af': 1088, 'impact': 1089, 'turkish': 1090, 'stuff': 1091, 'nu': 1092, 'upset': 1093, 'behind': 1094, 'blow': 1095, 'ground': 1096, 'social': 1097, 'parent': 1098, 'ticket': 1099, 'express': 1100, 'govt': 1101, 'industri': 1102, 'suffer': 1103, 'repair': 1104, 'ceo': 1105, 'anymor': 1106, 'ex': 1107, 'absolut': 1108, 'list': 1109, 'catch': 1110, 'super': 1111, 'electr': 1112, 'highway': 1113, 'bicyclist': 1114, 'trfc': 1115, 'stress': 1116, 'charact': 1117, 'phoenix': 1118, 'offer': 1119, 'rail': 1120, 'reuter': 1121, 'senat': 1122, 'enugu': 1123, 'former': 1124, 'chief': 1125, 'messag': 1126, 'de': 1127, 'gunman': 1128, 'genocid': 1129, 'oklahoma': 1130, 'yyc': 1131, 'screen': 1132, 'sex': 1133, 'crematoria': 1134, 'provok': 1135, 'combo': 1136, 'tension': 1137, 'pdp': 1138, 'explor': 1139, 'virgin': 1140, 'chile': 1141, 'quit': 1142, 'ev': 1143, 'progress': 1144, 'steve': 1145, 'teen': 1146, 'abl': 1147, 'sb': 1148, 'nc': 1149, 'option': 1150, 'financi': 1151, 'deadli': 1152, 'leader': 1153, 'effort': 1154, 'ir': 1155, 'protect': 1156, 'common': 1157, 'cr': 1158, 'bin': 1159, 'gov': 1160, 'wing': 1161, 'bro': 1162, 'twelv': 1163, 'seriou': 1164, 'john': 1165, 'basebal': 1166, 'inde': 1167, 'drunk': 1168, 'promis': 1169, 'fact': 1170, 'review': 1171, 'aliv': 1172, 'syrian': 1173, 'fals': 1174, 'less': 1175, 'bought': 1176, 'ben': 1177, 'tax': 1178, 'late': 1179, 'heavenli': 1180, 'cd': 1181, 'took': 1182, 'notic': 1183, 'crack': 1184, 'dc': 1185, 'alleg': 1186, 'minor': 1187, 'forget': 1188, 'feminist': 1189, 'theater': 1190, 'defend': 1191, 'view': 1192, 'program': 1193, 'fulli': 1194, 'origin': 1195, 'realiz': 1196, 'pathogen': 1197, 'tcot': 1198, 'cm': 1199, 'carri': 1200, 'drill': 1201, 'page': 1202, 'sale': 1203, 'silver': 1204, 'cold': 1205, 'tune': 1206, 'throw': 1207, 'tear': 1208, 'brought': 1209, 'associ': 1210, 'dark': 1211, 'shop': 1212, 'along': 1213, 'togeth': 1214, 'career': 1215, 'patient': 1216, 'concert': 1217, 'enemi': 1218, 'afghanistan': 1219, 'forev': 1220, 'trent': 1221, 'ep': 1222, 'situat': 1223, 'enough': 1224, 'ross': 1225, 'main': 1226, 'wire': 1227, 'five': 1228, 'haha': 1229, 'coffe': 1230, 'safe': 1231, 'swim': 1232, 'recal': 1233, 'mix': 1234, 'satellit': 1235, 'stream': 1236, 'clear': 1237, 'plant': 1238, 'slip': 1239, 'knee': 1240, 'presid': 1241, 'wish': 1242, 'yd': 1243, 'fli': 1244, 'honestli': 1245, 'cabl': 1246, 'footbal': 1247, 'pack': 1248, 'union': 1249, 'ferguson': 1250, 'feed': 1251, 'provid': 1252, 'worker': 1253, 'wa': 1254, 'wd': 1255, 'debat': 1256, 'fix': 1257, 'med': 1258, 'kit': 1259, 'cnn': 1260, 'wrought': 1261, 'cinema': 1262, 'browser': 1263, 'condit': 1264, 'idp': 1265, 'toward': 1266, 'fund': 1267, 'municip': 1268, 'portland': 1269, 'prevent': 1270, 'round': 1271, 'inch': 1272, 'fog': 1273, 'parol': 1274, 'galact': 1275, 'weird': 1276, 'wear': 1277, 'wife': 1278, 'church': 1279, 'fill': 1280, 'ian': 1281, 'knew': 1282, 'nh': 1283, 'onto': 1284, 'min': 1285, 'dubstep': 1286, 'georg': 1287, 'examin': 1288, 'odd': 1289, 'laden': 1290, 'engin': 1291, 'id': 1292, 'exp': 1293, 'wtf': 1294, 'travel': 1295, 'incid': 1296, 'compliant': 1297, 'shall': 1298, 'quickli': 1299, 'pile': 1300, 'version': 1301, 'collect': 1302, 'till': 1303, 'lion': 1304, 'rea': 1305, 'jackson': 1306, 'wwii': 1307, 'direct': 1308, 'protest': 1309, 'stab': 1310, 'admit': 1311, 'hunt': 1312, 'fail': 1313, 'bay': 1314, 'system': 1315, 'jp': 1316, 'newyork': 1317, 'spo': 1318, 'steal': 1319, 'illeg': 1320, 'chill': 1321, 'defens': 1322, 'row': 1323, 'sweet': 1324, 'incred': 1325, 'tank': 1326, 'paint': 1327, 'son': 1328, 'region': 1329, 'describ': 1330, 'calori': 1331, 'fort': 1332, 'facebook': 1333, 'dollar': 1334, 'ms': 1335, 'leak': 1336, 'roof': 1337, 'beyond': 1338, 'respect': 1339, 'rare': 1340, 'proof': 1341, 'foot': 1342, 'appar': 1343, 'max': 1344, 'ray': 1345, 'lmao': 1346, 'bout': 1347, 'floor': 1348, 'document': 1349, 'roll': 1350, 'date': 1351, 'mari': 1352, 'tire': 1353, 'william': 1354, 'player': 1355, 'soldier': 1356, 'mini': 1357, 'canada': 1358, 'mf': 1359, 'va': 1360, 'youth': 1361, 'xw': 1362, 'known': 1363, 'bathroom': 1364, 'pre': 1365, 'specif': 1366, 'epic': 1367, 'crane': 1368, 'wont': 1369, 'greatest': 1370, 'object': 1371, 'wit': 1372, 'afternoon': 1373, 'broke': 1374, 'prison': 1375, 'hair': 1376, 'brother': 1377, 'acr': 1378, 'bowl': 1379, 'confer': 1380, 'parenthood': 1381, 'stupid': 1382, 'degre': 1383, 'republican': 1384, 'cook': 1385, 'laugh': 1386, 'cours': 1387, 'aid': 1388, 'hilari': 1389, 'finish': 1390, 'pool': 1391, 'pop': 1392, 'bill': 1393, 'style': 1394, 'correct': 1395, 'africa': 1396, 'burst': 1397, 'either': 1398, 'none': 1399, 'justinbieb': 1400, 'motorcyclist': 1401, 'broadway': 1402, 'blvd': 1403, 'approach': 1404, 'write': 1405, 'type': 1406, 'decid': 1407, 'calm': 1408, 'bbc': 1409, 'econom': 1410, 'age': 1411, 'strategi': 1412, 'goal': 1413, 'hospit': 1414, 'wmata': 1415, 'mumbai': 1416, 'madhya': 1417, 'pradesh': 1418, 'path': 1419, 'hobbit': 1420, 'digit': 1421, 'mr': 1422, 'jam': 1423, 'philippin': 1424, 'accus': 1425, 'relief': 1426, 'cloud': 1427, 'capsiz': 1428, 'gotta': 1429, 'treat': 1430, 'usg': 1431, 'abstorm': 1432, 'practic': 1433, 'prompt': 1434, 'tram': 1435, 'disrupt': 1436, 'resid': 1437, 'advisori': 1438, 'commit': 1439, 'percent': 1440, 'card': 1441, 'wx': 1442, 'curv': 1443, 'okwx': 1444, 'tripl': 1445, 'governor': 1446, 'disco': 1447, 'mediterran': 1448, 'arianagrand': 1449, 'somalia': 1450, 'mayan': 1451, 'plu': 1452, 'built': 1453, 'deputi': 1454, 'sunset': 1455, 'edit': 1456, 'cuz': 1457, 'awar': 1458, 'sr': 1459, 'fyi': 1460, 'icemoon': 1461, 'djicemoon': 1462, 'trapmus': 1463, 'dnb': 1464, 'victori': 1465, 'speak': 1466, 'xb': 1467, 'improv': 1468, 'sent': 1469, 'brazil': 1470, 'bare': 1471, 'nuke': 1472, 'short': 1473, 'hunter': 1474, 'forecast': 1475, 'zombi': 1476, 'scienc': 1477, 'tast': 1478, 'putin': 1479, 'scari': 1480, 'sadli': 1481, 'reveal': 1482, 'avert': 1483, 'host': 1484, 'navi': 1485, 'ty': 1486, 'organ': 1487, 'add': 1488, 'squad': 1489, 'tm': 1490, 'kisii': 1491, 'mo': 1492, 'internet': 1493, 'evid': 1494, 'mental': 1495, 'bet': 1496, 'didnt': 1497, 'band': 1498, 'bat': 1499, 'si': 1500, 'extern': 1501, 'sanction': 1502, 'featur': 1503, 'experi': 1504, 'dj': 1505, 'palm': 1506, 'birthday': 1507, 'fm': 1508, 'root': 1509, 'magic': 1510, 'pl': 1511, 'physic': 1512, 'joe': 1513, 'broken': 1514, 'fell': 1515, 'brain': 1516, 'exist': 1517, 'everywher': 1518, 'easi': 1519, 'recommend': 1520, 'there': 1521, 'jack': 1522, 'societi': 1523, 'matter': 1524, 'hi': 1525, 'present': 1526, 'shock': 1527, 'gone': 1528, 'relat': 1529, 'drug': 1530, 'tb': 1531, 'jesu': 1532, 'enter': 1533, 'stephen': 1534, 'bs': 1535, 'daughter': 1536, 'ee': 1537, 'anyway': 1538, 'choke': 1539, 'gi': 1540, 'vuitton': 1541, 'monogram': 1542, 'en': 1543, 'mill': 1544, 'woke': 1545, 'es': 1546, 'congress': 1547, 'leg': 1548, 'kyle': 1549, 'bell': 1550, 'recent': 1551, 'england': 1552, 'challeng': 1553, 'instal': 1554, 'grenad': 1555, 'ke': 1556, 'tip': 1557, 'mac': 1558, 'op': 1559, 'fine': 1560, 'insan': 1561, 'nq': 1562, 'iraq': 1563, 'idc': 1564, 'septemb': 1565, 'cancel': 1566, 'warship': 1567, 'colorado': 1568, 'prime': 1569, 'field': 1570, 'temper': 1571, 'bottom': 1572, 'popul': 1573, 'legaci': 1574, 'erupt': 1575, 'felt': 1576, 'announc': 1577, 'southern': 1578, 'bee': 1579, 'kidnap': 1580, 'snap': 1581, 'materi': 1582, 'sa': 1583, 'shoe': 1584, 'lock': 1585, 'rubber': 1586, 'perfect': 1587, 'kindl': 1588, 'vd': 1589, 'buse': 1590, 'cyclist': 1591, 'ii': 1592, 'inj': 1593, 'anti': 1594, 'bore': 1595, 'hill': 1596, 'ct': 1597, 'twice': 1598, 'note': 1599, 'leagu': 1600, 'aim': 1601, 'spend': 1602, 'foxtrot': 1603, 'annual': 1604, 'photographi': 1605, 'form': 1606, 'given': 1607, 'adult': 1608, 'trial': 1609, 'earlier': 1610, 'minist': 1611, 'arabia': 1612, 'seat': 1613, 'rel': 1614, 'fr': 1615, 'destini': 1616, 'italian': 1617, 'subject': 1618, 'honor': 1619, 'freakiest': 1620, 'soundcloud': 1621, 'loos': 1622, 'server': 1623, 'er': 1624, 'model': 1625, 'inform': 1626, 'surpris': 1627, 'eq': 1628, 'anchorag': 1629, 'accord': 1630, 'vet': 1631, 'equal': 1632, 'epicentr': 1633, 'kinda': 1634, 'refus': 1635, 'slow': 1636, 'mortal': 1637, 'kombat': 1638, 'size': 1639, 'allah': 1640, 'shake': 1641, 'heal': 1642, 'dozen': 1643, 'unveil': 1644, 'massiv': 1645, 'ebola': 1646, 'battlefield': 1647, 'outlook': 1648, 'sub': 1649, 'linkuri': 1650, 'canaanit': 1651, 'alabama': 1652, 'founder': 1653, 'radiat': 1654, 'brooklyn': 1655, 'ksawlyux': 1656, 'rli': 1657, 'wholesal': 1658, 'nigeria': 1659, 'doubt': 1660, 'six': 1661, 'kiss': 1662, 'lip': 1663, 'fb': 1664, 'te': 1665, 'energi': 1666, 'torch': 1667, 'av': 1668, 'bicycl': 1669, 'father': 1670, 'among': 1671, 'ram': 1672, 'exit': 1673, 'altern': 1674, 'treatment': 1675, 'motorcycl': 1676, 'measur': 1677, 'nobodi': 1678, 'conflict': 1679, 'orang': 1680, 'french': 1681, 'iron': 1682, 'boss': 1683, 'automat': 1684, 'frontlin': 1685, 'zl': 1686, 'medic': 1687, 'assist': 1688, 'eh': 1689, 'steel': 1690, 'rob': 1691, 'exactli': 1692, 'gang': 1693, 'tonto': 1694, 'thx': 1695, 'reject': 1696, 'sing': 1697, 'convers': 1698, 'temporari': 1699, 'occas': 1700, 'blog': 1701, 'christma': 1702, 'funni': 1703, 'finger': 1704, 'ralli': 1705, 'mtvhottest': 1706, 'solv': 1707, 'crime': 1708, 'mourn': 1709, 'scheme': 1710, 'serial': 1711, 'legal': 1712, 'casper': 1713, 'produc': 1714, 'credit': 1715, 'itali': 1716, 'palestin': 1717, 'theatr': 1718, 'um': 1719, 'et': 1720, 'pak': 1721, 'rape': 1722, 'hatchet': 1723, 'femal': 1724, 'gaza': 1725, 'wb': 1726, 'appreci': 1727, 'qa': 1728, 'purchas': 1729, 'electron': 1730, 'certain': 1731, 'dm': 1732, 'garden': 1733, 'tg': 1734, 'prepared': 1735, 'simul': 1736, 'scientist': 1737, 'pro': 1738, 'sexual': 1739, 'ml': 1740, 'rage': 1741, 'ne': 1742, 'wo': 1743, 'fifth': 1744, 'fantasi': 1745, 'sister': 1746, 'solar': 1747, 'univers': 1748, 'began': 1749, 'develop': 1750, 'shame': 1751, 'cream': 1752, 'hd': 1753, 'hr': 1754, 'clutch': 1755, 'pocket': 1756, 'bruh': 1757, 'serious': 1758, 'royal': 1759, 'se': 1760, 'suck': 1761, 'valu': 1762, 'sophi': 1763, 'pipe': 1764, 'fit': 1765, 'jr': 1766, 'tough': 1767, 'straight': 1768, 'kept': 1769, 'fantast': 1770, 'sir': 1771, 'amaz': 1772, 'syria': 1773, 'jet': 1774, 'germani': 1775, 'fx': 1776, 'distanc': 1777, 'aussi': 1778, 'ed': 1779, 'deserv': 1780, 'execut': 1781, 'often': 1782, 'yn': 1783, 'equip': 1784, 'multipl': 1785, 'seven': 1786, 'fw': 1787, 'expens': 1788, 'ja': 1789, 'moon': 1790, 'wood': 1791, 'spark': 1792, 'voic': 1793, 'qv': 1794, 'integr': 1795, 'shape': 1796, 'experienc': 1797, 'descript': 1798, 'chines': 1799, 'brutal': 1800, 'crap': 1801, 'holiday': 1802, 'asap': 1803, 'afghan': 1804, 'feet': 1805, 'alli': 1806, 'iranian': 1807, 'marin': 1808, 'qualiti': 1809, 'bound': 1810, 'tag': 1811, 'joy': 1812, 'alaska': 1813, 'audio': 1814, 'md': 1815, 'depend': 1816, 'counselor': 1817, 'pressur': 1818, 'cleanup': 1819, 'shower': 1820, 'ah': 1821, 'climb': 1822, 'trip': 1823, 'pin': 1824, 'lower': 1825, 'german': 1826, 'tongu': 1827, 'fav': 1828, 'commerci': 1829, 'sat': 1830, 'realiti': 1831, 'tn': 1832, 'bullet': 1833, 'suv': 1834, 'oo': 1835, 'sac': 1836, 'rear': 1837, 'tech': 1838, 'mid': 1839, 'fwi': 1840, 'mi': 1841, 'microlight': 1842, 'store': 1843, 'sourc': 1844, 'doctor': 1845, 'except': 1846, 'shut': 1847, 'violat': 1848, 'prefer': 1849, 'pam': 1850, 'excit': 1851, 'address': 1852, 'spin': 1853, 'wy': 1854, 'np': 1855, 'preview': 1856, 'oppress': 1857, 'slide': 1858, 'spider': 1859, 'mikeparractor': 1860, 'nf': 1861, 'summerf': 1862, 'dear': 1863, 'airlin': 1864, 'malaysian': 1865, 'normal': 1866, 'client': 1867, 'shepherd': 1868, 'dress': 1869, 'indi': 1870, 'radar': 1871, 'buffalo': 1872, 'kaduna': 1873, 'tubestrik': 1874, 'fox': 1875, 'reopen': 1876, 'za': 1877, 'fd': 1878, 'twin': 1879, 'bp': 1880, 'ut': 1881, 'broad': 1882, 'na': 1883, 'consequ': 1884, 'nj': 1885, 'quot': 1886, 'rohingya': 1887, 'sittw': 1888, 'strategicpati': 1889, 'au': 1890, 'nema': 1891, 'ocean': 1892, 'nigerian': 1893, 'weed': 1894, 'rapidli': 1895, 'gray': 1896, 'gust': 1897, 'sismo': 1898, 'sicili': 1899, 'hawaii': 1900, 'ub': 1901, 'cybksxhf': 1902, 'unlock': 1903, 'eleph': 1904, 'factori': 1905, 'plug': 1906, 'batteri': 1907, 'homeless': 1908, 'rn': 1909, 'budget': 1910, 'powerlin': 1911, 'trafford': 1912, 'odeon': 1913, 'faan': 1914, 'ns': 1915, 'chelsea': 1916, 'dramat': 1917, 'deni': 1918, 'qr': 1919, 'marri': 1920, 'selfi': 1921, 'ud': 1922, 'languag': 1923, 'quick': 1924, 'captain': 1925, 'falcon': 1926, 'vietnam': 1927, 'saturday': 1928, 'cap': 1929, 'bird': 1930, 'cup': 1931, 'socialnew': 1932, 'edt': 1933, 'mainten': 1934, 'increas': 1935, 'hwo': 1936, 'guillermo': 1937, 'alp': 1938, 'youngheroesid': 1939, 'pantherattack': 1940, 'decis': 1941, 'pipelin': 1942, 'huffman': 1943, 'yobe': 1944, 'animalrescu': 1945, 'meat': 1946, 'pillow': 1947, 'gabon': 1948, 'trolley': 1949, 'gunfir': 1950, 'nasahurrican': 1951, 'spaceship': 1952, 'esh': 1953, 'recount': 1954, 'twia': 1955, 'kerricktri': 1956, 'kl': 1957, 'niec': 1958, 'santa': 1959, 'cruz': 1960, 'section': 1961, 'gift': 1962, 'ig': 1963, 'peep': 1964, 'bd': 1965, 'motor': 1966, 'gon': 1967, 'rang': 1968, 'rs': 1969, 'ld': 1970, 'mma': 1971, 'detail': 1972, 'previous': 1973, 'kenya': 1974, 'forward': 1975, 'ps': 1976, 'thoma': 1977, 'tc': 1978, 'xk': 1979, 'cz': 1980, 'mlb': 1981, 'wq': 1982, 'dtn': 1983, 'although': 1984, 'ay': 1985, 'mc': 1986, 'sprinter': 1987, 'lez': 1988, 'devic': 1989, 'lucki': 1990, 'sn': 1991, 'urib': 1992, 'tryout': 1993, 'whatev': 1994, 'alien': 1995, 'mn': 1996, 'punish': 1997, 'jeb': 1998, 'az': 1999, 'rider': 2000, 'cf': 2001, 'tu': 2002, 'gf': 2003, 'clean': 2004, 'pbban': 2005, 'xp': 2006, 'unless': 2007, 'iw': 2008, 'gain': 2009, 'impress': 2010, 'staff': 2011, 'slightli': 2012, 'code': 2013, 'ki': 2014, 'thu': 2015, 'mido': 2016, 'richard': 2017, 'dt': 2018, 'qb': 2019, 'fake': 2020, 'stir': 2021, 'grief': 2022, 'lgbt': 2023, 'plot': 2024, 'calif': 2025, 'restaur': 2026, 'tbt': 2027, 'raid': 2028, 'rocket': 2029, 'idiot': 2030, 'harper': 2031, 'premier': 2032, 'maria': 2033, 'condemn': 2034, 'nashvil': 2035, 'somehow': 2036, 'exercis': 2037, 'greec': 2038, 'ik': 2039, 'racist': 2040, 'machin': 2041, 'classic': 2042, 'faith': 2043, 'rose': 2044, 'princ': 2045, 'shirt': 2046, 'rapper': 2047, 'bt': 2048, 'chat': 2049, 'hugh': 2050, 'trailer': 2051, 'hole': 2052, 'item': 2053, 'attent': 2054, 'celebr': 2055, 'will': 2056, 'specimen': 2057, 'ba': 2058, 'pw': 2059, 'nasa': 2060, 'therapi': 2061, 'ce': 2062, 'custom': 2063, 'bedroom': 2064, 'bath': 2065, 'master': 2066, 'race': 2067, 'nt': 2068, 'hug': 2069, 'instagram': 2070, 'hw': 2071, 'tf': 2072, 'michel': 2073, 'hoax': 2074, 'skin': 2075, 'ugli': 2076, 'reward': 2077, 'bank': 2078, 'todd': 2079, 'excel': 2080, 'app': 2081, 'ohio': 2082, 'vacant': 2083, 'gate': 2084, 'print': 2085, 'yu': 2086, 'lonewolffur': 2087, 'paper': 2088, 'jean': 2089, 'tattoo': 2090, 'donat': 2091, 'ag': 2092, 'aggress': 2093, 'jay': 2094, 'jone': 2095, 'club': 2096, 'utterli': 2097, 'luke': 2098, 'grab': 2099, 'nicki': 2100, 'al': 2101, 'tr': 2102, 'zujwuiomb': 2103, 'tea': 2104, 'philli': 2105, 'friendship': 2106, 'diss': 2107, 'tour': 2108, 'hip': 2109, 'hop': 2110, 'color': 2111, 'po': 2112, 'probe': 2113, 'irand': 2114, 'posit': 2115, 'flat': 2116, 'oop': 2117, 'bluejay': 2118, 'tradit': 2119, 'dive': 2120, 'push': 2121, 'justifi': 2122, 'cc': 2123, 'senior': 2124, 'ih': 2125, 'calam': 2126, 'react': 2127, 'gl': 2128, 'australian': 2129, 'oq': 2130, 'gadget': 2131, 'boxer': 2132, 'loot': 2133, 'uganda': 2134, 'chase': 2135, 'weak': 2136, 'alcohol': 2137, 'rout': 2138, 'estat': 2139, 'grill': 2140, 'deck': 2141, 'nah': 2142, 'residenti': 2143, 'huh': 2144, 'chees': 2145, 'touch': 2146, 'joke': 2147, 'pace': 2148, 'weight': 2149, 'dem': 2150, 'skinni': 2151, 'muscl': 2152, 'demon': 2153, 'pp': 2154, 'ran': 2155, 'port': 2156, 'puppi': 2157, 'explain': 2158, 'winter': 2159, 'sydney': 2160, 'jamaica': 2161, 'bm': 2162, 'clinton': 2163, 'relax': 2164, 'spain': 2165, 'warm': 2166, 'photograph': 2167, 'robot': 2168, 'eventu': 2169, 'sorrow': 2170, 'pt': 2171, 'cx': 2172, 'arsen': 2173, 'ul': 2174, 'wast': 2175, 'teacher': 2176, 'aka': 2177, 'mother': 2178, 'adjust': 2179, 'regular': 2180, 'success': 2181, 'benefit': 2182, 'wc': 2183, 'upper': 2184, 'yorker': 2185, 'wi': 2186, 'sf': 2187, 'biolog': 2188, 'underway': 2189, 'marijuana': 2190, 'heroin': 2191, 'term': 2192, 'bride': 2193, 'balanc': 2194, 'accident': 2195, 'streak': 2196, 'knock': 2197, 'ry': 2198, 'yahoo': 2199, 'debt': 2200, 'dri': 2201, 'bite': 2202, 'crowd': 2203, 'lung': 2204, 'bake': 2205, 'dorret': 2206, 'chocol': 2207, 'shanghai': 2208, 'fri': 2209, 'regist': 2210, 'strang': 2211, 'vancouv': 2212, 'os': 2213, 'driven': 2214, 'eb': 2215, 'valley': 2216, 'occup': 2217, 'zo': 2218, 'download': 2219, 'mansehra': 2220, 'ei': 2221, 'faster': 2222, 'ant': 2223, 'reap': 2224, 'spirit': 2225, 'campu': 2226, 'freedom': 2227, 'tropic': 2228, 'ge': 2229, 'tl': 2230, 'tom': 2231, 'asia': 2232, 'station': 2233, 'fate': 2234, 'written': 2235, 'rockin': 2236, 'fettilootch': 2237, 'slanglucci': 2238, 'moll': 2239, 'especi': 2240, 'florida': 2241, 'kd': 2242, 'rest': 2243, 'pe': 2244, 'val': 2245, 'rep': 2246, 'plagu': 2247, 'omar': 2248, 'pedestrian': 2249, 'ill': 2250, 'resist': 2251, 'lunch': 2252, 'moth': 2253, 'float': 2254, 'disappear': 2255, 'he': 2256, 'import': 2257, 'inevit': 2258, 'smile': 2259, 'period': 2260, 'truli': 2261, 'oz': 2262, 'nfl': 2263, 'meant': 2264, 'qn': 2265, 'alert': 2266, 'capit': 2267, 'cp': 2268, 'neg': 2269, 'abbswinston': 2270, 'zionist': 2271, 'bq': 2272, 'sell': 2273, 'rc': 2274, 'psychiatr': 2275, 'michigan': 2276, 'quarter': 2277, 'xr': 2278, 'sm': 2279, 'smithsonian': 2280, 'campaign': 2281, 'bn': 2282, 'realdonaldtrump': 2283, 'commut': 2284, 'illustr': 2285, 'struck': 2286, 'swell': 2287, 'signific': 2288, 'mall': 2289, 'gotten': 2290, 'depress': 2291, 'daniel': 2292, 'neither': 2293, 'addict': 2294, 'smash': 2295, 'truth': 2296, 'childhood': 2297, 'reportedli': 2298, 'stuart': 2299, 'border': 2300, 'stun': 2301, 'rb': 2302, 'famou': 2303, 'starter': 2304, 'msf': 2305, 'meme': 2306, 'rqwuoy': 2307, 'township': 2308, 'elem': 2309, 'okanagan': 2310, 'tube': 2311, 'yellow': 2312, 'mediterranean': 2313, 'vi': 2314, 'epilepsi': 2315, 'yell': 2316, 'helen': 2317, 'xv': 2318, 'jst': 2319, 'apocalypt': 2320, 'fair': 2321, 'penalti': 2322, 'charger': 2323, 'definit': 2324, 'lesson': 2325, 'dock': 2326, 'supervisor': 2327, 'specialist': 2328, 'quest': 2329, 'shelter': 2330, 'tw': 2331, 'capac': 2332, 'serv': 2333, 'cope': 2334, 'grey': 2335, 'tribal': 2336, 'entertain': 2337, 'miami': 2338, 'ox': 2339, 'individu': 2340, 'ink': 2341, 'pet': 2342, 'protector': 2343, 'blackberri': 2344, 'sd': 2345, 'salem': 2346, 'lone': 2347, 'smell': 2348, 'wealth': 2349, 'sh': 2350, 'irish': 2351, 'drove': 2352, 'reflect': 2353, 'fz': 2354, 'extend': 2355, 'brave': 2356, 'tool': 2357, 'maryland': 2358, 'mansion': 2359, 'statement': 2360, 'coastal': 2361, 'gg': 2362, 'grant': 2363, 'environ': 2364, 'clash': 2365, 'strand': 2366, 'jl': 2367, 'somebodi': 2368, 'trigger': 2369, 'vulner': 2370, 'cave': 2371, 'kind': 2372, 'desir': 2373, 'crimin': 2374, 'poll': 2375, 'exampl': 2376, 'within': 2377, 'refer': 2378, 'defin': 2379, 'director': 2380, 'sampl': 2381, 'advanc': 2382, 'rv': 2383, 'chew': 2384, 'matako': 2385, 'cbc': 2386, 'evil': 2387, 'channel': 2388, 'scott': 2389, 'titl': 2390, 'raynbowaffair': 2391, 'editor': 2392, 'diamondkesawn': 2393, 'ramag': 2394, 'opposit': 2395, 'mike': 2396, 'discuss': 2397, 'xsx': 2398, 'sidelin': 2399, 'sarah': 2400, 'larger': 2401, 'plain': 2402, 'boot': 2403, 'crown': 2404, 'rome': 2405, 'thru': 2406, 'sandiego': 2407, 'troop': 2408, 'drag': 2409, 'forb': 2410, 'wisenew': 2411, 'lownd': 2412, 'inspect': 2413, 'brake': 2414, 'plung': 2415, 'chest': 2416, 'precipit': 2417, 'hieroglyph': 2418, 'lowli': 2419, 'pov': 2420, 'amsterdam': 2421, 'iger': 2422, 'cramer': 2423, 'tj': 2424, 'kurd': 2425, 'upon': 2426, 'lo': 2427, 'split': 2428, 'imposs': 2429, 'slower': 2430, 'nb': 2431, 'overturn': 2432, 'click': 2433, 'alberta': 2434, 'backup': 2435, 'roger': 2436, 'basement': 2437, 'habit': 2438, 'cw': 2439, 'profit': 2440, 'belief': 2441, 'cannot': 2442, 'shell': 2443, 'context': 2444, 'error': 2445, 'mexico': 2446, 'nude': 2447, 'lq': 2448, 'terribl': 2449, 'kz': 2450, 'lorri': 2451, 'chariti': 2452, 'jq': 2453, 'pit': 2454, 'paramed': 2455, 'kp': 2456, 'lf': 2457, 'qo': 2458, 'mg': 2459, 'rm': 2460, 'dual': 2461, 'mv': 2462, 'worldnew': 2463, 'trunk': 2464, 'merci': 2465, 'previou': 2466, 'viralspel': 2467, 'boom': 2468, 'britain': 2469, 'mx': 2470, 'arabian': 2471, 'pb': 2472, 'arizona': 2473, 'taylor': 2474, 'dvd': 2475, 'poster': 2476, 'vid': 2477, 'trubgm': 2478, 'prod': 2479, 'revolut': 2480, 'coat': 2481, 'justic': 2482, 'librari': 2483, 'ultimalucha': 2484, 'pd': 2485, 'zz': 2486, 'salvat': 2487, 'wf': 2488, 'spear': 2489, 'appoint': 2490, 'hamilton': 2491, 'jewish': 2492, 'gz': 2493, 'ae': 2494, 'wr': 2495, 'dick': 2496, 'vegetarian': 2497, 'headlin': 2498, 'nasti': 2499, 'lw': 2500, 'nr': 2501, 'what': 2502, 'guilti': 2503, 'civil': 2504, 'horrif': 2505, 'jb': 2506, 'goat': 2507, 'diamond': 2508, 'simpli': 2509, 'demand': 2510, 'pol': 2511, 'donald': 2512, 'dx': 2513, 'aa': 2514, 'flew': 2515, 'wk': 2516, 'kall': 2517, 'mattson': 2518, 'tp': 2519, 'musician': 2520, 'dw': 2521, 'col': 2522, 'tumbl': 2523, 'kf': 2524, 'clip': 2525, 'du': 2526, 'yz': 2527, 'frontpag': 2528, 'rickperri': 2529, 'select': 2530, 'journal': 2531, 'breakingnew': 2532, 'scoopit': 2533, 'facil': 2534, 'iii': 2535, 'cdc': 2536, 'extens': 2537, 'handl': 2538, 'tale': 2539, 'ab': 2540, 'cia': 2541, 'rio': 2542, 'olymp': 2543, 'condo': 2544, 'hh': 2545, 'ugh': 2546, 'pizza': 2547, 'sk': 2548, 'shout': 2549, 'farm': 2550, 'crystal': 2551, 'fireman': 2552, 'morgan': 2553, 'fk': 2554, 'ph': 2555, 'freez': 2556, 'skill': 2557, 'suit': 2558, 'bother': 2559, 'ch': 2560, 'mb': 2561, 'threw': 2562, 'nugget': 2563, 'vampiro': 2564, 'toe': 2565, 'def': 2566, 'soccer': 2567, 'jazz': 2568, 'furiou': 2569, 'whistl': 2570, 'honey': 2571, 'theori': 2572, 'cycl': 2573, 'requir': 2574, 'welfar': 2575, 'height': 2576, 'tennesse': 2577, 'infin': 2578, 'gq': 2579, 'achiev': 2580, 'ai': 2581, 'draco': 2582, 'disappoint': 2583, 'ima': 2584, 'xbox': 2585, 'everyday': 2586, 'soni': 2587, 'invas': 2588, 'dare': 2589, 'floyd': 2590, 'thigh': 2591, 'expos': 2592, 'marvel': 2593, 'chair': 2594, 'monday': 2595, 'mysteri': 2596, 'inning': 2597, 'repres': 2598, 'approv': 2599, 'websit': 2600, 'blake': 2601, 'pattern': 2602, 'sand': 2603, 'minaj': 2604, 'jame': 2605, 'amirit': 2606, 'ra': 2607, 'bash': 2608, 'bottl': 2609, 'lyric': 2610, 'br': 2611, 'ghostwrit': 2612, 'girlfriend': 2613, 'contrast': 2614, 'buckl': 2615, 'casual': 2616, 'hall': 2617, 'charlott': 2618, 'administr': 2619, 'statu': 2620, 'yf': 2621, 'troy': 2622, 'zw': 2623, 'locat': 2624, 'third': 2625, 'poland': 2626, 'uncl': 2627, 'kurtschlicht': 2628, 'flee': 2629, 'belli': 2630, 'ri': 2631, 'humbl': 2632, 'democraci': 2633, 'gs': 2634, 'toll': 2635, 'logic': 2636, 'bundl': 2637, 'icymi': 2638, 'legendari': 2639, 'afraid': 2640, 'sustain': 2641, 'ooh': 2642, 'blacklivesmatt': 2643, 'largest': 2644, 'messi': 2645, 'pledg': 2646, 'embarrass': 2647, 'winston': 2648, 'grate': 2649, 'clad': 2650, 'www': 2651, 'mitig': 2652, 'hinton': 2653, 'ton': 2654, 'drift': 2655, 'butter': 2656, 'plate': 2657, 'spent': 2658, 'brush': 2659, 'rj': 2660, 'workout': 2661, 'visibl': 2662, 'format': 2663, 'techniqu': 2664, 'wp': 2665, 'demonstr': 2666, 'attempt': 2667, 'amongst': 2668, 'dg': 2669, 'striker': 2670, 'hillari': 2671, 'smh': 2672, 'higher': 2673, 'yemen': 2674, 'sharp': 2675, 'wrap': 2676, 'highest': 2677, 'washingtonpost': 2678, 'yg': 2679, 'licens': 2680, 'ou': 2681, 'nytim': 2682, 'con': 2683, 'republ': 2684, 'cleric': 2685, 'duti': 2686, 'weathernetwork': 2687, 'acut': 2688, 'ptsd': 2689, 'mistak': 2690, 'uniform': 2691, 'ln': 2692, 'illinoi': 2693, 'radioact': 2694, 'nbc': 2695, 'lg': 2696, 'violenc': 2697, 'brian': 2698, 'groom': 2699, 'io': 2700, 'easili': 2701, 'shadow': 2702, 'vinyl': 2703, 'enabl': 2704, 'guardian': 2705, 'revenu': 2706, 'xc': 2707, 'oral': 2708, 'exhaust': 2709, 'growth': 2710, 'roh': 2711, 'ks': 2712, 'breath': 2713, 'moder': 2714, 'cigarett': 2715, 'immedi': 2716, 'qc': 2717, 'supernatur': 2718, 'suddenli': 2719, 'houston': 2720, 'slam': 2721, 'ride': 2722, 'runner': 2723, 'jake': 2724, 'wheeler': 2725, 'anna': 2726, 'qw': 2727, 'tyre': 2728, 'commenc': 2729, 'cow': 2730, 'restor': 2731, 'enrt': 2732, 'fe': 2733, 'baltimor': 2734, 'tunnel': 2735, 'eo': 2736, 'southbound': 2737, 'separ': 2738, 'prayer': 2739, 'maj': 2740, 'runway': 2741, 'intact': 2742, 'bug': 2743, 'euro': 2744, 'tuesday': 2745, 'cell': 2746, 'justin': 2747, 'holi': 2748, 'bio': 2749, 'christ': 2750, 'purpl': 2751, 'slate': 2752, 'pepper': 2753, 'hz': 2754, 'stolen': 2755, 'brief': 2756, 'wnd': 2757, 'inst': 2758, 'apch': 2759, 'rwi': 2760, 'taxiway': 2761, 'navbl': 2762, 'tmp': 2763, 'grove': 2764, 'judg': 2765, 'encourag': 2766, 'nrc': 2767, 'solut': 2768, 'instant': 2769, 'jim': 2770, 'claytonbry': 2771, 'artistsunit': 2772, 'eaten': 2773, 'vq': 2774, 'preserv': 2775, 'african': 2776, 'fp': 2777, 'uber': 2778, 'complaint': 2779, 'lmfao': 2780, 'lui': 2781, 'yh': 2782, 'trend': 2783, 'bail': 2784, 'su': 2785, 'ring': 2786, 'shitti': 2787, 'analysi': 2788, 'mullah': 2789, 'certainli': 2790, 'journalist': 2791, 'voter': 2792, 'silenc': 2793, 'shipwreck': 2794, 'milk': 2795, 'eu': 2796, 'focu': 2797, 'fbi': 2798, 'stewart': 2799, 'kj': 2800, 'equat': 2801, 'averag': 2802, 'discov': 2803, 'discoveri': 2804, 'vm': 2805, 'resourc': 2806, 'despit': 2807, 'torso': 2808, 'scale': 2809, 'histor': 2810, 'rainfal': 2811, 'mail': 2812, 'intens': 2813, 'architect': 2814, 'birmingham': 2815, 'boundari': 2816, 'assembl': 2817, 'xd': 2818, 'partner': 2819, 'whether': 2820, 'opinion': 2821, 'folk': 2822, 'hungri': 2823, 'saddlebrook': 2824, 'soo': 2825, 'dalla': 2826, 'ju': 2827, 'mood': 2828, 'democrat': 2829, 'recoveri': 2830, 'unsuckdcmetro': 2831, 'yahoonew': 2832, 'empti': 2833, 'suspend': 2834, 'jon': 2835, 'sq': 2836, 'transit': 2837, 'clearli': 2838, 'csx': 2839, 'knoxvil': 2840, 'sentinel': 2841, 'prabhu': 2842, 'ignor': 2843, 'anxiou': 2844, 'cedcugeuw': 2845, 'cta': 2846, 'sail': 2847, 'attitud': 2848, 'planet': 2849, 'mum': 2850, 'uv': 2851, 'nail': 2852, 'letter': 2853, 'decemb': 2854, 'romanc': 2855, 'defeat': 2856, 'creativ': 2857, 'satur': 2858, 'tryna': 2859, 'fn': 2860, 'bot': 2861, 'gh': 2862, 'invest': 2863, 'chart': 2864, 'tinyjecht': 2865, 'spinningbot': 2866, 'surfac': 2867, 'brand': 2868, 'leisur': 2869, 'tab': 2870, 'qd': 2871, 'anybodi': 2872, 'realis': 2873, 'latestnew': 2874, 'ek': 2875, 'settlement': 2876, 'starbuck': 2877, 'forgot': 2878, 'urgent': 2879, 'haiyan': 2880, 'sz': 2881, 'recip': 2882, 'zy': 2883, 'van': 2884, 'ihhen': 2885, 'openli': 2886, 'wom': 2887, 'museum': 2888, 'nv': 2889, 'ue': 2890, 'humid': 2891, 'columbia': 2892, 'surround': 2893, 'monitor': 2894, 'desert': 2895, 'spread': 2896, 'sort': 2897, 'jacksonvil': 2898, 'gamerg': 2899, 'english': 2900, 'pussi': 2901, 'wet': 2902, 'py': 2903, 'grace': 2904, 'superhero': 2905, 'request': 2906, 'sweat': 2907, 'nwajli': 2908, 'screenshot': 2909, 'combat': 2910, 'magnum': 2911, 'opu': 2912, 'cq': 2913, 'nois': 2914, 'pun': 2915, 'njd': 2916, 'pg': 2917, 'unsaf': 2918, 'ac': 2919, 'beard': 2920, 'bbcnew': 2921, 'tooth': 2922, 'dental': 2923, 'contact': 2924, 'gear': 2925, 'healthcar': 2926, 'ak': 2927, 'excus': 2928, 'ax': 2929, 'lil': 2930, 'accept': 2931, 'tflbusalert': 2932, 'stuck': 2933, 'robinson': 2934, 'chao': 2935, 'grew': 2936, 'milkshak': 2937, 'koin': 2938, 'rockyfir': 2939, 'atlanta': 2940, 'bend': 2941, 'voluntari': 2942, 'cabin': 2943, 'ot': 2944, 'vt': 2945, 'dutch': 2946, 'ol': 2947, 'shed': 2948, 'rz': 2949, 'poverti': 2950, 'feast': 2951, 'walker': 2952, 'southeast': 2953, 'vermont': 2954, 'perman': 2955, 'ro': 2956, 'eight': 2957, 'tremor': 2958, 'cousin': 2959, 'independ': 2960, 'cy': 2961, 'homi': 2962, 'unawar': 2963, 'depth': 2964, 'unknown': 2965, 'harri': 2966, 'sigalert': 2967, 'zu': 2968, 'mnpdnashvil': 2969, 'embroid': 2970, 'logo': 2971, 'guest': 2972, 'sean': 2973, 'zouma': 2974, 'bluetooth': 2975, 'steam': 2976, 'slowli': 2977, 'boi': 2978, 'beam': 2979, 'ds': 2980, 'prone': 2981, 'zx': 2982, 'random': 2983, 'drum': 2984, 'writer': 2985, 'pisgah': 2986, 'indonesia': 2987, 'cite': 2988, 'ar': 2989, 'arwx': 2990, 'bi': 2991, 'profil': 2992, 'boston': 2993, 'northeast': 2994, 'wratka': 2995, 'otrametlif': 2996, 'cloth': 2997, 'dz': 2998, 'sneak': 2999, 'needl': 3000, 'pdx': 3001, 'expand': 3002, 'longest': 3003, 'yay': 3004, 'nm': 3005, 'combin': 3006, 'surah': 3007, 'humaza': 3008, 'sew': 3009, 'dame': 3010, 'ux': 3011, 'nx': 3012, 'sight': 3013, 'vh': 3014, 'file': 3015, 'gt': 3016, 'je': 3017, 'cooper': 3018, 'ush': 3019, 'safer': 3020, 'held': 3021, 'egypt': 3022, 'croat': 3023, 'auspol': 3024, 'sinjar': 3025, 'yazidi': 3026, 'lou': 3027, 'noaa': 3028, 'loop': 3029, 'turbin': 3030, 'wireless': 3031, 'stereo': 3032, 'headphon': 3033, 'toilet': 3034, 'forgiven': 3035, 'forgotten': 3036, 'ankl': 3037, 'cupcak': 3038, 'southdown': 3039, 'foster': 3040, 'domest': 3041, 'stick': 3042, 'bff': 3043, 'tide': 3044, 'dunde': 3045, 'nl': 3046, 'pari': 3047, 'elect': 3048, 'stone': 3049, 'reshap': 3050, 'appl': 3051, 'gusti': 3052, 'footag': 3053, 'abbott': 3054, 'faroeisland': 3055, 'whale': 3056, 'gunsens': 3057, 'incit': 3058, 'mess': 3059, 'bulli': 3060, 'retweet': 3061, 'betray': 3062, 'lulgzimbestpict': 3063, 'rk': 3064, 'gasp': 3065, 'mirag': 3066, 'unavoid': 3067, 'bbdpnj': 3068, 'prosecut': 3069, 'construct': 3070, 'pump': 3071, 'newest': 3072, 'button': 3073, 'finnish': 3074, 'blind': 3075, 'palin': 3076, 'battleship': 3077, 'meal': 3078, 'batter': 3079, 'worldnetdaili': 3080, 'distribut': 3081, 'nyt': 3082, 'bronx': 3083, 'brook': 3084, 'bounti': 3085, 'decor': 3086, 'qu': 3087, 'newlyw': 3088, 'cameroon': 3089, 'haram': 3090, 'oc': 3091, 'zak': 3092, 'bagan': 3093, 'buri': 3094, 'salvador': 3095, 'dirt': 3096, 'ireland': 3097, 'championship': 3098, 'wee': 3099, 'europ': 3100, 'unhappi': 3101, 'fresh': 3102, 'darud': 3103, 'omfg': 3104, 'idol': 3105, 'pond': 3106, 'georgia': 3107, 'jennif': 3108, 'sassi': 3109, 'hunk': 3110, 'smoki': 3111, 'aom': 3112, 'ibooklov': 3113, 'bookboost': 3114, 'pacif': 3115, 'invalid': 3116, 'rexyy': 3117, 'towel': 3118, 'speaker': 3119, 'kurdish': 3120, 'ornament': 3121, 'drawn': 3122, 'metrofmtalk': 3123, 'overnight': 3124, 'mama': 3125, 'godslov': 3126, 'thanku': 3127, 'landfal': 3128, 'abe': 3129, 'lethal': 3130, 'elev': 3131, 'hike': 3132, 'gunshot': 3133, 'mufc': 3134, 'hype': 3135, 'acquisit': 3136, 'inec': 3137, 'abia': 3138, 'roi': 3139, 'nsmejj': 3140, 'zjin': 3141, 'yduixefip': 3142, 'lxtjc': 3143, 'nsfw': 3144, 'cfc': 3145, 'tita': 3146, 'brighton': 3147, 'jail': 3148, 'salmon': 3149, 'alexi': 3150, 'sanchez': 3151, 'uc': 3152, 'turkmen': 3153, 'cg': 3154, 'cargo': 3155, 'skylin': 3156, 'rene': 3157, 'fallen': 3158, 'clown': 3159, 'magnitud': 3160, 'ghk': 3161, 'pkwi': 3162, 'solicitor': 3163, 'speed': 3164, 'tee': 3165, 'marker': 3166, 'mooresvil': 3167, 'iredel': 3168, 'rover': 3169, 'interst': 3170, 'cad': 3171, 'piner': 3172, 'horndal': 3173, 'taxi': 3174, 'actress': 3175, 'determin': 3176, 'arrestpastornganga': 3177, 'delo': 3178, 'scuf': 3179, 'bargain': 3180, 'vam': 3181, 'podgyw': 3182, 'zevakjapcz': 3183, 'charl': 3184, 'gloriou': 3185, 'triumph': 3186, 'thyzomvwu': 3187, 'joo': 3188, 'difficulti': 3189, 'joel': 3190, 'shaw': 3191, 'andrew': 3192, 'strict': 3193, 'liabil': 3194, 'compon': 3195, 'aviat': 3196, 'lifetim': 3197, 'wedn': 3198, 'coahuila': 3199, 'cowork': 3200, 'nk': 3201, 'esp': 3202, 'vicin': 3203, 'sc': 3204, 'dn': 3205, 'halt': 3206, 'hella': 3207, 'oa': 3208, 'ip': 3209, 'mq': 3210, 'laid': 3211, 'celtic': 3212, 'luka': 3213, 'aloi': 3214, 'tranci': 3215, 'fella': 3216, 'xn': 3217, 'priest': 3218, 'scorpion': 3219, 'gig': 3220, 'skip': 3221, 'fantasticfour': 3222, 'hashtag': 3223, 'bummer': 3224, 'keegan': 3225, 'brock': 3226, 'fraction': 3227, 'jewel': 3228, 'transform': 3229, 'pyehwodwun': 3230, 'extermin': 3231, 'org': 3232, 'prophet': 3233, 'christi': 3234, 'wildhors': 3235, 'wm': 3236, 'pj': 3237, 'iy': 3238, 'tie': 3239, 'wn': 3240, 'cv': 3241, 'ohh': 3242, 'doc': 3243, 'impend': 3244, 'peak': 3245, 'dystopian': 3246, 'titan': 3247, 'doublecup': 3248, 'lfkmtzaekk': 3249, 'thisizbwright': 3250, 'flawless': 3251, 'affleck': 3252, 'worn': 3253, 'spi': 3254, 'hidden': 3255, 'softwar': 3256, 'sketch': 3257, 'to': 3258, 'luck': 3259, 'rohnertparkdp': 3260, 'paid': 3261, 'incom': 3262, 'vladimir': 3263, 'kingdom': 3264, 'abil': 3265, 'prepper': 3266, 'microsoft': 3267, 'comedi': 3268, 'tori': 3269, 'rqu': 3270, 'intrigu': 3271, 'quartz': 3272, 'wrist': 3273, 'nylon': 3274, 'gc': 3275, 'videoveranomtv': 3276, 'britney': 3277, 'del': 3278, 'rey': 3279, 'wwi': 3280, 'wzk': 3281, 'attend': 3282, 'lesbian': 3283, 'ej': 3284, 'countynew': 3285, 'thick': 3286, 'shira': 3287, 'latim': 3288, 'theadvocatemag': 3289, 'duo': 3290, 'cloudi': 3291, 'arsonistmus': 3292, 'diamorfiend': 3293, 'rmg': 3294, 'popular': 3295, 'bk': 3296, 'trick': 3297, 'uh': 3298, 'frank': 3299, 'elliott': 3300, 'vigil': 3301, 'liberti': 3302, 'constant': 3303, 'inspir': 3304, 'demi': 3305, 'copi': 3306, 'psycholog': 3307, 'ij': 3308, 'qi': 3309, 'graveyard': 3310, 'notley': 3311, 'oth': 3312, 'prior': 3313, 'gpo': 3314, 'strongli': 3315, 'ari': 3316, 'karachi': 3317, 'nwo': 3318, 'anxieti': 3319, 'ef': 3320, 'envw': 3321, 'nickcocofre': 3322, 'juliedicaro': 3323, 'jdabe': 3324, 'ci': 3325, 'offend': 3326, 'patrick': 3327, 'remark': 3328, 'yx': 3329, 'ov': 3330, 'eg': 3331, 'uranium': 3332, 'dig': 3333, 'jc': 3334, 'tix': 3335, 'frozen': 3336, 'furi': 3337, 'grand': 3338, 'recreat': 3339, 'clever': 3340, 'poplar': 3341, 'punk': 3342, 'sen': 3343, 'rudd': 3344, 'gordon': 3345, 'googl': 3346, 'wide': 3347, 'jedi': 3348, 'droid': 3349, 'hasbro': 3350, 'mod': 3351, 'ku': 3352, 'dom': 3353, 'tomlinson': 3354, 'saturn': 3355, 'cbsbigbroth': 3356, 'rap': 3357, 'motiv': 3358, 'gopdeb': 3359, 'exclus': 3360, 'hmm': 3361, 'agent': 3362, 'corp': 3363, 'le': 3364, 'jax': 3365, 'sob': 3366, 'fema': 3367, 'viru': 3368, 'len': 3369, 'vaccin': 3370, 'colleg': 3371, 'difficult': 3372, 'cdcgov': 3373, 'pendleton': 3374, 'cleveland': 3375, 'apt': 3376, 'minecraft': 3377, 'que': 3378, 'hack': 3379, 'juic': 3380, 'drew': 3381, 'socialmedia': 3382, 'qm': 3383, 'hiphop': 3384, 'bright': 3385, 'gy': 3386, 'montgomeri': 3387, 'trail': 3388, 'grade': 3389, 'delta': 3390, 'bbm': 3391, 'yq': 3392, 'temperatur': 3393, 'fam': 3394, 'summertim': 3395, 'doug': 3396, 'etisalat': 3397, 'ime': 3398, 'chicken': 3399, 'gel': 3400, 'rub': 3401, 'yea': 3402, 'liber': 3403, 'scratch': 3404, 'pileup': 3405, 'wise': 3406, 'fowler': 3407, 'lolol': 3408, 'rick': 3409, 'fiasco': 3410, 'conserv': 3411, 'peel': 3412, 'pair': 3413, 'magist': 3414, 'dwarv': 3415, 'athlet': 3416, 'dope': 3417, 'exacerb': 3418, 'spong': 3419, 'kb': 3420, 'snuff': 3421, 'beer': 3422, 'iclown': 3423, 'remix': 3424, 'sv': 3425, 'swear': 3426, 'anellatulip': 3427, 'squar': 3428, 'avail': 3429, 'uci': 3430, 'fea': 3431, 'nut': 3432, 'dq': 3433, 'ashayo': 3434, 'dolphin': 3435, 'superstit': 3436, 'mic': 3437, 'wod': 3438, 'hardcor': 3439, 'fragil': 3440, 'receiv': 3441, 'chamber': 3442, 'porridg': 3443, 'hoe': 3444, 'privat': 3445, 'thirsti': 3446, 'zk': 3447, 'encount': 3448, 'email': 3449, 'xxx': 3450, 'tower': 3451, 'insomnia': 3452, 'grrrr': 3453, 'drool': 3454, 'elbow': 3455, 'landscap': 3456, 'mega': 3457, 'fold': 3458, 'drama': 3459, 'marlon': 3460, 'deactiv': 3461, 'aunt': 3462, 'lmfaoooo': 3463, 'bump': 3464, 'pz': 3465, 'xm': 3466, 'vanessa': 3467, 'whoever': 3468, 'xqm': 3469, 'healthi': 3470, 'tan': 3471, 'corner': 3472, 'uoozxau': 3473, 'cage': 3474, 'genuin': 3475, 'ipad': 3476, 'matt': 3477, 'yanke': 3478, 'skim': 3479, 'johnson': 3480, 'hush': 3481, 'spit': 3482, 'lay': 3483, 'micom': 3484, 'bestsel': 3485, 'vg': 3486, 'stylish': 3487, 'fairfax': 3488, 'admin': 3489, 'dept': 3490, 'institut': 3491, 'chairman': 3492, 'qj': 3493, 'sweep': 3494, 'firework': 3495, 'dat': 3496, 'concept': 3497, 'js': 3498, 'taco': 3499, 'vocal': 3500, 'kany': 3501, 'exhibit': 3502, 'whitehous': 3503, 'invad': 3504, 'harbor': 3505, 'fed': 3506, 'robert': 3507, 'teamstream': 3508, 'benedict': 3509, 'novemb': 3510, 'acc': 3511, 'kinder': 3512, 'schedul': 3513, 'ameenshaikh': 3514, 'caribbean': 3515, 'johannesburg': 3516, 'ani': 3517, 'lwwojxttiv': 3518, 'engvau': 3519, 'unfold': 3520, 'telegraph': 3521, 'upgrad': 3522, 'mmmmmm': 3523, 'oooooohhhh': 3524, 'oooh': 3525, 'themagickidrap': 3526, 'minimehh': 3527, 'cjoyner': 3528, 'overlook': 3529, 'outta': 3530, 'kx': 3531, 'ronaldo': 3532, 'infosec': 3533, 'lit': 3534, 'allegi': 3535, 'jealou': 3536, 'phixznv': 3537, 'rockbottomradfm': 3538, 'soak': 3539, 'mat': 3540, 'cbplawyer': 3541, 'nfpa': 3542, 'bust': 3543, 'brick': 3544, 'tweetlikeitsseptemb': 3545, 'dam': 3546, 'thrown': 3547, 'baffl': 3548, 'sweden': 3549, 'aust': 3550, 'fourth': 3551, 'albani': 3552, 'pundit': 3553, 'wmur': 3554, 'neighbor': 3555, 'nazi': 3556, 'zr': 3557, 'derbi': 3558, 'barn': 3559, 'earn': 3560, 'iz': 3561, 'loseit': 3562, 'crusti': 3563, 'brisk': 3564, 'myfitnessp': 3565, 'mcdonald': 3566, 'gettin': 3567, 'candl': 3568, 'nap': 3569, 'hermancranston': 3570, 'atk': 3571, 'letsfootbal': 3572, 'skanndtyagi': 3573, 'zionism': 3574, 'xz': 3575, 'legion': 3576, 'stack': 3577, 'counter': 3578, 'jerri': 3579, 'influenc': 3580, 'strut': 3581, 'bg': 3582, 'pour': 3583, 'burnt': 3584, 'mistreat': 3585, 'ted': 3586, 'jamaicaobserv': 3587, 'cnewsliv': 3588, 'standwithpp': 3589, 'californian': 3590, 'advis': 3591, 'fqj': 3592, 'warfight': 3593, 'honest': 3594, 'shooter': 3595, 'command': 3596, 'pave': 3597, 'prematur': 3598, 'pertain': 3599, 'patna': 3600, 'toronto': 3601, 'underwrit': 3602, 'product': 3603, 'jmd': 3604, 'grown': 3605, 'score': 3606, 'cord': 3607, 'multi': 3608, 'btw': 3609, 'greenharvard': 3610, 'fbr': 3611, 'ccot': 3612, 'silent': 3613, 'diff': 3614, 'barri': 3615, 'solo': 3616, 'mutual': 3617, 'imdb': 3618, 'rockstar': 3619, 'wolv': 3620, 'plummet': 3621, 'argent': 3622, 'frustrat': 3623, 'vega': 3624, 'sy': 3625, 'wealthi': 3626, 'brit': 3627, 'revers': 3628, 'jamesmelvil': 3629, 'assum': 3630, 'armori': 3631, 'sharethi': 3632, 'hazmat': 3633, 'cameron': 3634, 'savebe': 3635, 'krefeld': 3636, 'toxic': 3637, 'db': 3638, 'cocain': 3639, 'skqpwsnoin': 3640, 'northwestern': 3641, 'obsess': 3642, 'usar': 3643, 'fortun': 3644, 'draw': 3645, 'neil': 3646, 'decent': 3647, 'promot': 3648, 'digniti': 3649, 'rueb': 3650, 'endur': 3651, 'favor': 3652, 'chunk': 3653, 'ferri': 3654, 'jump': 3655, 'stroke': 3656, 'cricket': 3657, 'terrifi': 3658, 'reliv': 3659, 'talkradio': 3660, 'circu': 3661, 'propos': 3662, 'commod': 3663, 'smantibatam': 3664, 'pancak': 3665, 'gravel': 3666, 'cum': 3667, 'sewer': 3668, 'heartless': 3669, 'whip': 3670, 'ym': 3671, 'gateau': 3672, 'jan': 3673, 'heel': 3674, 'greek': 3675, 'fool': 3676, 'trusti': 3677, 'spontan': 3678, 'awkward': 3679, 'chosen': 3680, 'avenu': 3681, 'pierc': 3682, 'witch': 3683, 'castl': 3684, 'sibl': 3685, 'spell': 3686, 'verdict': 3687, 'curs': 3688, 'bike': 3689, 'newswatch': 3690, 'lansdown': 3691, 'ptbo': 3692, 'pleasur': 3693, 'harwich': 3694, 'monkey': 3695, 'intersect': 3696, 'harrybecar': 3697, 'journey': 3698, 'util': 3699, 'victoria': 3700, 'elkhorn': 3701, 'walerga': 3702, 'franklin': 3703, 'opp': 3704, 'enrout': 3705, 'hk': 3706, 'spur': 3707, 'mchenri': 3708, 'techesback': 3709, 'coal': 3710, 'dublin': 3711, 'ly': 3712, 'innov': 3713, 'tragic': 3714, 'sacramento': 3715, 'divis': 3716, 'offramp': 3717, 'ejxolpu': 3718, 'cn': 3719, 'meinlcymb': 3720, 'endors': 3721, 'alright': 3722, 'mm': 3723, 'snapchat': 3724, 'josh': 3725, 'bl': 3726, 'vn': 3727, 'li': 3728, 'muzzamil': 3729, 'offr': 3730, 'glide': 3731, 'tk': 3732, 'log': 3733, 'stole': 3734, 'fled': 3735, 'calum': 3736, 'wce': 3737, 'samel': 3738, 'bieber': 3739, 'gorgeou': 3740, 'xs': 3741, 'worstsummerjob': 3742, 'wrapup': 3743, 'nike': 3744, 'sportwatch': 3745, 'gp': 3746, 'nikeplu': 3747, 'nick': 3748, 'wine': 3749, 'fighter': 3750, 'infiltr': 3751, 'teenag': 3752, 'cu': 3753, 'cld': 3754, 'sct': 3755, 'bkn': 3756, 'sg': 3757, 'goodby': 3758, 'fi': 3759, 'itz': 3760, 'oi': 3761, 'walter': 3762, 'hoop': 3763, 'recruit': 3764, 'camera': 3765, 'purpos': 3766, 'bulletin': 3767, 'deriv': 3768, 'norman': 3769, 'komen': 3770, 'vanuatu': 3771, 'afmkcfn': 3772, 'talent': 3773, 'ignit': 3774, 'phantom': 3775, 'outfit': 3776, 'vp': 3777, 'gta': 3778, 'windi': 3779, 'fairi': 3780, 'bradleybrad': 3781, 'fenc': 3782, 'homeown': 3783, 'tor': 3784, 'enhanc': 3785, 'key': 3786, 'nda': 3787, 'trillion': 3788, 'inc': 3789, 'inmat': 3790, 'shia': 3791, 'withdraw': 3792, 'xyg': 3793, 'fluid': 3794, 'optic': 3795, 'standard': 3796, 'cawx': 3797, 'grain': 3798, 'anger': 3799, 'permit': 3800, 'partnership': 3801, 'afc': 3802, 'yall': 3803, 'critic': 3804, 'yl': 3805, 'atmospher': 3806, 'goku': 3807, 'legit': 3808, 'sore': 3809, 'sake': 3810, 'kg': 3811, 'moor': 3812, 'mission': 3813, 'unto': 3814, 'upload': 3815, 'rank': 3816, 'hint': 3817, 'xq': 3818, 'palermo': 3819, 'worldwid': 3820, 'contribut': 3821, 'tbe': 3822, 'ironi': 3823, 'older': 3824, 'jn': 3825, 'julian': 3826, 'blackpool': 3827, 'kow': 3828, 'beclearoncanc': 3829, 'adam': 3830, 'walmart': 3831, 'lh': 3832, 'novel': 3833, 'billneelynbc': 3834, 'ys': 3835, 'sincer': 3836, 'unpreced': 3837, 'swing': 3838, 'surf': 3839, 'programm': 3840, 'perhap': 3841, 'heaven': 3842, 'madison': 3843, 'fid': 3844, 'jeff': 3845, 'vinc': 3846, 'mcmahon': 3847, 'billionair': 3848, 'theme': 3849, 'dtr': 3850, 'glimps': 3851, 'hyderabad': 3852, 'com': 3853, 'immigr': 3854, 'forgiv': 3855, 'swarm': 3856, 'hahah': 3857, 'bal': 3858, 'midget': 3859, 'jordan': 3860, 'rg': 3861, 'behead': 3862, 'nostril': 3863, 'peanut': 3864, 'cam': 3865, 'salvi': 3866, 'bistro': 3867, 'consist': 3868, 'freestyl': 3869, 'psa': 3870, 'comp': 3871, 'cont': 3872, 'davidvonderhaar': 3873, 'detain': 3874, 'widespread': 3875, 'jose': 3876, 'kc': 3877, 'domin': 3878, 'bloomberg': 3879, 'simultan': 3880, 'alllivesmatt': 3881, 'necessari': 3882, 'variou': 3883, 'bid': 3884, 'modi': 3885, 'subway': 3886, 'whoa': 3887, 'identitytheft': 3888, 'breakfast': 3889, 'crippl': 3890, 'wheel': 3891, 'closest': 3892, 'durban': 3893, 'biker': 3894, 'undercov': 3895, 'timkain': 3896, 'garfield': 3897, 'followback': 3898, 'calumet': 3899, 'consent': 3900, 'nmfsgkf': 3901, 'applaud': 3902, 'railway': 3903, 'indiannew': 3904, 'tte': 3905, 'helplin': 3906, 'topstori': 3907, 'udz': 3908, 'fel': 3909, 'atl': 3910, 'fran': 3911, 'corleonedaboss': 3912, 'dixon': 3913, 'electro': 3914, 'photoset': 3915, 'sheeran': 3916, 'spanish': 3917, 'despair': 3918, 'wick': 3919, 'thi': 3920, 'carpet': 3921, 'tumblr': 3922, 'sow': 3923, 'totalitarian': 3924, 'employ': 3925, 'firemen': 3926, 'snd': 3927, 'competit': 3928, 'multiplay': 3929, 'ss': 3930, 'shanta': 3931, 'magnet': 3932, 'convinc': 3933, 'denier': 3934, 'tend': 3935, 'ryt': 3936, 'illus': 3937, 'pitcher': 3938, 'ether': 3939, 'chop': 3940, 'megadeth': 3941, 'symphoni': 3942, 'billboard': 3943, 'ultim': 3944, 'meter': 3945, 'grandeur': 3946, 'apollobrown': 3947, 'talkin': 3948, 'losdelsonido': 3949, 'ivanberroa': 3950, 'indoor': 3951, 'cnbc': 3952, 'decad': 3953, 'scandal': 3954, 'environment': 3955, 'korea': 3956, 'juror': 3957, 'gid': 3958, 'ug': 3959, 'strengthen': 3960, 'pirat': 3961, 'acquir': 3962, 'fist': 3963, 'scifi': 3964, 'ng': 3965, 'cgf': 3966, 'fpmr': 3967, 'od': 3968, 'pomo': 3969, 'dydfvz': 3970, 'amj': 3971, 'gofundm': 3972, 'relentless': 3973, 'sep': 3974, 'scwx': 3975, 'extra': 3976, 'gawx': 3977, 'raider': 3978, 'insult': 3979, 'horizon': 3980, 'misha': 3981, 'xx': 3982, 'asylum': 3983, 'seeker': 3984, 'jason': 3985, 'fond': 3986, 'caitlin': 3987, 'kiernan': 3988, 'centiped': 3989, 'constantli': 3990, 'tribun': 3991, 'divert': 3992, 'outflow': 3993, 'vantag': 3994, 'eastbound': 3995, 'riyadh': 3996, 'jf': 3997, 'barrier': 3998, 'fest': 3999, 'circl': 4000, 'renison': 4001, 'tasmania': 4002, 'tin': 4003, 'tem': 4004, 'twentynin': 4005, 'initi': 4006, 'cs': 4007, 'quak': 4008, 'legisl': 4009, 'kindli': 4010, 'tesla': 4011, 'socket': 4012, 'weallheartonedirect': 4013, 'asshol': 4014, 'ew': 4015, 'pakpattan': 4016, 'correspond': 4017, 'tiger': 4018, 'iphon': 4019, 'golem': 4020, 'nankana': 4021, 'sahib': 4022, 'lawsuit': 4023, 'blanket': 4024, 'knife': 4025, 'surgeri': 4026, 'teeth': 4027, 'wale': 4028, 'medicin': 4029, 'kuwait': 4030, 'seed': 4031, 'fruit': 4032, 'asian': 4033, 'firetruck': 4034, 'batfanuk': 4035, 'dl': 4036, 'cityofcalgari': 4037, 'workplac': 4038, 'primarili': 4039, 'incas': 4040, 'pi': 4041, 'feinstein': 4042, 'enact': 4043, 'overload': 4044, 'task': 4045, 'fte': 4046, 'ensur': 4047, 'access': 4048, 'network': 4049, 'thur': 4050, 'vc': 4051, 'missionhil': 4052, 'kodiak': 4053, 'goulburn': 4054, 'henri': 4055, 'hysteria': 4056, 'indiffer': 4057, 'perform': 4058, 'madinah': 4059, 'prophetmuhammad': 4060, 'summit': 4061, 'vault': 4062, 'tanzania': 4063, 'declin': 4064, 'censu': 4065, 'efak': 4066, 'dealbreak': 4067, 'canyon': 4068, 'fifa': 4069, 'tournament': 4070, 'xt': 4071, 'newsgoldcoast': 4072, 'liveonk': 4073, 'sqsyueh': 4074, 'gw': 4075, 'tx': 4076, 'hahahaha': 4077, 'twi': 4078, 'katunew': 4079, 'mandatori': 4080, 'cti': 4081, 'sheriff': 4082, 'ridg': 4083, 'inciweb': 4084, 'pickerel': 4085, 'reid': 4086, 'exam': 4087, 'wj': 4088, 'pu': 4089, 'ryan': 4090, 'mouth': 4091, 'upward': 4092, 'shizun': 4093, 'kendal': 4094, 'jenner': 4095, 'philadelphia': 4096, 'vine': 4097, 'doll': 4098, 'owj': 4099, 'cute': 4100, 'yb': 4101, 'squeez': 4102, 'sarcasm': 4103, 'bean': 4104, 'bastard': 4105, 'arena': 4106, 'uz': 4107, 'fj': 4108, 'wpri': 4109, 'hamburg': 4110, 'poni': 4111, 'cb': 4112, 'pq': 4113, 'wftv': 4114, 'timelin': 4115, 'particularli': 4116, 'abort': 4117, 'closur': 4118, 'jg': 4119, 'vxvfaeey': 4120, 'captiv': 4121, 'pk': 4122, 'macia': 4123, 'testifi': 4124, 'redeem': 4125, 'wolf': 4126, 'diet': 4127, 'starv': 4128, 'rw': 4129, 'bradi': 4130, 'innoc': 4131, 'elijah': 4132, 'waimat': 4133, 'stockton': 4134, 'educ': 4135, 'reserv': 4136, 'deadliest': 4137, 'zero': 4138, 'xh': 4139, 'lobbi': 4140, 'studi': 4141, 'yep': 4142, 'downfal': 4143, 'display': 4144, 'vgbootcamp': 4145, 'vabeng': 4146, 'zss': 4147, 'kosciusko': 4148, 'grass': 4149, 'lebanon': 4150, 'midnight': 4151, 'growingupblack': 4152, 'artist': 4153, 'lk': 4154, 'teach': 4155, 'gd': 4156, 'delus': 4157, 'kt': 4158, 'throne': 4159, 'wcw': 4160, 'trash': 4161, 'phase': 4162, 'btwn': 4163, 'irvin': 4164, 'chp': 4165, 'detour': 4166, 'babe': 4167, 'wayn': 4168, 'ori': 4169, 'njturnpik': 4170, 'sept': 4171, 'curb': 4172, 'alex': 4173, 'fee': 4174, 'tabl': 4175, 'luchaunderground': 4176, 'that': 4177, 'uq': 4178, 'ia': 4179, 'penni': 4180, 'nope': 4181, 'icon': 4182, 'raynor': 4183, 'nose': 4184, 'frog': 4185, 'jewelri': 4186, 'vacat': 4187, 'jkl': 4188, 'knox': 4189, 'ky': 4190, 'prom': 4191, 'nn': 4192, 'alloy': 4193, 'cue': 4194, 'utv': 4195, 'qt': 4196, 'xy': 4197, 'cuban': 4198, 'sympathi': 4199, 'vb': 4200, 'midwest': 4201, 'vision': 4202, 'dinner': 4203, 'monsoon': 4204, 'travi': 4205, 'greg': 4206, 'toni': 4207, 'rspca': 4208, 'sunshin': 4209, 'bengal': 4210, 'mamata': 4211, 'banerje': 4212, 'dvc': 4213, 'bjp': 4214, 'itun': 4215, 'throughout': 4216, 'negro': 4217, 'routecomplex': 4218, 'cole': 4219, 'gx': 4220, 'nightmar': 4221, 'rogu': 4222, 'siskiy': 4223, 'japton': 4224, 'poss': 4225, 'tim': 4226, 'pumpkin': 4227, 'outag': 4228, 'cheryl': 4229, 'unr': 4230, 'weston': 4231, 'custer': 4232, 'pennington': 4233, 'caesar': 4234, 'pound': 4235, 'outdoor': 4236, 'haley': 4237, 'nixon': 4238, 'yycstorm': 4239, 'logan': 4240, 'pot': 4241, 'dv': 4242, 'lrt': 4243, 'metric': 4244, 'pcp': 4245, 'primari': 4246, 'physician': 4247, 'fade': 4248, 'scar': 4249, 'sunni': 4250, 'kraft': 4251, 'eden': 4252, 'preciou': 4253, 'basic': 4254, 'keratin': 4255, 'brazilian': 4256, 'blowout': 4257, 'copycat': 4258, 'meg': 4259, 'typo': 4260, 'foodscar': 4261, 'nestleindia': 4262, 'magginoodl': 4263, 'humanconsumpt': 4264, 'gv': 4265, 'arnhem': 4266, 'unrel': 4267, 'pete': 4268, 'scout': 4269, 'compens': 4270, 'miseri': 4271, 'jw': 4272, 'hn': 4273, 'greatbritishbakeoff': 4274, 'cooler': 4275, 'belt': 4276, 'diablo': 4277, 'tow': 4278, 'missil': 4279, 'homosexu': 4280, 'patch': 4281, 'jeep': 4282, 'oregon': 4283, 'cmon': 4284, 'nbcnew': 4285, 'rx': 4286, 'weigh': 4287, 'notexplain': 4288, 'infam': 4289, 'jlzk': 4290, 'hdetg': 4291, 'aq': 4292, 'samaritan': 4293, 'zg': 4294, 'adopt': 4295, 'pmarca': 4296, 'affili': 4297, 'tlvface': 4298, 'introduc': 4299, 'nomin': 4300, 'surrend': 4301, 'lack': 4302, 'holmgren': 4303, 'minhazmerch': 4304, 'yev': 4305, 'bluedio': 4306, 'headset': 4307, 'blk': 4308, 'meteoearth': 4309, 'mfckpvzfv': 4310, 'surg': 4311, 'chain': 4312, 'bolster': 4313, 'settl': 4314, 'wilsher': 4315, 'elderli': 4316, 'smuggler': 4317, 'cosponsor': 4318, 'renew': 4319, 'tape': 4320, 'regardless': 4321, 'inflict': 4322, 'screw': 4323, 'male': 4324, 'rich': 4325, 'forsur': 4326, 'gym': 4327, 'strain': 4328, 'uu': 4329, 'behavior': 4330, 'lamha': 4331, 'cowboy': 4332, 'jj': 4333, 'bwp': 4334, 'laoi': 4335, 'advertis': 4336, 'igm': 4337, 'applic': 4338, 'kerri': 4339, 'bread': 4340, 'brace': 4341, 'unfortun': 4342, 'geneva': 4343, 'mon': 4344, 'reagan': 4345, 'til': 4346, 'sj': 4347, 'oliv': 4348, 'dip': 4349, 'connector': 4350, 'tourist': 4351, 'downpour': 4352, 'idmhswewqw': 4353, 'shawi': 4354, 'gum': 4355, 'brut': 4356, 'samanthaturn': 4357, 'moral': 4358, 'jecfrv': 4359, 'royalcarribean': 4360, 'debatequestionswewanttohear': 4361, 'dickhead': 4362, 'belong': 4363, 'medal': 4364, 'favourit': 4365, 'itsjustinstuart': 4366, 'rq': 4367, 'alexbelloli': 4368, 'andi': 4369, 'nosurrend': 4370, 'ferrel': 4371, 'comic': 4372, 'tq': 4373, 'bass': 4374, 'seagul': 4375, 'bubbl': 4376, 'harass': 4377, 'magner': 4378, 'rh': 4379, 'leadership': 4380, 'teamhendrick': 4381, 'suprem': 4382, 'ow': 4383, 'sputnik': 4384, 'stu': 4385, 'oso': 4386, 'hipster': 4387, 'dorett': 4388, 'britishbakeoff': 4389, 'cast': 4390, 'colder': 4391, 'profession': 4392, 'guatemala': 4393, 'tepco': 4394, 'denial': 4395, 'circuit': 4396, 'manual': 4397, 'melt': 4398, 'besid': 4399, 'geniu': 4400, 'spectacular': 4401, 'om': 4402, 'wacko': 4403, 'michelebachman': 4404, 'firey': 4405, 'inferno': 4406, 'globalwarm': 4407, 'strip': 4408, 'accustom': 4409, 'festiv': 4410, 'labour': 4411, 'maximum': 4412, 'crude': 4413, 'ta': 4414, 'jhpdssvhve': 4415, 'edinburgh': 4416, 'efg': 4417, 'element': 4418, 'hanpcr': 4419, 'utter': 4420, 'disord': 4421, 'mania': 4422, 'douchebag': 4423, 'newbi': 4424, 'playoff': 4425, 'acoust': 4426, 'montetjwitt': 4427, 'attic': 4428, 'shook': 4429, 'idm': 4430, 'hs': 4431, 'tinder': 4432, 'hurri': 4433, 'obispo': 4434, 'atlant': 4435, 'dailyko': 4436, 'onlinecommun': 4437, 'amageddon': 4438, 'freespeech': 4439, 'edward': 4440, 'zv': 4441, 'doe': 4442, 'proce': 4443, 'gloucest': 4444, 'njenga': 4445, 'jihadi': 4446, 'dutton': 4447, 'lnp': 4448, 'repatri': 4449, 'boko': 4450, 'dedic': 4451, 'ec': 4452, 'qpg': 4453, 'vice': 4454, 'wudlkq': 4455, 'ncx': 4456, 'ypre': 4457, 'ubj': 4458, 'opera': 4459, 'dopey': 4460, 'await': 4461, 'contain': 4462, 'tactic': 4463, 'eac': 4464, 'cindi': 4465, 'noonan': 4466, 'cindynoonan': 4467, 'heartbreak': 4468, 'yahistor': 4469, 'undergroundrailraod': 4470, 'plenti': 4471, 'suh': 4472, 'kk': 4473, 'relationship': 4474, 'dumb': 4475, 'mina': 4476, 'chonc': 4477, 'camilacabello': 4478, 'saku': 4479, 'appropri': 4480, 'buddha': 4481, 'oppos': 4482, 'marek': 4483, 'agenc': 4484, 'bethlehem': 4485, 'fdni': 4486, 'evansvil': 4487, 'neighborhood': 4488, 'wew': 4489, 'prioriti': 4490, 'darkest': 4491, 'mafia': 4492, 'bumper': 4493, 'role': 4494, 'foxi': 4495, 'aniston': 4496, 'tui': 4497, 'buck': 4498, 'fevwarrior': 4499, 'marketforc': 4500, 'shark': 4501, 'blunt': 4502, 'austin': 4503, 'bre': 4504, 'desk': 4505, 'oak': 4506, 'hampshir': 4507, 'treeporn': 4508, 'june': 4509, 'ahh': 4510, 'sippin': 4511, 'cockpit': 4512, 'eastern': 4513, 'graze': 4514, 'rightway': 4515, 'vz': 4516, 'irh': 4517, 'nmm': 4518, 'rightwaystan': 4519, 'defect': 4520, 'ntsb': 4521, 'feder': 4522, 'hom': 4523, 'suruc': 4524, 'uo': 4525, 'shatter': 4526, 'aquarium': 4527, 'stomach': 4528, 'yup': 4529, 'background': 4530, 'coral': 4531, 'but': 4532, 'navig': 4533, 'wud': 4534, 'cain': 4535, 'session': 4536, 'gb': 4537, 'acid': 4538, 'haunt': 4539, 'narrat': 4540, 'glenn': 4541, 'jacqui': 4542, 'cub': 4543, 'omega': 4544, 'religion': 4545, 'rayner': 4546, 'newsarama': 4547, 'perspect': 4548, 'disown': 4549, 'nave': 4550, 'mkcbkcov': 4551, 'privaci': 4552, 'usnwsgov': 4553, 'picken': 4554, 'helsinki': 4555, 'ski': 4556, 'hy': 4557, 'eastward': 4558, 'eudrylantiqua': 4559, 'ey': 4560, 'esteem': 4561, 'mock': 4562, 'flashback': 4563, 'hahaha': 4564, 'thetwist': 4565, 'og': 4566, 'abcnew': 4567, 'thegam': 4568, 'audienc': 4569, 'newberg': 4570, 'jacqu': 4571, 'betz': 4572, 'hardi': 4573, 'diageo': 4574, 'revolt': 4575, 'watertown': 4576, 'tunein': 4577, 'xssgedsbh': 4578, 'jupit': 4579, 'schiphol': 4580, 'aogashima': 4581, 'karymski': 4582, 'thuggin': 4583, 'testimoni': 4584, 'rapidc': 4585, 'cheyenn': 4586, 'dannyonpc': 4587, 'hardlin': 4588, 'throwingknif': 4589, 'td': 4590, 'highli': 4591, 'listenl': 4592, 'scariest': 4593, 'fifti': 4594, 'ekiti': 4595, 'gunmen': 4596, 'exc': 4597, 'wocowa': 4598, 'bicep': 4599, 'jonathanferrel': 4600, 'kashmir': 4601, 'saf': 4602, 'mosksn': 4603, 'friggin': 4604, 'lover': 4605, 'bbcmtd': 4606, 'lhyxeohi': 4607, 'yao': 4608, 'xngw': 4609, 'africanbaz': 4610, 'nndbgwyei': 4611, 'qqsmshaj': 4612, 'phdsquar': 4613, 'epl': 4614, 'imaomknna': 4615, 'ancop': 4616, 'vida': 4617, 'vl': 4618, 'tbr': 4619, 'wbr': 4620, 'retain': 4621, 'gwnrhmso': 4622, 'ahoucza': 4623, 'elizabeth': 4624, 'superintend': 4625, 'lanford': 4626, 'vplr': 4627, 'hka': 4628, 'sxhw': 4629, 'tnnlf': 4630, 'deliber': 4631, 'carolina': 4632, 'pcxarbh': 4633, 'noch': 4634, 'bestia': 4635, 'teammat': 4636, 'goodnight': 4637, 'gunner': 4638, 'jhvgr': 4639, 'trampl': 4640, 'vandal': 4641, 'diyala': 4642, 'izfdyc': 4643, 'voortrekk': 4644, 'tambo': 4645, 'intl': 4646, 'kscqkfkkf': 4647, 'cyompz': 4648, 'icsjgz': 4649, 'fxmn': 4650, 'greet': 4651, 'pen': 4652, 'fxpixqujt': 4653, 'jacinta': 4654, 'mar': 4655, 'mlmsuzv': 4656, 'navista': 4657, 'tinderbox': 4658, 'hood': 4659, 'buff': 4660, 'jsjfftc': 4661, 'nxwestmidland': 4662, 'rwzbfvnxer': 4663, 'testicl': 4664, 'nashvilletraff': 4665, 'egj': 4666, 'santaclara': 4667, 'bayarea': 4668, 'pmlohzurwr': 4669, 'gkye': 4670, 'gjtk': 4671, 'personalinjuri': 4672, 'advic': 4673, 'otleyhour': 4674, 'stloui': 4675, 'caraccidentlawy': 4676, 'zomof': 4677, 'kxvm': 4678, 'cba': 4679, 'curri': 4680, 'herman': 4681, 'stephenson': 4682, 'ybjezkurw': 4683, 'bigrigradio': 4684, 'ramp': 4685, 'ysxun': 4686, 'vceh': 4687, 'cabrillo': 4688, 'magellan': 4689, 'mir': 4690, 'congest': 4691, 'pastor': 4692, 'truckcrash': 4693, 'fortworth': 4694, 'lj': 4695, 'qfp': 4696, 'uniyw': 4697, 'ashvil': 4698, 'hylmo': 4699, 'wgfi': 4700, 'naayf': 4701, 'chandane': 4702, 'magu': 4703, 'halfway': 4704, 'conf': 4705, 'eddi': 4706, 'wpd': 4707, 'aashiqui': 4708, 'anu': 4709, 'aggarw': 4710, 'otfp': 4711, 'lqw': 4712, 'suffield': 4713, 'bptmlf': 4714, 'langtre': 4715, 'hagerstown': 4716, 'whag': 4717, 'flowri': 4718, 'marinad': 4719, 'norwaymfa': 4720, 'bahrain': 4721, 'gfjfgtodad': 4722, 'disciplinari': 4723, 'cya': 4724, 'bannist': 4725, 'ynxnvvkcda': 4726, 'weqpesenku': 4727, 'dwight': 4728, 'eisenhow': 4729, 'schulz': 4730, 'harder': 4731, 'xmwodfmtui': 4732, 'jdzmgjow': 4733, 'uhasfkbv': 4734, 'kjforday': 4735, 'wisdomw': 4736, 'bonu': 4737, 'lifehack': 4738, 'tbm': 4739, 'fqb': 4740, 'wiedem': 4741, 'wztz': 4742, 'hgmvq': 4743, 'ntuc': 4744, 'esquireattir': 4745, 'osteen': 4746, 'prais': 4747, 'ministri': 4748, 'wdyouth': 4749, 'biblestudi': 4750, 'ujk': 4751, 'gbcc': 4752, 'interrupt': 4753, 'bernard': 4754, 'oyster': 4755, 'carnegi': 4756, 'yvvpznzmxg': 4757, 'bohrd': 4758, 'crobscarla': 4759, 'bkpfpogysi': 4760, 'osama': 4761, 'mhmmm': 4762, 'tyjxrfd': 4763, 'kztevb': 4764, 'cessna': 4765, 'ocampo': 4766, 'watchthevideo': 4767, 'xrvgjik': 4768, 'lsmx': 4769, 'vwr': 4770, 'kca': 4771, 'votejkt': 4772, 'mbataweel': 4773, 'binladen': 4774, 'mickinyman': 4775, 'theatlant': 4776, 'tagzbcxfj': 4777, 'wjsgphl': 4778, 'tfcdronra': 4779, 'usama': 4780, 'ladin': 4781, 'gibyqhhkpk': 4782, 'ffylajwp': 4783, 'nicol': 4784, 'fletcher': 4785, 'xdxdprcpn': 4786, 'jetengin': 4787, 'turbojet': 4788, 'bo': 4789, 'kxxnszp': 4790, 'statist': 4791, 'colombia': 4792, 'zhjlflbhzl': 4793, 'iecc': 4794, 'jdoub': 4795, 'rgngjf': 4796, 'zzcupnz': 4797, 'pfeaqeski': 4798, 'fntg': 4799, 'rnkx': 4800, 'emsn': 4801, 'mj': 4802, 'psv': 4803, 'aberystwyth': 4804, 'shrewsburi': 4805, 'shrew': 4806, 'evttqpeia': 4807, 'nanotech': 4808, 'clot': 4809, 'hfi': 4810, 'slbb': 4811, 'skyhawkmm': 4812, 'traplord': 4813, 'fredosantana': 4814, 'lilrees': 4815, 'mosh': 4816, 'justsay': 4817, 'randomthought': 4818, 'xglah': 4819, 'thmblaatzp': 4820, 'tanslash': 4821, 'ivrzojzv': 4822, 'thenissonian': 4823, 'rejectdcartoon': 4824, 'nissan': 4825, 'emt': 4826, 'per': 4827, 'minimum': 4828, 'wage': 4829, 'swlxmr': 4830, 'brme': 4831, 'ujrx': 4832, 'kgawp': 4833, 'aut': 4834, 'kiwi': 4835, 'karyn': 4836, 'hpvodud': 4837, 'pwwpum': 4838, 'rbj': 4839, 'yspon': 4840, 'leoblakecart': 4841, 'lpgr': 4842, 'natasha': 4843, 'rideout': 4844, 'hatzolah': 4845, 'sek': 4846, 'njf': 4847, 'fuerk': 4848, 'gwui': 4849, 'ggglmvc': 4850, 'ywbbeet': 4851, 'qsjod': 4852, 'tyt': 4853, 'xrrk': 4854, 'nazoi': 4855, 'freiza': 4856, 'cleanest': 4857, 'petebest': 4858, 'dessic': 4859, 'kneel': 4860, 'marksmaponyan': 4861, 'sundown': 4862, 'acarewornheart': 4863, 'thrhkhogcu': 4864, 'tzszmf': 4865, 'qxe': 4866, 'irfcn': 4867, 'szv': 4868, 'sxi': 4869, 'minu': 4870, 'toenail': 4871, 'oryx': 4872, 'symbol': 4873, 'peninsula': 4874, 'yangeqbuqw': 4875, 'kglt': 4876, 'philipduncan': 4877, 'breakfaston': 4878, 'philip': 4879, 'stormbeard': 4880, 'juda': 4881, 'astonish': 4882, 'fant': 4883, 'stic': 4884, 'cech': 4885, 'sirbrandonknt': 4886, 'lesnar': 4887, 'cena': 4888, 'summerslam': 4889, 'damascu': 4890, 'grind': 4891, 'alloosh': 4892, 'manur': 4893, 'rakhp': 4894, 'bwm': 4895, 'simmon': 4896, 'camden': 4897, 'handsom': 4898, 'jno': 4899, 'zkv': 4900, 'juanni': 4901, 'beisbol': 4902, 'lgm': 4903, 'rvfriedmann': 4904, 'lodisilverado': 4905, 'ritzi': 4906, 'quarterstaff': 4907, 'nskz': 4908, 'starmad': 4909, 'stardat': 4910, 'planetari': 4911, 'hhviumtm': 4912, 'sbua': 4913, 'kimkardashian': 4914, 'tssxphufe': 4915, 'theellenshow': 4916, 'signatur': 4917, 'qxjweqqu': 4918, 'zhp': 4919, 'sowxri': 4920, 'misguid': 4921, 'imprison': 4922, 'matijwkzbh': 4923, 'kasich': 4924, 'tantonationalforest': 4925, 'rollingston': 4926, 'wvobvvtxkg': 4927, 'sonofbaldwin': 4928, 'nova': 4929, 'bookslast': 4930, 'jxql': 4931, 'fekgybi': 4932, 'shccj': 4933, 'fukurodani': 4934, 'bokuto': 4935, 'ppor': 4936, 'internetradio': 4937, 'collegeradi': 4938, 'honeybunzgem': 4939, 'primalkitchen': 4940, 'interpret': 4941, 'uwijn': 4942, 'romeo': 4943, 'juliet': 4944, 'warmbodi': 4945, 'candylit': 4946, 'sarumi': 4947, 'xizkjfff': 4948, 'biblic': 4949, 'alexandrapullin': 4950, 'grizzli': 4951, 'cairo': 4952, 'fs': 4953, 'trudg': 4954, 'yahootv': 4955, 'huthxlkyxi': 4956, 'freshli': 4957, 'coif': 4958, 'avysss': 4959, 'russaki': 4960, 'katiekatcub': 4961, 'hsu': 4962, 'hao': 4963, 'enew': 4964, 'eonlinechat': 4965, 'certainti': 4966, 'nsa': 4967, 'qycw': 4968, 'jjaj': 4969, 'hyider': 4970, 'ghost': 4971, 'fighterdena': 4972, 'startrek': 4973, 'dcsk': 4974, 'ucsudk': 4975, 'aberdeenfc': 4976, 'aberdeenfanpag': 4977, 'coeffici': 4978, 'plz': 4979, 'paddytomlinson': 4980, 'gbxafi': 4981, 'hgcbxukz': 4982, 'kopkcyvtt': 4983, 'goof': 4984, 'guild': 4985, 'saunder': 4986, 'hkbxxvd': 4987, 'karnythia': 4988, 'doomsday': 4989, 'shtf': 4990, 'preppertalk': 4991, 'vpqtgeqlma': 4992, 'erker': 4993, 'eep': 4994, 'ethic': 4995, 'stftjcrjea': 4996, 'patron': 4997, 'samihonkonen': 4998, 'blueprint': 4999}\n"
          ],
          "name": "stdout"
        }
      ]
    },
    {
      "cell_type": "code",
      "metadata": {
        "id": "Yej3wTZ3cxs2",
        "colab_type": "code",
        "colab": {}
      },
      "source": [
        "def convert_and_pad(word_dict, sentence, pad=500):\n",
        "    NOWORD = 0 # We will use 0 to represent the 'no word' category\n",
        "    INFREQ = 1 # and we use 1 to represent the infrequent words, i.e., words not appearing in word_dict\n",
        "    \n",
        "    working_sentence = [NOWORD] * pad\n",
        "    \n",
        "    for word_index, word in enumerate(sentence[:pad]):\n",
        "        if word in word_dict:\n",
        "            working_sentence[word_index] = word_dict[word]\n",
        "        else:\n",
        "            working_sentence[word_index] = INFREQ\n",
        "            \n",
        "    return working_sentence, min(len(sentence), pad)\n",
        "\n",
        "def convert_and_pad_data(word_dict, data, pad=500):\n",
        "    result = []\n",
        "    lengths = []\n",
        "    \n",
        "    for sentence in data:\n",
        "        converted, leng = convert_and_pad(word_dict, sentence, pad)\n",
        "        result.append(converted)\n",
        "        lengths.append(leng)\n",
        "        \n",
        "    return np.array(result), np.array(lengths)"
      ],
      "execution_count": 0,
      "outputs": []
    },
    {
      "cell_type": "code",
      "metadata": {
        "id": "bbSRcc-4c5eI",
        "colab_type": "code",
        "colab": {
          "base_uri": "https://localhost:8080/",
          "height": 255
        },
        "outputId": "99b99c31-d556-413d-c278-9a6dd77ef426"
      },
      "source": [
        "train_df_int, train_df_len = convert_and_pad_data(word_dict, train_df['text'])\n",
        "tr_df = pd.DataFrame(np.concatenate((train_df, train_df_int), axis=1))\n",
        "train_y = tr_df[0]\n",
        "train_X = tr_df.loc[:,10:]\n",
        "print(train_X)\n",
        "pd.concat([pd.DataFrame(train_y), pd.DataFrame(train_X)], axis=1) \\\n",
        "        .to_csv(os.path.join('train_2.csv'), header=False)\n",
        "#print(tr_df)"
      ],
      "execution_count": 12,
      "outputs": [
        {
          "output_type": "stream",
          "text": [
            "       10    11    12    13    14    15  16   ... 498 499 500 501 502 503 504\n",
            "0        2  4607    41     0     0     0   0  ...   0   0   0   0   0   0   0\n",
            "1       79     3     2  4608    60  4609   0  ...   0   0   0   0   0   0   0\n",
            "2      154   434   825     3     2  4611   0  ...   0   0   0   0   0   0   0\n",
            "3        0     0     0     0     0     0   0  ...   0   0   0   0   0   0   0\n",
            "4      247   434     3     2  4612    55   0  ...   0   0   0   0   0   0   0\n",
            "...    ...   ...   ...   ...   ...   ...  ..  ...  ..  ..  ..  ..  ..  ..  ..\n",
            "5075     1     1     0     0     0     0   0  ...   0   0   0   0   0   0   0\n",
            "5076   120   625     1   803   151     1   0  ...   0   0   0   0   0   0   0\n",
            "5077   120  4564     1    35    12     0   0  ...   0   0   0   0   0   0   0\n",
            "5078   424   120  1031   387     3     2   1  ...   0   0   0   0   0   0   0\n",
            "5079  3220   299   346   120     3     2   1  ...   0   0   0   0   0   0   0\n",
            "\n",
            "[5080 rows x 495 columns]\n"
          ],
          "name": "stdout"
        }
      ]
    },
    {
      "cell_type": "code",
      "metadata": {
        "id": "U6uVatoCNnoW",
        "colab_type": "code",
        "colab": {}
      },
      "source": [
        "import sagemaker\n",
        "\n",
        "sagemaker_session = sagemaker.Session()\n",
        "\n",
        "bucket = sagemaker_session.default_bucket()\n",
        "prefix = 'sagemaker/sentiment_rnn'\n",
        "\n",
        "role = sagemaker.get_execution_role()"
      ],
      "execution_count": 0,
      "outputs": []
    },
    {
      "cell_type": "code",
      "metadata": {
        "id": "Gi-MTCT5Nu4k",
        "colab_type": "code",
        "colab": {}
      },
      "source": [
        "input_data = sagemaker_session.upload_data(path=data_dir, bucket=bucket, key_prefix=prefix)"
      ],
      "execution_count": 0,
      "outputs": []
    },
    {
      "cell_type": "code",
      "metadata": {
        "id": "ytN7QK94ww-l",
        "colab_type": "code",
        "colab": {}
      },
      "source": [
        "#from google.colab import files\n",
        "#uploaded = files.upload()\n",
        "#print(tr_df[0].values)"
      ],
      "execution_count": 0,
      "outputs": []
    },
    {
      "cell_type": "code",
      "metadata": {
        "id": "uJbAuzOXKYCb",
        "colab_type": "code",
        "colab": {
          "base_uri": "https://localhost:8080/",
          "height": 136
        },
        "outputId": "d63ecf51-6874-4eea-929e-bf912b805864"
      },
      "source": [
        "import torch\n",
        "import torch.utils.data\n",
        "\n",
        "# Read in only the first 250 rows\n",
        "train_sample = pd.read_csv(os.path.join('train_2.csv'), header=None, names=None, nrows=5000)\n",
        "#print(train_sample.dtypes)\n",
        "# Turn the input pandas dataframe into tensors\n",
        "train_sample_y = torch.from_numpy(train_sample[[0]].values).float().squeeze()\n",
        "train_sample_X = torch.from_numpy(train_sample.drop([0], axis=1).values).long()\n",
        "\n",
        "# Build the dataset\n",
        "train_sample_ds = torch.utils.data.TensorDataset(train_sample_X, train_sample_y)\n",
        "# Build the dataloader\n",
        "train_sample_dl = torch.utils.data.DataLoader(train_sample_ds, batch_size=50)\n",
        "print(train_sample_X)"
      ],
      "execution_count": 14,
      "outputs": [
        {
          "output_type": "stream",
          "text": [
            "tensor([[   1,    2, 4607,  ...,    0,    0,    0],\n",
            "        [   0,   79,    3,  ...,    0,    0,    0],\n",
            "        [   1,  154,  434,  ...,    0,    0,    0],\n",
            "        ...,\n",
            "        [   1,  101,   82,  ...,    0,    0,    0],\n",
            "        [   0,    1, 2768,  ...,    0,    0,    0],\n",
            "        [   0,    1,  710,  ...,    0,    0,    0]])\n"
          ],
          "name": "stdout"
        }
      ]
    },
    {
      "cell_type": "code",
      "metadata": {
        "id": "ih8smlsstX_6",
        "colab_type": "code",
        "colab": {}
      },
      "source": [
        "def train(model, train_loader, epochs, optimizer, loss_fn, device):\n",
        "    counter = 0\n",
        "    \n",
        "    for epoch in range(1, epochs + 1):\n",
        "        model.train()\n",
        "        total_loss = 0\n",
        "        #h = model.init(batch_size)\n",
        "        for batch in train_loader:         \n",
        "            #print(batch)\n",
        "            batch_X, batch_y = batch\n",
        "            \n",
        "            batch_X = batch_X.to(device)\n",
        "            batch_y = batch_y.to(device)\n",
        "            \n",
        "            # TODO: Complete this train method to train the model provided.\n",
        "            \n",
        "            # zero accumulated gradients\n",
        "            model.zero_grad()\n",
        "\n",
        "            # get the output from the model\n",
        "            output = model(batch_X)\n",
        "\n",
        "            # calculate the loss and perform backprop\n",
        "            loss = loss_fn(output, batch_y)\n",
        "            #print(1)\n",
        "            loss.backward()\n",
        "            \n",
        "            # `clip_grad_norm` helps prevent the exploding gradient problem in RNNs / LSTMs.\n",
        "            optimizer.step()\n",
        "            \n",
        "            \n",
        "            total_loss += loss.data.item()\n",
        "        print(\"Epoch: {}, BCELoss: {}\".format(epoch, total_loss / len(train_loader)))"
      ],
      "execution_count": 0,
      "outputs": []
    },
    {
      "cell_type": "code",
      "metadata": {
        "id": "vjTkd9uDtaAk",
        "colab_type": "code",
        "colab": {
          "base_uri": "https://localhost:8080/",
          "height": 102
        },
        "outputId": "03890559-c105-453c-ef3c-462d494dbcba"
      },
      "source": [
        "import torch.optim as optim\n",
        "from model import LSTMClassifier\n",
        "\n",
        "device = torch.device(\"cuda\" if torch.cuda.is_available() else \"cpu\")\n",
        "model = LSTMClassifier(32, 100, 5000).to(device)\n",
        "optimizer = optim.Adam(model.parameters())\n",
        "loss_fn = torch.nn.BCELoss()\n",
        "\n",
        "train(model, train_sample_dl, 5\n",
        "      , optimizer, loss_fn, device)"
      ],
      "execution_count": 16,
      "outputs": [
        {
          "output_type": "stream",
          "text": [
            "Epoch: 1, BCELoss: -15756.895185580253\n",
            "Epoch: 2, BCELoss: -42196.18384658814\n",
            "Epoch: 3, BCELoss: -44947.233293762205\n",
            "Epoch: 4, BCELoss: -49188.07648376465\n",
            "Epoch: 5, BCELoss: -54306.140727844235\n"
          ],
          "name": "stdout"
        }
      ]
    },
    {
      "cell_type": "code",
      "metadata": {
        "id": "mDLP8vJNLYn8",
        "colab_type": "code",
        "colab": {
          "base_uri": "https://localhost:8080/",
          "height": 881
        },
        "outputId": "6ffee41f-035b-4563-af1e-85095b77a9e2"
      },
      "source": [
        "!pip install sagemaker\n",
        "from sagemaker.pytorch import PyTorch\n",
        "\n",
        "estimator = PyTorch(entry_point=\"train.py\",\n",
        "                    source_dir=\"train\",\n",
        "                    role=role,\n",
        "                    framework_version='0.4.0',\n",
        "                    train_instance_count=1,\n",
        "                    train_instance_type='ml.p2.xlarge',\n",
        "                    hyperparameters={\n",
        "                        'epochs': 10,\n",
        "                        'hidden_dim': 200,\n",
        "                    })"
      ],
      "execution_count": 19,
      "outputs": [
        {
          "output_type": "stream",
          "text": [
            "Collecting sagemaker\n",
            "\u001b[?25l  Downloading https://files.pythonhosted.org/packages/a1/66/35b315841dd332407530c4650da823730b51dee5bd47a600f430b4672a68/sagemaker-1.50.9.post0.tar.gz (294kB)\n",
            "\r\u001b[K     |█▏                              | 10kB 17.2MB/s eta 0:00:01\r\u001b[K     |██▎                             | 20kB 3.2MB/s eta 0:00:01\r\u001b[K     |███▍                            | 30kB 4.0MB/s eta 0:00:01\r\u001b[K     |████▌                           | 40kB 3.0MB/s eta 0:00:01\r\u001b[K     |█████▋                          | 51kB 3.4MB/s eta 0:00:01\r\u001b[K     |██████▊                         | 61kB 4.0MB/s eta 0:00:01\r\u001b[K     |███████▉                        | 71kB 4.3MB/s eta 0:00:01\r\u001b[K     |█████████                       | 81kB 4.3MB/s eta 0:00:01\r\u001b[K     |██████████                      | 92kB 4.8MB/s eta 0:00:01\r\u001b[K     |███████████▏                    | 102kB 4.7MB/s eta 0:00:01\r\u001b[K     |████████████▎                   | 112kB 4.7MB/s eta 0:00:01\r\u001b[K     |█████████████▍                  | 122kB 4.7MB/s eta 0:00:01\r\u001b[K     |██████████████▌                 | 133kB 4.7MB/s eta 0:00:01\r\u001b[K     |███████████████▋                | 143kB 4.7MB/s eta 0:00:01\r\u001b[K     |████████████████▊               | 153kB 4.7MB/s eta 0:00:01\r\u001b[K     |█████████████████▉              | 163kB 4.7MB/s eta 0:00:01\r\u001b[K     |███████████████████             | 174kB 4.7MB/s eta 0:00:01\r\u001b[K     |████████████████████            | 184kB 4.7MB/s eta 0:00:01\r\u001b[K     |█████████████████████▏          | 194kB 4.7MB/s eta 0:00:01\r\u001b[K     |██████████████████████▎         | 204kB 4.7MB/s eta 0:00:01\r\u001b[K     |███████████████████████▍        | 215kB 4.7MB/s eta 0:00:01\r\u001b[K     |████████████████████████▌       | 225kB 4.7MB/s eta 0:00:01\r\u001b[K     |█████████████████████████▋      | 235kB 4.7MB/s eta 0:00:01\r\u001b[K     |██████████████████████████▊     | 245kB 4.7MB/s eta 0:00:01\r\u001b[K     |███████████████████████████▉    | 256kB 4.7MB/s eta 0:00:01\r\u001b[K     |█████████████████████████████   | 266kB 4.7MB/s eta 0:00:01\r\u001b[K     |██████████████████████████████  | 276kB 4.7MB/s eta 0:00:01\r\u001b[K     |███████████████████████████████▏| 286kB 4.7MB/s eta 0:00:01\r\u001b[K     |████████████████████████████████| 296kB 4.7MB/s \n",
            "\u001b[?25hRequirement already satisfied: boto3>=1.10.44 in /usr/local/lib/python3.6/dist-packages (from sagemaker) (1.11.10)\n",
            "Requirement already satisfied: numpy>=1.9.0 in /usr/local/lib/python3.6/dist-packages (from sagemaker) (1.17.5)\n",
            "Requirement already satisfied: protobuf>=3.1 in /usr/local/lib/python3.6/dist-packages (from sagemaker) (3.10.0)\n",
            "Requirement already satisfied: scipy>=0.19.0 in /usr/local/lib/python3.6/dist-packages (from sagemaker) (1.4.1)\n",
            "Collecting protobuf3-to-dict>=0.1.5\n",
            "  Downloading https://files.pythonhosted.org/packages/6b/55/522bb43539fed463275ee803d79851faaebe86d17e7e3dbc89870d0322b9/protobuf3-to-dict-0.1.5.tar.gz\n",
            "Requirement already satisfied: requests<3,>=2.20.0 in /usr/local/lib/python3.6/dist-packages (from sagemaker) (2.21.0)\n",
            "Collecting smdebug-rulesconfig==0.1.2\n",
            "  Downloading https://files.pythonhosted.org/packages/36/08/b0d1d30f5c1e11a2d12af3b940cf5673dc5bbb67517d815807ae855abc5e/smdebug_rulesconfig-0.1.2-py2.py3-none-any.whl\n",
            "Requirement already satisfied: importlib-metadata>=1.4.0 in /usr/local/lib/python3.6/dist-packages (from sagemaker) (1.5.0)\n",
            "Requirement already satisfied: packaging>=20.0 in /usr/local/lib/python3.6/dist-packages (from sagemaker) (20.1)\n",
            "Requirement already satisfied: s3transfer<0.4.0,>=0.3.0 in /usr/local/lib/python3.6/dist-packages (from boto3>=1.10.44->sagemaker) (0.3.2)\n",
            "Requirement already satisfied: botocore<1.15.0,>=1.14.10 in /usr/local/lib/python3.6/dist-packages (from boto3>=1.10.44->sagemaker) (1.14.10)\n",
            "Requirement already satisfied: jmespath<1.0.0,>=0.7.1 in /usr/local/lib/python3.6/dist-packages (from boto3>=1.10.44->sagemaker) (0.9.4)\n",
            "Requirement already satisfied: setuptools in /usr/local/lib/python3.6/dist-packages (from protobuf>=3.1->sagemaker) (45.1.0)\n",
            "Requirement already satisfied: six>=1.9 in /usr/local/lib/python3.6/dist-packages (from protobuf>=3.1->sagemaker) (1.12.0)\n",
            "Requirement already satisfied: certifi>=2017.4.17 in /usr/local/lib/python3.6/dist-packages (from requests<3,>=2.20.0->sagemaker) (2019.11.28)\n",
            "Requirement already satisfied: idna<2.9,>=2.5 in /usr/local/lib/python3.6/dist-packages (from requests<3,>=2.20.0->sagemaker) (2.8)\n",
            "Requirement already satisfied: chardet<3.1.0,>=3.0.2 in /usr/local/lib/python3.6/dist-packages (from requests<3,>=2.20.0->sagemaker) (3.0.4)\n",
            "Requirement already satisfied: urllib3<1.25,>=1.21.1 in /usr/local/lib/python3.6/dist-packages (from requests<3,>=2.20.0->sagemaker) (1.24.3)\n",
            "Requirement already satisfied: zipp>=0.5 in /usr/local/lib/python3.6/dist-packages (from importlib-metadata>=1.4.0->sagemaker) (2.1.0)\n",
            "Requirement already satisfied: pyparsing>=2.0.2 in /usr/local/lib/python3.6/dist-packages (from packaging>=20.0->sagemaker) (2.4.6)\n",
            "Requirement already satisfied: docutils<0.16,>=0.10 in /usr/local/lib/python3.6/dist-packages (from botocore<1.15.0,>=1.14.10->boto3>=1.10.44->sagemaker) (0.15.2)\n",
            "Requirement already satisfied: python-dateutil<3.0.0,>=2.1 in /usr/local/lib/python3.6/dist-packages (from botocore<1.15.0,>=1.14.10->boto3>=1.10.44->sagemaker) (2.6.1)\n",
            "Building wheels for collected packages: sagemaker, protobuf3-to-dict\n",
            "  Building wheel for sagemaker (setup.py) ... \u001b[?25l\u001b[?25hdone\n",
            "  Created wheel for sagemaker: filename=sagemaker-1.50.9.post0-py2.py3-none-any.whl size=395362 sha256=4202530de1804ceb34234ce0d5eb7ab3dab74685d0861f44431f10a31a5d6301\n",
            "  Stored in directory: /root/.cache/pip/wheels/68/70/fb/240cd8ae3d5d4076fcf0848527007e3da7242a91fab6b41edd\n",
            "  Building wheel for protobuf3-to-dict (setup.py) ... \u001b[?25l\u001b[?25hdone\n",
            "  Created wheel for protobuf3-to-dict: filename=protobuf3_to_dict-0.1.5-cp36-none-any.whl size=4031 sha256=27c95a99a2e79cde6cf16073b9548fbc31f5a2b4ed76ac1d99de7207bbfef293\n",
            "  Stored in directory: /root/.cache/pip/wheels/37/42/d8/1609d310cabebc2cf60eca038fa2b0c8503412963734a6fc31\n",
            "Successfully built sagemaker protobuf3-to-dict\n",
            "Installing collected packages: protobuf3-to-dict, smdebug-rulesconfig, sagemaker\n",
            "Successfully installed protobuf3-to-dict-0.1.5 sagemaker-1.50.9.post0 smdebug-rulesconfig-0.1.2\n"
          ],
          "name": "stdout"
        },
        {
          "output_type": "error",
          "ename": "NameError",
          "evalue": "ignored",
          "traceback": [
            "\u001b[0;31m---------------------------------------------------------------------------\u001b[0m",
            "\u001b[0;31mNameError\u001b[0m                                 Traceback (most recent call last)",
            "\u001b[0;32m<ipython-input-19-34040a9bfd9c>\u001b[0m in \u001b[0;36m<module>\u001b[0;34m()\u001b[0m\n\u001b[1;32m      4\u001b[0m estimator = PyTorch(entry_point=\"train.py\",\n\u001b[1;32m      5\u001b[0m                     \u001b[0msource_dir\u001b[0m\u001b[0;34m=\u001b[0m\u001b[0;34m\"train\"\u001b[0m\u001b[0;34m,\u001b[0m\u001b[0;34m\u001b[0m\u001b[0;34m\u001b[0m\u001b[0m\n\u001b[0;32m----> 6\u001b[0;31m                     \u001b[0mrole\u001b[0m\u001b[0;34m=\u001b[0m\u001b[0mrole\u001b[0m\u001b[0;34m,\u001b[0m\u001b[0;34m\u001b[0m\u001b[0;34m\u001b[0m\u001b[0m\n\u001b[0m\u001b[1;32m      7\u001b[0m                     \u001b[0mframework_version\u001b[0m\u001b[0;34m=\u001b[0m\u001b[0;34m'0.4.0'\u001b[0m\u001b[0;34m,\u001b[0m\u001b[0;34m\u001b[0m\u001b[0;34m\u001b[0m\u001b[0m\n\u001b[1;32m      8\u001b[0m                     \u001b[0mtrain_instance_count\u001b[0m\u001b[0;34m=\u001b[0m\u001b[0;36m1\u001b[0m\u001b[0;34m,\u001b[0m\u001b[0;34m\u001b[0m\u001b[0;34m\u001b[0m\u001b[0m\n",
            "\u001b[0;31mNameError\u001b[0m: name 'role' is not defined"
          ]
        }
      ]
    },
    {
      "cell_type": "code",
      "metadata": {
        "id": "x0U4CeAELd0V",
        "colab_type": "code",
        "colab": {}
      },
      "source": [
        "estimator.fit({'training': input_data})"
      ],
      "execution_count": 0,
      "outputs": []
    },
    {
      "cell_type": "code",
      "metadata": {
        "id": "J9vl-E5aJu8p",
        "colab_type": "code",
        "colab": {}
      },
      "source": [
        "# TODO: Deploy the trained model\n",
        "predictor = estimator.deploy(initial_instance_count = 1, instance_type = 'ml.p2.xlarge')"
      ],
      "execution_count": 0,
      "outputs": []
    },
    {
      "cell_type": "code",
      "metadata": {
        "id": "gEks-XVAOU_5",
        "colab_type": "code",
        "colab": {}
      },
      "source": [
        "test_X = pd.concat([pd.DataFrame(test_X_len), pd.DataFrame(test_X)], axis=1)"
      ],
      "execution_count": 0,
      "outputs": []
    },
    {
      "cell_type": "code",
      "metadata": {
        "id": "94Z9UC1TOaJH",
        "colab_type": "code",
        "colab": {}
      },
      "source": [
        "# We split the data into chunks and send each chunk seperately, accumulating the results.\n",
        "\n",
        "def predict(data, rows=512):\n",
        "    split_array = np.array_split(data, int(data.shape[0] / float(rows) + 1))\n",
        "    predictions = np.array([])\n",
        "    for array in split_array:\n",
        "        predictions = np.append(predictions, predictor.predict(array))\n",
        "    \n",
        "    return predictions"
      ],
      "execution_count": 0,
      "outputs": []
    },
    {
      "cell_type": "code",
      "metadata": {
        "id": "HEBBxqQcOdZh",
        "colab_type": "code",
        "colab": {}
      },
      "source": [
        "predictions = predict(test_X.values)\n",
        "predictions = [round(num) for num in predictions]"
      ],
      "execution_count": 0,
      "outputs": []
    },
    {
      "cell_type": "code",
      "metadata": {
        "id": "XR16Zmb0OhZM",
        "colab_type": "code",
        "colab": {}
      },
      "source": [
        "from sklearn.metrics import accuracy_score\n",
        "accuracy_score(test_y, predictions)"
      ],
      "execution_count": 0,
      "outputs": []
    },
    {
      "cell_type": "code",
      "metadata": {
        "id": "3y4wADM5Oo7T",
        "colab_type": "code",
        "colab": {}
      },
      "source": [
        "estimator.delete_endpoint()"
      ],
      "execution_count": 0,
      "outputs": []
    },
    {
      "cell_type": "code",
      "metadata": {
        "id": "Jhra-uBxPWZm",
        "colab_type": "code",
        "colab": {}
      },
      "source": [
        "from sagemaker.predictor import RealTimePredictor\n",
        "from sagemaker.pytorch import PyTorchModel\n",
        "\n",
        "class StringPredictor(RealTimePredictor):\n",
        "    def __init__(self, endpoint_name, sagemaker_session):\n",
        "        super(StringPredictor, self).__init__(endpoint_name, sagemaker_session, content_type='text/plain')\n",
        "\n",
        "model = PyTorchModel(model_data=estimator.model_data,\n",
        "                     role = role,\n",
        "                     framework_version='0.4.0',\n",
        "                     entry_point='predict.py',\n",
        "                     source_dir='serve',\n",
        "                     predictor_cls=StringPredictor)\n",
        "predictor = model.deploy(initial_instance_count=1, instance_type='ml.p2.xlarge')"
      ],
      "execution_count": 0,
      "outputs": []
    },
    {
      "cell_type": "code",
      "metadata": {
        "id": "dgydZQhcPZVi",
        "colab_type": "code",
        "colab": {}
      },
      "source": [
        "import glob\n",
        "\n",
        "def test_reviews(data_dir='../data/aclImdb', stop=250):\n",
        "    \n",
        "    results = []\n",
        "    ground = []\n",
        "    \n",
        "    # We make sure to test both positive and negative reviews    \n",
        "    for sentiment in ['pos', 'neg']:\n",
        "        \n",
        "        path = os.path.join(data_dir, 'test', sentiment, '*.txt')\n",
        "        files = glob.glob(path)\n",
        "        \n",
        "        files_read = 0\n",
        "        \n",
        "        print('Starting ', sentiment, ' files')\n",
        "        \n",
        "        # Iterate through the files and send them to the predictor\n",
        "        for f in files:\n",
        "            with open(f) as review:\n",
        "                # First, we store the ground truth (was the review positive or negative)\n",
        "                if sentiment == 'pos':\n",
        "                    ground.append(1)\n",
        "                else:\n",
        "                    ground.append(0)\n",
        "                # Read in the review and convert to 'utf-8' for transmission via HTTP\n",
        "                review_input = review.read().encode('utf-8')\n",
        "                # Send the review to the predictor and store the results\n",
        "                results.append(int(float(predictor.predict(review_input))))\n",
        "                \n",
        "            # Sending reviews to our endpoint one at a time takes a while so we\n",
        "            # only send a small number of reviews\n",
        "            files_read += 1\n",
        "            if files_read == stop:\n",
        "                break\n",
        "            \n",
        "    return ground, results"
      ],
      "execution_count": 0,
      "outputs": []
    },
    {
      "cell_type": "code",
      "metadata": {
        "id": "DNVRMtxKPda7",
        "colab_type": "code",
        "colab": {}
      },
      "source": [
        "ground, results = test_reviews()"
      ],
      "execution_count": 0,
      "outputs": []
    },
    {
      "cell_type": "code",
      "metadata": {
        "id": "yCkuC5moPg7M",
        "colab_type": "code",
        "colab": {}
      },
      "source": [
        "from sklearn.metrics import accuracy_score\n",
        "accuracy_score(ground, results)"
      ],
      "execution_count": 0,
      "outputs": []
    }
  ]
}